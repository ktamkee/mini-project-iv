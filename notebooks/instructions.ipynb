{
 "cells": [
  {
   "cell_type": "markdown",
   "metadata": {},
   "source": [
    "# Loan predictions\n",
    "\n",
    "## Problem Statement\n",
    "\n",
    "We want to automate the loan eligibility process based on customer details that are provided as online application forms are being filled. You can find the dataset [here](https://drive.google.com/file/d/1h_jl9xqqqHflI5PsuiQd_soNYxzFfjKw/view?usp=sharing). These details concern the customer's Gender, Marital Status, Education, Number of Dependents, Income, Loan Amount, Credit History and other things as well. \n",
    "\n",
    "|Variable| Description|\n",
    "|: ------------- |:-------------|\n",
    "|Loan_ID| Unique Loan ID|\n",
    "|Gender| Male/ Female|\n",
    "|Married| Applicant married (Y/N)|\n",
    "|Dependents| Number of dependents|\n",
    "|Education| Applicant Education (Graduate/ Under Graduate)|\n",
    "|Self_Employed| Self employed (Y/N)|\n",
    "|ApplicantIncome| Applicant income|\n",
    "|CoapplicantIncome| Coapplicant income|\n",
    "|LoanAmount| Loan amount in thousands|\n",
    "|Loan_Amount_Term| Term of loan in months|\n",
    "|Credit_History| credit history meets guidelines|\n",
    "|Property_Area| Urban/ Semi Urban/ Rural|\n",
    "|Loan_Status| Loan approved (Y/N)\n",
    "\n",
    "\n",
    "\n",
    "### Explore the problem in following stages:\n",
    "\n",
    "1. Hypothesis Generation – understanding the problem better by brainstorming possible factors that can impact the outcome\n",
    "2. Data Exploration – looking at categorical and continuous feature summaries and making inferences about the data.\n",
    "3. Data Cleaning – imputing missing values in the data and checking for outliers\n",
    "4. Feature Engineering – modifying existing variables and creating new ones for analysis\n",
    "5. Model Building – making predictive models on the data"
   ]
  },
  {
   "cell_type": "markdown",
   "metadata": {},
   "source": [
    "## 1. Hypothesis Generation\n",
    "\n",
    "Generating a hypothesis is a major step in the process of analyzing data. This involves understanding the problem and formulating a meaningful hypothesis about what could potentially have a good impact on the outcome. This is done BEFORE looking at the data, and we end up creating a laundry list of the different analyses which we can potentially perform if data is available.\n",
    "\n",
    "#### Possible hypotheses\n",
    "Which applicants are more likely to get a loan\n",
    "\n",
    "1. Applicants having a credit history \n",
    "2. Applicants with higher applicant and co-applicant incomes\n",
    "3. Applicants with higher education level\n",
    "4. Properties in urban areas with high growth perspectives\n",
    "5. Applicants with smaller loan amounts\n",
    "6. Applicants who are married\n",
    "7. Applicants with less dependants\n",
    "8. Applicants who are not self-employed\n",
    "9. Applicants with longer loan terms\n",
    "\n",
    "Do more brainstorming and create some hypotheses of your own. Remember that the data might not be sufficient to test all of these, but forming these enables a better understanding of the problem."
   ]
  },
  {
   "cell_type": "markdown",
   "metadata": {},
   "source": [
    "## 2. Data Exploration\n",
    "Let's do some basic data exploration here and come up with some inferences about the data. Go ahead and try to figure out some irregularities and address them in the next section. "
   ]
  },
  {
   "cell_type": "code",
   "execution_count": 601,
   "metadata": {
    "collapsed": false,
    "jupyter": {
     "outputs_hidden": false
    }
   },
   "outputs": [
    {
     "data": {
      "text/html": [
       "<div>\n",
       "<style scoped>\n",
       "    .dataframe tbody tr th:only-of-type {\n",
       "        vertical-align: middle;\n",
       "    }\n",
       "\n",
       "    .dataframe tbody tr th {\n",
       "        vertical-align: top;\n",
       "    }\n",
       "\n",
       "    .dataframe thead th {\n",
       "        text-align: right;\n",
       "    }\n",
       "</style>\n",
       "<table border=\"1\" class=\"dataframe\">\n",
       "  <thead>\n",
       "    <tr style=\"text-align: right;\">\n",
       "      <th></th>\n",
       "      <th>Loan_ID</th>\n",
       "      <th>Gender</th>\n",
       "      <th>Married</th>\n",
       "      <th>Dependents</th>\n",
       "      <th>Education</th>\n",
       "      <th>Self_Employed</th>\n",
       "      <th>ApplicantIncome</th>\n",
       "      <th>CoapplicantIncome</th>\n",
       "      <th>LoanAmount</th>\n",
       "      <th>Loan_Amount_Term</th>\n",
       "      <th>Credit_History</th>\n",
       "      <th>Property_Area</th>\n",
       "      <th>Loan_Status</th>\n",
       "    </tr>\n",
       "  </thead>\n",
       "  <tbody>\n",
       "    <tr>\n",
       "      <th>0</th>\n",
       "      <td>LP001002</td>\n",
       "      <td>Male</td>\n",
       "      <td>No</td>\n",
       "      <td>0</td>\n",
       "      <td>Graduate</td>\n",
       "      <td>No</td>\n",
       "      <td>5849</td>\n",
       "      <td>0.0</td>\n",
       "      <td>NaN</td>\n",
       "      <td>360.0</td>\n",
       "      <td>1.0</td>\n",
       "      <td>Urban</td>\n",
       "      <td>Y</td>\n",
       "    </tr>\n",
       "    <tr>\n",
       "      <th>1</th>\n",
       "      <td>LP001003</td>\n",
       "      <td>Male</td>\n",
       "      <td>Yes</td>\n",
       "      <td>1</td>\n",
       "      <td>Graduate</td>\n",
       "      <td>No</td>\n",
       "      <td>4583</td>\n",
       "      <td>1508.0</td>\n",
       "      <td>128.0</td>\n",
       "      <td>360.0</td>\n",
       "      <td>1.0</td>\n",
       "      <td>Rural</td>\n",
       "      <td>N</td>\n",
       "    </tr>\n",
       "    <tr>\n",
       "      <th>2</th>\n",
       "      <td>LP001005</td>\n",
       "      <td>Male</td>\n",
       "      <td>Yes</td>\n",
       "      <td>0</td>\n",
       "      <td>Graduate</td>\n",
       "      <td>Yes</td>\n",
       "      <td>3000</td>\n",
       "      <td>0.0</td>\n",
       "      <td>66.0</td>\n",
       "      <td>360.0</td>\n",
       "      <td>1.0</td>\n",
       "      <td>Urban</td>\n",
       "      <td>Y</td>\n",
       "    </tr>\n",
       "    <tr>\n",
       "      <th>3</th>\n",
       "      <td>LP001006</td>\n",
       "      <td>Male</td>\n",
       "      <td>Yes</td>\n",
       "      <td>0</td>\n",
       "      <td>Not Graduate</td>\n",
       "      <td>No</td>\n",
       "      <td>2583</td>\n",
       "      <td>2358.0</td>\n",
       "      <td>120.0</td>\n",
       "      <td>360.0</td>\n",
       "      <td>1.0</td>\n",
       "      <td>Urban</td>\n",
       "      <td>Y</td>\n",
       "    </tr>\n",
       "    <tr>\n",
       "      <th>4</th>\n",
       "      <td>LP001008</td>\n",
       "      <td>Male</td>\n",
       "      <td>No</td>\n",
       "      <td>0</td>\n",
       "      <td>Graduate</td>\n",
       "      <td>No</td>\n",
       "      <td>6000</td>\n",
       "      <td>0.0</td>\n",
       "      <td>141.0</td>\n",
       "      <td>360.0</td>\n",
       "      <td>1.0</td>\n",
       "      <td>Urban</td>\n",
       "      <td>Y</td>\n",
       "    </tr>\n",
       "  </tbody>\n",
       "</table>\n",
       "</div>"
      ],
      "text/plain": [
       "    Loan_ID Gender Married Dependents     Education Self_Employed  \\\n",
       "0  LP001002   Male      No          0      Graduate            No   \n",
       "1  LP001003   Male     Yes          1      Graduate            No   \n",
       "2  LP001005   Male     Yes          0      Graduate           Yes   \n",
       "3  LP001006   Male     Yes          0  Not Graduate            No   \n",
       "4  LP001008   Male      No          0      Graduate            No   \n",
       "\n",
       "   ApplicantIncome  CoapplicantIncome  LoanAmount  Loan_Amount_Term  \\\n",
       "0             5849                0.0         NaN             360.0   \n",
       "1             4583             1508.0       128.0             360.0   \n",
       "2             3000                0.0        66.0             360.0   \n",
       "3             2583             2358.0       120.0             360.0   \n",
       "4             6000                0.0       141.0             360.0   \n",
       "\n",
       "   Credit_History Property_Area Loan_Status  \n",
       "0             1.0         Urban           Y  \n",
       "1             1.0         Rural           N  \n",
       "2             1.0         Urban           Y  \n",
       "3             1.0         Urban           Y  \n",
       "4             1.0         Urban           Y  "
      ]
     },
     "execution_count": 601,
     "metadata": {},
     "output_type": "execute_result"
    }
   ],
   "source": [
    "import pandas as pd\n",
    "import numpy as np\n",
    "from matplotlib import pyplot as plt\n",
    "\n",
    "df = pd.read_csv(\"/Users/karina/GitHub//mini-project-iv/data/data.csv\") \n",
    "df.head()"
   ]
  },
  {
   "cell_type": "markdown",
   "metadata": {},
   "source": [
    "One of the key challenges in any data set are missing values. Lets start by checking which columns contain missing values."
   ]
  },
  {
   "cell_type": "code",
   "execution_count": 602,
   "metadata": {},
   "outputs": [
    {
     "data": {
      "text/html": [
       "<div>\n",
       "<style scoped>\n",
       "    .dataframe tbody tr th:only-of-type {\n",
       "        vertical-align: middle;\n",
       "    }\n",
       "\n",
       "    .dataframe tbody tr th {\n",
       "        vertical-align: top;\n",
       "    }\n",
       "\n",
       "    .dataframe thead th {\n",
       "        text-align: right;\n",
       "    }\n",
       "</style>\n",
       "<table border=\"1\" class=\"dataframe\">\n",
       "  <thead>\n",
       "    <tr style=\"text-align: right;\">\n",
       "      <th></th>\n",
       "      <th>Total</th>\n",
       "      <th>Percent</th>\n",
       "    </tr>\n",
       "  </thead>\n",
       "  <tbody>\n",
       "    <tr>\n",
       "      <th>Credit_History</th>\n",
       "      <td>50</td>\n",
       "      <td>0.081433</td>\n",
       "    </tr>\n",
       "    <tr>\n",
       "      <th>Self_Employed</th>\n",
       "      <td>32</td>\n",
       "      <td>0.052117</td>\n",
       "    </tr>\n",
       "    <tr>\n",
       "      <th>LoanAmount</th>\n",
       "      <td>22</td>\n",
       "      <td>0.035831</td>\n",
       "    </tr>\n",
       "    <tr>\n",
       "      <th>Dependents</th>\n",
       "      <td>15</td>\n",
       "      <td>0.024430</td>\n",
       "    </tr>\n",
       "    <tr>\n",
       "      <th>Loan_Amount_Term</th>\n",
       "      <td>14</td>\n",
       "      <td>0.022801</td>\n",
       "    </tr>\n",
       "    <tr>\n",
       "      <th>Gender</th>\n",
       "      <td>13</td>\n",
       "      <td>0.021173</td>\n",
       "    </tr>\n",
       "    <tr>\n",
       "      <th>Married</th>\n",
       "      <td>3</td>\n",
       "      <td>0.004886</td>\n",
       "    </tr>\n",
       "    <tr>\n",
       "      <th>Loan_ID</th>\n",
       "      <td>0</td>\n",
       "      <td>0.000000</td>\n",
       "    </tr>\n",
       "    <tr>\n",
       "      <th>Education</th>\n",
       "      <td>0</td>\n",
       "      <td>0.000000</td>\n",
       "    </tr>\n",
       "    <tr>\n",
       "      <th>ApplicantIncome</th>\n",
       "      <td>0</td>\n",
       "      <td>0.000000</td>\n",
       "    </tr>\n",
       "    <tr>\n",
       "      <th>CoapplicantIncome</th>\n",
       "      <td>0</td>\n",
       "      <td>0.000000</td>\n",
       "    </tr>\n",
       "    <tr>\n",
       "      <th>Property_Area</th>\n",
       "      <td>0</td>\n",
       "      <td>0.000000</td>\n",
       "    </tr>\n",
       "    <tr>\n",
       "      <th>Loan_Status</th>\n",
       "      <td>0</td>\n",
       "      <td>0.000000</td>\n",
       "    </tr>\n",
       "  </tbody>\n",
       "</table>\n",
       "</div>"
      ],
      "text/plain": [
       "                   Total   Percent\n",
       "Credit_History        50  0.081433\n",
       "Self_Employed         32  0.052117\n",
       "LoanAmount            22  0.035831\n",
       "Dependents            15  0.024430\n",
       "Loan_Amount_Term      14  0.022801\n",
       "Gender                13  0.021173\n",
       "Married                3  0.004886\n",
       "Loan_ID                0  0.000000\n",
       "Education              0  0.000000\n",
       "ApplicantIncome        0  0.000000\n",
       "CoapplicantIncome      0  0.000000\n",
       "Property_Area          0  0.000000\n",
       "Loan_Status            0  0.000000"
      ]
     },
     "execution_count": 602,
     "metadata": {},
     "output_type": "execute_result"
    }
   ],
   "source": [
    "total = df.isnull().sum().sort_values(ascending=False)\n",
    "percent = (df.isnull().sum()/df.isnull().count()).sort_values(ascending=False)\n",
    "missing_data = pd.concat([total, percent], axis=1, keys=['Total', 'Percent'])\n",
    "missing_data"
   ]
  },
  {
   "cell_type": "markdown",
   "metadata": {},
   "source": [
    "Look at some basic statistics for numerical variables."
   ]
  },
  {
   "cell_type": "code",
   "execution_count": 603,
   "metadata": {
    "collapsed": false,
    "jupyter": {
     "outputs_hidden": false
    }
   },
   "outputs": [
    {
     "data": {
      "text/html": [
       "<div>\n",
       "<style scoped>\n",
       "    .dataframe tbody tr th:only-of-type {\n",
       "        vertical-align: middle;\n",
       "    }\n",
       "\n",
       "    .dataframe tbody tr th {\n",
       "        vertical-align: top;\n",
       "    }\n",
       "\n",
       "    .dataframe thead th {\n",
       "        text-align: right;\n",
       "    }\n",
       "</style>\n",
       "<table border=\"1\" class=\"dataframe\">\n",
       "  <thead>\n",
       "    <tr style=\"text-align: right;\">\n",
       "      <th></th>\n",
       "      <th>ApplicantIncome</th>\n",
       "      <th>CoapplicantIncome</th>\n",
       "      <th>LoanAmount</th>\n",
       "      <th>Loan_Amount_Term</th>\n",
       "      <th>Credit_History</th>\n",
       "    </tr>\n",
       "  </thead>\n",
       "  <tbody>\n",
       "    <tr>\n",
       "      <th>0</th>\n",
       "      <td>5849</td>\n",
       "      <td>0.0</td>\n",
       "      <td>NaN</td>\n",
       "      <td>360.0</td>\n",
       "      <td>1.0</td>\n",
       "    </tr>\n",
       "    <tr>\n",
       "      <th>1</th>\n",
       "      <td>4583</td>\n",
       "      <td>1508.0</td>\n",
       "      <td>128.0</td>\n",
       "      <td>360.0</td>\n",
       "      <td>1.0</td>\n",
       "    </tr>\n",
       "    <tr>\n",
       "      <th>2</th>\n",
       "      <td>3000</td>\n",
       "      <td>0.0</td>\n",
       "      <td>66.0</td>\n",
       "      <td>360.0</td>\n",
       "      <td>1.0</td>\n",
       "    </tr>\n",
       "    <tr>\n",
       "      <th>3</th>\n",
       "      <td>2583</td>\n",
       "      <td>2358.0</td>\n",
       "      <td>120.0</td>\n",
       "      <td>360.0</td>\n",
       "      <td>1.0</td>\n",
       "    </tr>\n",
       "    <tr>\n",
       "      <th>4</th>\n",
       "      <td>6000</td>\n",
       "      <td>0.0</td>\n",
       "      <td>141.0</td>\n",
       "      <td>360.0</td>\n",
       "      <td>1.0</td>\n",
       "    </tr>\n",
       "  </tbody>\n",
       "</table>\n",
       "</div>"
      ],
      "text/plain": [
       "   ApplicantIncome  CoapplicantIncome  LoanAmount  Loan_Amount_Term  \\\n",
       "0             5849                0.0         NaN             360.0   \n",
       "1             4583             1508.0       128.0             360.0   \n",
       "2             3000                0.0        66.0             360.0   \n",
       "3             2583             2358.0       120.0             360.0   \n",
       "4             6000                0.0       141.0             360.0   \n",
       "\n",
       "   Credit_History  \n",
       "0             1.0  \n",
       "1             1.0  \n",
       "2             1.0  \n",
       "3             1.0  \n",
       "4             1.0  "
      ]
     },
     "execution_count": 603,
     "metadata": {},
     "output_type": "execute_result"
    }
   ],
   "source": [
    "df_numeric = df.select_dtypes(include=['float64', 'int64'])\n",
    "df_numeric.head()"
   ]
  },
  {
   "cell_type": "markdown",
   "metadata": {},
   "source": [
    "1. How many applicants have a `Credit_History`? (`Credit_History` has value 1 for those who have a credit history and 0 otherwise)\n",
    "2. Is the `ApplicantIncome` distribution in line with your expectation? Similarly, what about `CoapplicantIncome`?\n",
    "3. Tip: Can you see a possible skewness in the data by comparing the mean to the median, i.e. the 50% figure of a feature.\n",
    "\n"
   ]
  },
  {
   "cell_type": "markdown",
   "metadata": {},
   "source": [
    "Let's discuss nominal (categorical) variable. Look at the number of unique values in each of them."
   ]
  },
  {
   "cell_type": "code",
   "execution_count": 604,
   "metadata": {
    "collapsed": false,
    "jupyter": {
     "outputs_hidden": false
    }
   },
   "outputs": [
    {
     "data": {
      "text/html": [
       "<div>\n",
       "<style scoped>\n",
       "    .dataframe tbody tr th:only-of-type {\n",
       "        vertical-align: middle;\n",
       "    }\n",
       "\n",
       "    .dataframe tbody tr th {\n",
       "        vertical-align: top;\n",
       "    }\n",
       "\n",
       "    .dataframe thead th {\n",
       "        text-align: right;\n",
       "    }\n",
       "</style>\n",
       "<table border=\"1\" class=\"dataframe\">\n",
       "  <thead>\n",
       "    <tr style=\"text-align: right;\">\n",
       "      <th></th>\n",
       "      <th>Loan_ID</th>\n",
       "      <th>Gender</th>\n",
       "      <th>Married</th>\n",
       "      <th>Dependents</th>\n",
       "      <th>Education</th>\n",
       "      <th>Self_Employed</th>\n",
       "      <th>Property_Area</th>\n",
       "      <th>Loan_Status</th>\n",
       "    </tr>\n",
       "  </thead>\n",
       "  <tbody>\n",
       "    <tr>\n",
       "      <th>0</th>\n",
       "      <td>LP001002</td>\n",
       "      <td>Male</td>\n",
       "      <td>No</td>\n",
       "      <td>0</td>\n",
       "      <td>Graduate</td>\n",
       "      <td>No</td>\n",
       "      <td>Urban</td>\n",
       "      <td>Y</td>\n",
       "    </tr>\n",
       "    <tr>\n",
       "      <th>1</th>\n",
       "      <td>LP001003</td>\n",
       "      <td>Male</td>\n",
       "      <td>Yes</td>\n",
       "      <td>1</td>\n",
       "      <td>Graduate</td>\n",
       "      <td>No</td>\n",
       "      <td>Rural</td>\n",
       "      <td>N</td>\n",
       "    </tr>\n",
       "    <tr>\n",
       "      <th>2</th>\n",
       "      <td>LP001005</td>\n",
       "      <td>Male</td>\n",
       "      <td>Yes</td>\n",
       "      <td>0</td>\n",
       "      <td>Graduate</td>\n",
       "      <td>Yes</td>\n",
       "      <td>Urban</td>\n",
       "      <td>Y</td>\n",
       "    </tr>\n",
       "    <tr>\n",
       "      <th>3</th>\n",
       "      <td>LP001006</td>\n",
       "      <td>Male</td>\n",
       "      <td>Yes</td>\n",
       "      <td>0</td>\n",
       "      <td>Not Graduate</td>\n",
       "      <td>No</td>\n",
       "      <td>Urban</td>\n",
       "      <td>Y</td>\n",
       "    </tr>\n",
       "    <tr>\n",
       "      <th>4</th>\n",
       "      <td>LP001008</td>\n",
       "      <td>Male</td>\n",
       "      <td>No</td>\n",
       "      <td>0</td>\n",
       "      <td>Graduate</td>\n",
       "      <td>No</td>\n",
       "      <td>Urban</td>\n",
       "      <td>Y</td>\n",
       "    </tr>\n",
       "  </tbody>\n",
       "</table>\n",
       "</div>"
      ],
      "text/plain": [
       "    Loan_ID Gender Married Dependents     Education Self_Employed  \\\n",
       "0  LP001002   Male      No          0      Graduate            No   \n",
       "1  LP001003   Male     Yes          1      Graduate            No   \n",
       "2  LP001005   Male     Yes          0      Graduate           Yes   \n",
       "3  LP001006   Male     Yes          0  Not Graduate            No   \n",
       "4  LP001008   Male      No          0      Graduate            No   \n",
       "\n",
       "  Property_Area Loan_Status  \n",
       "0         Urban           Y  \n",
       "1         Rural           N  \n",
       "2         Urban           Y  \n",
       "3         Urban           Y  \n",
       "4         Urban           Y  "
      ]
     },
     "execution_count": 604,
     "metadata": {},
     "output_type": "execute_result"
    }
   ],
   "source": [
    "df_cat = df.select_dtypes(include='object')\n",
    "df_cat.head()"
   ]
  },
  {
   "cell_type": "markdown",
   "metadata": {},
   "source": [
    "Explore further using the frequency of different categories in each nominal variable. Exclude the ID obvious reasons."
   ]
  },
  {
   "cell_type": "code",
   "execution_count": 605,
   "metadata": {
    "collapsed": false,
    "jupyter": {
     "outputs_hidden": false
    }
   },
   "outputs": [
    {
     "data": {
      "text/plain": [
       "Male      489\n",
       "Female    112\n",
       "Name: Gender, dtype: int64"
      ]
     },
     "execution_count": 605,
     "metadata": {},
     "output_type": "execute_result"
    }
   ],
   "source": [
    "df_cat.Gender.value_counts()"
   ]
  },
  {
   "cell_type": "code",
   "execution_count": 606,
   "metadata": {},
   "outputs": [
    {
     "data": {
      "text/plain": [
       "Yes    398\n",
       "No     213\n",
       "Name: Married, dtype: int64"
      ]
     },
     "execution_count": 606,
     "metadata": {},
     "output_type": "execute_result"
    }
   ],
   "source": [
    "df_cat.Married.value_counts()"
   ]
  },
  {
   "cell_type": "code",
   "execution_count": 607,
   "metadata": {},
   "outputs": [
    {
     "data": {
      "text/plain": [
       "0     345\n",
       "1     102\n",
       "2     101\n",
       "3+     51\n",
       "Name: Dependents, dtype: int64"
      ]
     },
     "execution_count": 607,
     "metadata": {},
     "output_type": "execute_result"
    }
   ],
   "source": [
    "df_cat.Dependents.value_counts()"
   ]
  },
  {
   "cell_type": "code",
   "execution_count": 608,
   "metadata": {},
   "outputs": [
    {
     "data": {
      "text/plain": [
       "No     500\n",
       "Yes     82\n",
       "Name: Self_Employed, dtype: int64"
      ]
     },
     "execution_count": 608,
     "metadata": {},
     "output_type": "execute_result"
    }
   ],
   "source": [
    "df_cat.Self_Employed.value_counts()"
   ]
  },
  {
   "cell_type": "code",
   "execution_count": 609,
   "metadata": {},
   "outputs": [
    {
     "data": {
      "text/plain": [
       "Semiurban    233\n",
       "Urban        202\n",
       "Rural        179\n",
       "Name: Property_Area, dtype: int64"
      ]
     },
     "execution_count": 609,
     "metadata": {},
     "output_type": "execute_result"
    }
   ],
   "source": [
    "df_cat.Property_Area.value_counts()"
   ]
  },
  {
   "cell_type": "code",
   "execution_count": 610,
   "metadata": {},
   "outputs": [
    {
     "data": {
      "text/plain": [
       "Y    422\n",
       "N    192\n",
       "Name: Loan_Status, dtype: int64"
      ]
     },
     "execution_count": 610,
     "metadata": {},
     "output_type": "execute_result"
    }
   ],
   "source": [
    "df_cat.Loan_Status.value_counts()"
   ]
  },
  {
   "cell_type": "markdown",
   "metadata": {},
   "source": [
    "### Distribution analysis\n",
    "\n",
    "Study distribution of various variables. Plot the histogram of ApplicantIncome, try different number of bins.\n",
    "\n"
   ]
  },
  {
   "cell_type": "code",
   "execution_count": 611,
   "metadata": {
    "collapsed": false,
    "jupyter": {
     "outputs_hidden": false
    }
   },
   "outputs": [
    {
     "data": {
      "application/vnd.plotly.v1+json": {
       "config": {
        "plotlyServerURL": "https://plot.ly"
       },
       "data": [
        {
         "alignmentgroup": "True",
         "bingroup": "x",
         "hovertemplate": "ApplicantIncome=%{x}<br>count=%{y}<extra></extra>",
         "legendgroup": "",
         "marker": {
          "color": "#636efa",
          "pattern": {
           "shape": ""
          }
         },
         "name": "",
         "nbinsx": 30,
         "offsetgroup": "",
         "orientation": "v",
         "showlegend": false,
         "type": "histogram",
         "x": [
          5849,
          4583,
          3000,
          2583,
          6000,
          5417,
          2333,
          3036,
          4006,
          12841,
          3200,
          2500,
          3073,
          1853,
          1299,
          4950,
          3596,
          3510,
          4887,
          2600,
          7660,
          5955,
          2600,
          3365,
          3717,
          9560,
          2799,
          4226,
          1442,
          3750,
          4166,
          3167,
          4692,
          3500,
          12500,
          2275,
          1828,
          3667,
          4166,
          3748,
          3600,
          1800,
          2400,
          3941,
          4695,
          3410,
          5649,
          5821,
          2645,
          4000,
          1928,
          3086,
          4230,
          4616,
          11500,
          2708,
          2132,
          3366,
          8080,
          3357,
          2500,
          3029,
          2609,
          4945,
          4166,
          5726,
          3200,
          10750,
          7100,
          4300,
          3208,
          1875,
          3500,
          4755,
          5266,
          3750,
          3750,
          1000,
          3167,
          3333,
          3846,
          2395,
          1378,
          6000,
          3988,
          2366,
          3333,
          2500,
          8566,
          5695,
          2958,
          6250,
          3273,
          4133,
          3620,
          6782,
          2484,
          1977,
          4188,
          1759,
          4288,
          4843,
          13650,
          4652,
          3816,
          3052,
          11417,
          7333,
          3800,
          2071,
          5316,
          2929,
          3572,
          7451,
          5050,
          14583,
          3167,
          2214,
          5568,
          10408,
          5667,
          4166,
          2137,
          2957,
          4300,
          3692,
          23803,
          3865,
          10513,
          6080,
          20166,
          2014,
          2718,
          3459,
          4895,
          4000,
          4583,
          3316,
          14999,
          4200,
          5042,
          5417,
          6950,
          2698,
          11757,
          2330,
          14866,
          1538,
          10000,
          4860,
          6277,
          2577,
          9166,
          2281,
          3254,
          39999,
          6000,
          9538,
          2980,
          4583,
          1863,
          7933,
          3089,
          4167,
          9323,
          3707,
          4583,
          2439,
          2237,
          8000,
          1820,
          51763,
          3522,
          5708,
          4344,
          3497,
          2045,
          5516,
          3750,
          2333,
          6400,
          1916,
          4600,
          33846,
          3625,
          39147,
          2178,
          2383,
          674,
          9328,
          4885,
          12000,
          6033,
          3858,
          4191,
          3125,
          8333,
          1907,
          3416,
          11000,
          2600,
          4923,
          3992,
          3500,
          3917,
          4408,
          3244,
          3975,
          2479,
          3418,
          10000,
          3430,
          7787,
          5703,
          3173,
          3850,
          150,
          3727,
          5000,
          4283,
          2221,
          4009,
          2971,
          7578,
          6250,
          3250,
          4735,
          6250,
          4758,
          6400,
          2491,
          3716,
          3189,
          8333,
          3155,
          5500,
          5746,
          3463,
          3812,
          3315,
          5819,
          2510,
          2965,
          6250,
          3406,
          6050,
          9703,
          6608,
          2882,
          1809,
          1668,
          3427,
          2583,
          2661,
          16250,
          3083,
          6045,
          5250,
          14683,
          4931,
          6083,
          2060,
          3481,
          7200,
          5166,
          4095,
          4708,
          4333,
          3418,
          2876,
          3237,
          11146,
          2833,
          2620,
          3900,
          2750,
          3993,
          3103,
          14583,
          4100,
          4053,
          3927,
          2301,
          1811,
          20667,
          3158,
          2600,
          3704,
          4124,
          9508,
          3075,
          4400,
          3153,
          5417,
          2383,
          4416,
          6875,
          4666,
          5000,
          2014,
          1800,
          2875,
          5000,
          1625,
          4000,
          2000,
          3762,
          2400,
          20233,
          7667,
          2917,
          2927,
          2507,
          5746,
          2473,
          3399,
          3717,
          2058,
          3541,
          10000,
          2400,
          4342,
          3601,
          3166,
          15000,
          8666,
          4917,
          5818,
          4333,
          2500,
          4384,
          2935,
          2833,
          63337,
          9833,
          5503,
          5250,
          2500,
          1830,
          4160,
          2647,
          2378,
          4554,
          3173,
          2583,
          2499,
          3523,
          3083,
          6333,
          2625,
          9083,
          8750,
          2666,
          5500,
          2423,
          3813,
          8333,
          3875,
          3000,
          5167,
          4723,
          5000,
          4750,
          3013,
          6822,
          6216,
          2500,
          5124,
          6325,
          19730,
          15759,
          5185,
          9323,
          3062,
          2764,
          4817,
          8750,
          4310,
          3069,
          5391,
          3333,
          5941,
          6000,
          7167,
          4566,
          3667,
          2346,
          3010,
          2333,
          5488,
          9167,
          9504,
          2583,
          1993,
          3100,
          3276,
          3180,
          3033,
          3902,
          1500,
          2889,
          2755,
          2500,
          1963,
          7441,
          4547,
          2167,
          2213,
          8300,
          81000,
          3867,
          6256,
          6096,
          2253,
          2149,
          2995,
          2600,
          1600,
          1025,
          3246,
          5829,
          2720,
          1820,
          7250,
          14880,
          2666,
          4606,
          5935,
          2920,
          2717,
          8624,
          6500,
          12876,
          2425,
          3750,
          10047,
          1926,
          2213,
          10416,
          7142,
          3660,
          7901,
          4707,
          37719,
          7333,
          3466,
          4652,
          3539,
          3340,
          2769,
          2309,
          1958,
          3948,
          2483,
          7085,
          3859,
          4301,
          3708,
          4354,
          8334,
          2083,
          7740,
          3015,
          5191,
          4166,
          6000,
          2947,
          16692,
          210,
          4333,
          3450,
          2653,
          4691,
          2500,
          5532,
          16525,
          6700,
          2873,
          16667,
          2947,
          4350,
          3095,
          2083,
          10833,
          8333,
          1958,
          3547,
          18333,
          4583,
          2435,
          2699,
          5333,
          3691,
          17263,
          3597,
          3326,
          2600,
          4625,
          2895,
          6283,
          645,
          3159,
          4865,
          4050,
          3814,
          3510,
          20833,
          3583,
          2479,
          13262,
          3598,
          6065,
          3283,
          2130,
          5815,
          3466,
          2031,
          3074,
          4683,
          3400,
          2192,
          2500,
          5677,
          7948,
          4680,
          17500,
          3775,
          5285,
          2679,
          6783,
          1025,
          4281,
          3588,
          11250,
          18165,
          2550,
          6133,
          3617,
          2917,
          6417,
          4608,
          2138,
          3652,
          2239,
          3017,
          2768,
          3358,
          2526,
          5000,
          2785,
          6633,
          2492,
          3333,
          2454,
          3593,
          5468,
          2667,
          10139,
          3887,
          4180,
          3675,
          19484,
          5923,
          5800,
          8799,
          4467,
          3333,
          3400,
          2378,
          3166,
          3417,
          5116,
          16666,
          6125,
          6406,
          3159,
          3087,
          3229,
          1782,
          3182,
          6540,
          1836,
          3166,
          1880,
          2787,
          4283,
          2297,
          2165,
          4750,
          2726,
          3000,
          6000,
          9357,
          3859,
          16120,
          3833,
          6383,
          2987,
          9963,
          5780,
          416,
          2894,
          5703,
          3676,
          12000,
          2400,
          3400,
          3987,
          3232,
          2900,
          4106,
          8072,
          7583,
          4583
         ],
         "xaxis": "x",
         "yaxis": "y"
        }
       ],
       "layout": {
        "barmode": "relative",
        "legend": {
         "tracegroupgap": 0
        },
        "template": {
         "data": {
          "bar": [
           {
            "error_x": {
             "color": "#2a3f5f"
            },
            "error_y": {
             "color": "#2a3f5f"
            },
            "marker": {
             "line": {
              "color": "#E5ECF6",
              "width": 0.5
             },
             "pattern": {
              "fillmode": "overlay",
              "size": 10,
              "solidity": 0.2
             }
            },
            "type": "bar"
           }
          ],
          "barpolar": [
           {
            "marker": {
             "line": {
              "color": "#E5ECF6",
              "width": 0.5
             },
             "pattern": {
              "fillmode": "overlay",
              "size": 10,
              "solidity": 0.2
             }
            },
            "type": "barpolar"
           }
          ],
          "carpet": [
           {
            "aaxis": {
             "endlinecolor": "#2a3f5f",
             "gridcolor": "white",
             "linecolor": "white",
             "minorgridcolor": "white",
             "startlinecolor": "#2a3f5f"
            },
            "baxis": {
             "endlinecolor": "#2a3f5f",
             "gridcolor": "white",
             "linecolor": "white",
             "minorgridcolor": "white",
             "startlinecolor": "#2a3f5f"
            },
            "type": "carpet"
           }
          ],
          "choropleth": [
           {
            "colorbar": {
             "outlinewidth": 0,
             "ticks": ""
            },
            "type": "choropleth"
           }
          ],
          "contour": [
           {
            "colorbar": {
             "outlinewidth": 0,
             "ticks": ""
            },
            "colorscale": [
             [
              0,
              "#0d0887"
             ],
             [
              0.1111111111111111,
              "#46039f"
             ],
             [
              0.2222222222222222,
              "#7201a8"
             ],
             [
              0.3333333333333333,
              "#9c179e"
             ],
             [
              0.4444444444444444,
              "#bd3786"
             ],
             [
              0.5555555555555556,
              "#d8576b"
             ],
             [
              0.6666666666666666,
              "#ed7953"
             ],
             [
              0.7777777777777778,
              "#fb9f3a"
             ],
             [
              0.8888888888888888,
              "#fdca26"
             ],
             [
              1,
              "#f0f921"
             ]
            ],
            "type": "contour"
           }
          ],
          "contourcarpet": [
           {
            "colorbar": {
             "outlinewidth": 0,
             "ticks": ""
            },
            "type": "contourcarpet"
           }
          ],
          "heatmap": [
           {
            "colorbar": {
             "outlinewidth": 0,
             "ticks": ""
            },
            "colorscale": [
             [
              0,
              "#0d0887"
             ],
             [
              0.1111111111111111,
              "#46039f"
             ],
             [
              0.2222222222222222,
              "#7201a8"
             ],
             [
              0.3333333333333333,
              "#9c179e"
             ],
             [
              0.4444444444444444,
              "#bd3786"
             ],
             [
              0.5555555555555556,
              "#d8576b"
             ],
             [
              0.6666666666666666,
              "#ed7953"
             ],
             [
              0.7777777777777778,
              "#fb9f3a"
             ],
             [
              0.8888888888888888,
              "#fdca26"
             ],
             [
              1,
              "#f0f921"
             ]
            ],
            "type": "heatmap"
           }
          ],
          "heatmapgl": [
           {
            "colorbar": {
             "outlinewidth": 0,
             "ticks": ""
            },
            "colorscale": [
             [
              0,
              "#0d0887"
             ],
             [
              0.1111111111111111,
              "#46039f"
             ],
             [
              0.2222222222222222,
              "#7201a8"
             ],
             [
              0.3333333333333333,
              "#9c179e"
             ],
             [
              0.4444444444444444,
              "#bd3786"
             ],
             [
              0.5555555555555556,
              "#d8576b"
             ],
             [
              0.6666666666666666,
              "#ed7953"
             ],
             [
              0.7777777777777778,
              "#fb9f3a"
             ],
             [
              0.8888888888888888,
              "#fdca26"
             ],
             [
              1,
              "#f0f921"
             ]
            ],
            "type": "heatmapgl"
           }
          ],
          "histogram": [
           {
            "marker": {
             "pattern": {
              "fillmode": "overlay",
              "size": 10,
              "solidity": 0.2
             }
            },
            "type": "histogram"
           }
          ],
          "histogram2d": [
           {
            "colorbar": {
             "outlinewidth": 0,
             "ticks": ""
            },
            "colorscale": [
             [
              0,
              "#0d0887"
             ],
             [
              0.1111111111111111,
              "#46039f"
             ],
             [
              0.2222222222222222,
              "#7201a8"
             ],
             [
              0.3333333333333333,
              "#9c179e"
             ],
             [
              0.4444444444444444,
              "#bd3786"
             ],
             [
              0.5555555555555556,
              "#d8576b"
             ],
             [
              0.6666666666666666,
              "#ed7953"
             ],
             [
              0.7777777777777778,
              "#fb9f3a"
             ],
             [
              0.8888888888888888,
              "#fdca26"
             ],
             [
              1,
              "#f0f921"
             ]
            ],
            "type": "histogram2d"
           }
          ],
          "histogram2dcontour": [
           {
            "colorbar": {
             "outlinewidth": 0,
             "ticks": ""
            },
            "colorscale": [
             [
              0,
              "#0d0887"
             ],
             [
              0.1111111111111111,
              "#46039f"
             ],
             [
              0.2222222222222222,
              "#7201a8"
             ],
             [
              0.3333333333333333,
              "#9c179e"
             ],
             [
              0.4444444444444444,
              "#bd3786"
             ],
             [
              0.5555555555555556,
              "#d8576b"
             ],
             [
              0.6666666666666666,
              "#ed7953"
             ],
             [
              0.7777777777777778,
              "#fb9f3a"
             ],
             [
              0.8888888888888888,
              "#fdca26"
             ],
             [
              1,
              "#f0f921"
             ]
            ],
            "type": "histogram2dcontour"
           }
          ],
          "mesh3d": [
           {
            "colorbar": {
             "outlinewidth": 0,
             "ticks": ""
            },
            "type": "mesh3d"
           }
          ],
          "parcoords": [
           {
            "line": {
             "colorbar": {
              "outlinewidth": 0,
              "ticks": ""
             }
            },
            "type": "parcoords"
           }
          ],
          "pie": [
           {
            "automargin": true,
            "type": "pie"
           }
          ],
          "scatter": [
           {
            "fillpattern": {
             "fillmode": "overlay",
             "size": 10,
             "solidity": 0.2
            },
            "type": "scatter"
           }
          ],
          "scatter3d": [
           {
            "line": {
             "colorbar": {
              "outlinewidth": 0,
              "ticks": ""
             }
            },
            "marker": {
             "colorbar": {
              "outlinewidth": 0,
              "ticks": ""
             }
            },
            "type": "scatter3d"
           }
          ],
          "scattercarpet": [
           {
            "marker": {
             "colorbar": {
              "outlinewidth": 0,
              "ticks": ""
             }
            },
            "type": "scattercarpet"
           }
          ],
          "scattergeo": [
           {
            "marker": {
             "colorbar": {
              "outlinewidth": 0,
              "ticks": ""
             }
            },
            "type": "scattergeo"
           }
          ],
          "scattergl": [
           {
            "marker": {
             "colorbar": {
              "outlinewidth": 0,
              "ticks": ""
             }
            },
            "type": "scattergl"
           }
          ],
          "scattermapbox": [
           {
            "marker": {
             "colorbar": {
              "outlinewidth": 0,
              "ticks": ""
             }
            },
            "type": "scattermapbox"
           }
          ],
          "scatterpolar": [
           {
            "marker": {
             "colorbar": {
              "outlinewidth": 0,
              "ticks": ""
             }
            },
            "type": "scatterpolar"
           }
          ],
          "scatterpolargl": [
           {
            "marker": {
             "colorbar": {
              "outlinewidth": 0,
              "ticks": ""
             }
            },
            "type": "scatterpolargl"
           }
          ],
          "scatterternary": [
           {
            "marker": {
             "colorbar": {
              "outlinewidth": 0,
              "ticks": ""
             }
            },
            "type": "scatterternary"
           }
          ],
          "surface": [
           {
            "colorbar": {
             "outlinewidth": 0,
             "ticks": ""
            },
            "colorscale": [
             [
              0,
              "#0d0887"
             ],
             [
              0.1111111111111111,
              "#46039f"
             ],
             [
              0.2222222222222222,
              "#7201a8"
             ],
             [
              0.3333333333333333,
              "#9c179e"
             ],
             [
              0.4444444444444444,
              "#bd3786"
             ],
             [
              0.5555555555555556,
              "#d8576b"
             ],
             [
              0.6666666666666666,
              "#ed7953"
             ],
             [
              0.7777777777777778,
              "#fb9f3a"
             ],
             [
              0.8888888888888888,
              "#fdca26"
             ],
             [
              1,
              "#f0f921"
             ]
            ],
            "type": "surface"
           }
          ],
          "table": [
           {
            "cells": {
             "fill": {
              "color": "#EBF0F8"
             },
             "line": {
              "color": "white"
             }
            },
            "header": {
             "fill": {
              "color": "#C8D4E3"
             },
             "line": {
              "color": "white"
             }
            },
            "type": "table"
           }
          ]
         },
         "layout": {
          "annotationdefaults": {
           "arrowcolor": "#2a3f5f",
           "arrowhead": 0,
           "arrowwidth": 1
          },
          "autotypenumbers": "strict",
          "coloraxis": {
           "colorbar": {
            "outlinewidth": 0,
            "ticks": ""
           }
          },
          "colorscale": {
           "diverging": [
            [
             0,
             "#8e0152"
            ],
            [
             0.1,
             "#c51b7d"
            ],
            [
             0.2,
             "#de77ae"
            ],
            [
             0.3,
             "#f1b6da"
            ],
            [
             0.4,
             "#fde0ef"
            ],
            [
             0.5,
             "#f7f7f7"
            ],
            [
             0.6,
             "#e6f5d0"
            ],
            [
             0.7,
             "#b8e186"
            ],
            [
             0.8,
             "#7fbc41"
            ],
            [
             0.9,
             "#4d9221"
            ],
            [
             1,
             "#276419"
            ]
           ],
           "sequential": [
            [
             0,
             "#0d0887"
            ],
            [
             0.1111111111111111,
             "#46039f"
            ],
            [
             0.2222222222222222,
             "#7201a8"
            ],
            [
             0.3333333333333333,
             "#9c179e"
            ],
            [
             0.4444444444444444,
             "#bd3786"
            ],
            [
             0.5555555555555556,
             "#d8576b"
            ],
            [
             0.6666666666666666,
             "#ed7953"
            ],
            [
             0.7777777777777778,
             "#fb9f3a"
            ],
            [
             0.8888888888888888,
             "#fdca26"
            ],
            [
             1,
             "#f0f921"
            ]
           ],
           "sequentialminus": [
            [
             0,
             "#0d0887"
            ],
            [
             0.1111111111111111,
             "#46039f"
            ],
            [
             0.2222222222222222,
             "#7201a8"
            ],
            [
             0.3333333333333333,
             "#9c179e"
            ],
            [
             0.4444444444444444,
             "#bd3786"
            ],
            [
             0.5555555555555556,
             "#d8576b"
            ],
            [
             0.6666666666666666,
             "#ed7953"
            ],
            [
             0.7777777777777778,
             "#fb9f3a"
            ],
            [
             0.8888888888888888,
             "#fdca26"
            ],
            [
             1,
             "#f0f921"
            ]
           ]
          },
          "colorway": [
           "#636efa",
           "#EF553B",
           "#00cc96",
           "#ab63fa",
           "#FFA15A",
           "#19d3f3",
           "#FF6692",
           "#B6E880",
           "#FF97FF",
           "#FECB52"
          ],
          "font": {
           "color": "#2a3f5f"
          },
          "geo": {
           "bgcolor": "white",
           "lakecolor": "white",
           "landcolor": "#E5ECF6",
           "showlakes": true,
           "showland": true,
           "subunitcolor": "white"
          },
          "hoverlabel": {
           "align": "left"
          },
          "hovermode": "closest",
          "mapbox": {
           "style": "light"
          },
          "paper_bgcolor": "white",
          "plot_bgcolor": "#E5ECF6",
          "polar": {
           "angularaxis": {
            "gridcolor": "white",
            "linecolor": "white",
            "ticks": ""
           },
           "bgcolor": "#E5ECF6",
           "radialaxis": {
            "gridcolor": "white",
            "linecolor": "white",
            "ticks": ""
           }
          },
          "scene": {
           "xaxis": {
            "backgroundcolor": "#E5ECF6",
            "gridcolor": "white",
            "gridwidth": 2,
            "linecolor": "white",
            "showbackground": true,
            "ticks": "",
            "zerolinecolor": "white"
           },
           "yaxis": {
            "backgroundcolor": "#E5ECF6",
            "gridcolor": "white",
            "gridwidth": 2,
            "linecolor": "white",
            "showbackground": true,
            "ticks": "",
            "zerolinecolor": "white"
           },
           "zaxis": {
            "backgroundcolor": "#E5ECF6",
            "gridcolor": "white",
            "gridwidth": 2,
            "linecolor": "white",
            "showbackground": true,
            "ticks": "",
            "zerolinecolor": "white"
           }
          },
          "shapedefaults": {
           "line": {
            "color": "#2a3f5f"
           }
          },
          "ternary": {
           "aaxis": {
            "gridcolor": "white",
            "linecolor": "white",
            "ticks": ""
           },
           "baxis": {
            "gridcolor": "white",
            "linecolor": "white",
            "ticks": ""
           },
           "bgcolor": "#E5ECF6",
           "caxis": {
            "gridcolor": "white",
            "linecolor": "white",
            "ticks": ""
           }
          },
          "title": {
           "x": 0.05
          },
          "xaxis": {
           "automargin": true,
           "gridcolor": "white",
           "linecolor": "white",
           "ticks": "",
           "title": {
            "standoff": 15
           },
           "zerolinecolor": "white",
           "zerolinewidth": 2
          },
          "yaxis": {
           "automargin": true,
           "gridcolor": "white",
           "linecolor": "white",
           "ticks": "",
           "title": {
            "standoff": 15
           },
           "zerolinecolor": "white",
           "zerolinewidth": 2
          }
         }
        },
        "title": {
         "text": "Applicant Income Histogram"
        },
        "xaxis": {
         "anchor": "y",
         "domain": [
          0,
          1
         ],
         "title": {
          "text": "ApplicantIncome"
         }
        },
        "yaxis": {
         "anchor": "x",
         "domain": [
          0,
          1
         ],
         "title": {
          "text": "count"
         }
        }
       }
      }
     },
     "metadata": {},
     "output_type": "display_data"
    }
   ],
   "source": [
    "import plotly.express as px\n",
    "fig = px.histogram(df, x=\"ApplicantIncome\", nbins=30, title='Applicant Income Histogram')\n",
    "fig.show()"
   ]
  },
  {
   "cell_type": "markdown",
   "metadata": {},
   "source": [
    "\n",
    "Look at box plots to understand the distributions. "
   ]
  },
  {
   "cell_type": "code",
   "execution_count": 612,
   "metadata": {
    "collapsed": false,
    "jupyter": {
     "outputs_hidden": false
    }
   },
   "outputs": [
    {
     "data": {
      "application/vnd.plotly.v1+json": {
       "config": {
        "plotlyServerURL": "https://plot.ly"
       },
       "data": [
        {
         "alignmentgroup": "True",
         "hovertemplate": "ApplicantIncome=%{x}<extra></extra>",
         "legendgroup": "",
         "marker": {
          "color": "#636efa"
         },
         "name": "",
         "notched": false,
         "offsetgroup": "",
         "orientation": "h",
         "showlegend": false,
         "type": "box",
         "x": [
          5849,
          4583,
          3000,
          2583,
          6000,
          5417,
          2333,
          3036,
          4006,
          12841,
          3200,
          2500,
          3073,
          1853,
          1299,
          4950,
          3596,
          3510,
          4887,
          2600,
          7660,
          5955,
          2600,
          3365,
          3717,
          9560,
          2799,
          4226,
          1442,
          3750,
          4166,
          3167,
          4692,
          3500,
          12500,
          2275,
          1828,
          3667,
          4166,
          3748,
          3600,
          1800,
          2400,
          3941,
          4695,
          3410,
          5649,
          5821,
          2645,
          4000,
          1928,
          3086,
          4230,
          4616,
          11500,
          2708,
          2132,
          3366,
          8080,
          3357,
          2500,
          3029,
          2609,
          4945,
          4166,
          5726,
          3200,
          10750,
          7100,
          4300,
          3208,
          1875,
          3500,
          4755,
          5266,
          3750,
          3750,
          1000,
          3167,
          3333,
          3846,
          2395,
          1378,
          6000,
          3988,
          2366,
          3333,
          2500,
          8566,
          5695,
          2958,
          6250,
          3273,
          4133,
          3620,
          6782,
          2484,
          1977,
          4188,
          1759,
          4288,
          4843,
          13650,
          4652,
          3816,
          3052,
          11417,
          7333,
          3800,
          2071,
          5316,
          2929,
          3572,
          7451,
          5050,
          14583,
          3167,
          2214,
          5568,
          10408,
          5667,
          4166,
          2137,
          2957,
          4300,
          3692,
          23803,
          3865,
          10513,
          6080,
          20166,
          2014,
          2718,
          3459,
          4895,
          4000,
          4583,
          3316,
          14999,
          4200,
          5042,
          5417,
          6950,
          2698,
          11757,
          2330,
          14866,
          1538,
          10000,
          4860,
          6277,
          2577,
          9166,
          2281,
          3254,
          39999,
          6000,
          9538,
          2980,
          4583,
          1863,
          7933,
          3089,
          4167,
          9323,
          3707,
          4583,
          2439,
          2237,
          8000,
          1820,
          51763,
          3522,
          5708,
          4344,
          3497,
          2045,
          5516,
          3750,
          2333,
          6400,
          1916,
          4600,
          33846,
          3625,
          39147,
          2178,
          2383,
          674,
          9328,
          4885,
          12000,
          6033,
          3858,
          4191,
          3125,
          8333,
          1907,
          3416,
          11000,
          2600,
          4923,
          3992,
          3500,
          3917,
          4408,
          3244,
          3975,
          2479,
          3418,
          10000,
          3430,
          7787,
          5703,
          3173,
          3850,
          150,
          3727,
          5000,
          4283,
          2221,
          4009,
          2971,
          7578,
          6250,
          3250,
          4735,
          6250,
          4758,
          6400,
          2491,
          3716,
          3189,
          8333,
          3155,
          5500,
          5746,
          3463,
          3812,
          3315,
          5819,
          2510,
          2965,
          6250,
          3406,
          6050,
          9703,
          6608,
          2882,
          1809,
          1668,
          3427,
          2583,
          2661,
          16250,
          3083,
          6045,
          5250,
          14683,
          4931,
          6083,
          2060,
          3481,
          7200,
          5166,
          4095,
          4708,
          4333,
          3418,
          2876,
          3237,
          11146,
          2833,
          2620,
          3900,
          2750,
          3993,
          3103,
          14583,
          4100,
          4053,
          3927,
          2301,
          1811,
          20667,
          3158,
          2600,
          3704,
          4124,
          9508,
          3075,
          4400,
          3153,
          5417,
          2383,
          4416,
          6875,
          4666,
          5000,
          2014,
          1800,
          2875,
          5000,
          1625,
          4000,
          2000,
          3762,
          2400,
          20233,
          7667,
          2917,
          2927,
          2507,
          5746,
          2473,
          3399,
          3717,
          2058,
          3541,
          10000,
          2400,
          4342,
          3601,
          3166,
          15000,
          8666,
          4917,
          5818,
          4333,
          2500,
          4384,
          2935,
          2833,
          63337,
          9833,
          5503,
          5250,
          2500,
          1830,
          4160,
          2647,
          2378,
          4554,
          3173,
          2583,
          2499,
          3523,
          3083,
          6333,
          2625,
          9083,
          8750,
          2666,
          5500,
          2423,
          3813,
          8333,
          3875,
          3000,
          5167,
          4723,
          5000,
          4750,
          3013,
          6822,
          6216,
          2500,
          5124,
          6325,
          19730,
          15759,
          5185,
          9323,
          3062,
          2764,
          4817,
          8750,
          4310,
          3069,
          5391,
          3333,
          5941,
          6000,
          7167,
          4566,
          3667,
          2346,
          3010,
          2333,
          5488,
          9167,
          9504,
          2583,
          1993,
          3100,
          3276,
          3180,
          3033,
          3902,
          1500,
          2889,
          2755,
          2500,
          1963,
          7441,
          4547,
          2167,
          2213,
          8300,
          81000,
          3867,
          6256,
          6096,
          2253,
          2149,
          2995,
          2600,
          1600,
          1025,
          3246,
          5829,
          2720,
          1820,
          7250,
          14880,
          2666,
          4606,
          5935,
          2920,
          2717,
          8624,
          6500,
          12876,
          2425,
          3750,
          10047,
          1926,
          2213,
          10416,
          7142,
          3660,
          7901,
          4707,
          37719,
          7333,
          3466,
          4652,
          3539,
          3340,
          2769,
          2309,
          1958,
          3948,
          2483,
          7085,
          3859,
          4301,
          3708,
          4354,
          8334,
          2083,
          7740,
          3015,
          5191,
          4166,
          6000,
          2947,
          16692,
          210,
          4333,
          3450,
          2653,
          4691,
          2500,
          5532,
          16525,
          6700,
          2873,
          16667,
          2947,
          4350,
          3095,
          2083,
          10833,
          8333,
          1958,
          3547,
          18333,
          4583,
          2435,
          2699,
          5333,
          3691,
          17263,
          3597,
          3326,
          2600,
          4625,
          2895,
          6283,
          645,
          3159,
          4865,
          4050,
          3814,
          3510,
          20833,
          3583,
          2479,
          13262,
          3598,
          6065,
          3283,
          2130,
          5815,
          3466,
          2031,
          3074,
          4683,
          3400,
          2192,
          2500,
          5677,
          7948,
          4680,
          17500,
          3775,
          5285,
          2679,
          6783,
          1025,
          4281,
          3588,
          11250,
          18165,
          2550,
          6133,
          3617,
          2917,
          6417,
          4608,
          2138,
          3652,
          2239,
          3017,
          2768,
          3358,
          2526,
          5000,
          2785,
          6633,
          2492,
          3333,
          2454,
          3593,
          5468,
          2667,
          10139,
          3887,
          4180,
          3675,
          19484,
          5923,
          5800,
          8799,
          4467,
          3333,
          3400,
          2378,
          3166,
          3417,
          5116,
          16666,
          6125,
          6406,
          3159,
          3087,
          3229,
          1782,
          3182,
          6540,
          1836,
          3166,
          1880,
          2787,
          4283,
          2297,
          2165,
          4750,
          2726,
          3000,
          6000,
          9357,
          3859,
          16120,
          3833,
          6383,
          2987,
          9963,
          5780,
          416,
          2894,
          5703,
          3676,
          12000,
          2400,
          3400,
          3987,
          3232,
          2900,
          4106,
          8072,
          7583,
          4583
         ],
         "x0": " ",
         "xaxis": "x",
         "y0": " ",
         "yaxis": "y"
        }
       ],
       "layout": {
        "boxmode": "group",
        "legend": {
         "tracegroupgap": 0
        },
        "template": {
         "data": {
          "bar": [
           {
            "error_x": {
             "color": "#2a3f5f"
            },
            "error_y": {
             "color": "#2a3f5f"
            },
            "marker": {
             "line": {
              "color": "#E5ECF6",
              "width": 0.5
             },
             "pattern": {
              "fillmode": "overlay",
              "size": 10,
              "solidity": 0.2
             }
            },
            "type": "bar"
           }
          ],
          "barpolar": [
           {
            "marker": {
             "line": {
              "color": "#E5ECF6",
              "width": 0.5
             },
             "pattern": {
              "fillmode": "overlay",
              "size": 10,
              "solidity": 0.2
             }
            },
            "type": "barpolar"
           }
          ],
          "carpet": [
           {
            "aaxis": {
             "endlinecolor": "#2a3f5f",
             "gridcolor": "white",
             "linecolor": "white",
             "minorgridcolor": "white",
             "startlinecolor": "#2a3f5f"
            },
            "baxis": {
             "endlinecolor": "#2a3f5f",
             "gridcolor": "white",
             "linecolor": "white",
             "minorgridcolor": "white",
             "startlinecolor": "#2a3f5f"
            },
            "type": "carpet"
           }
          ],
          "choropleth": [
           {
            "colorbar": {
             "outlinewidth": 0,
             "ticks": ""
            },
            "type": "choropleth"
           }
          ],
          "contour": [
           {
            "colorbar": {
             "outlinewidth": 0,
             "ticks": ""
            },
            "colorscale": [
             [
              0,
              "#0d0887"
             ],
             [
              0.1111111111111111,
              "#46039f"
             ],
             [
              0.2222222222222222,
              "#7201a8"
             ],
             [
              0.3333333333333333,
              "#9c179e"
             ],
             [
              0.4444444444444444,
              "#bd3786"
             ],
             [
              0.5555555555555556,
              "#d8576b"
             ],
             [
              0.6666666666666666,
              "#ed7953"
             ],
             [
              0.7777777777777778,
              "#fb9f3a"
             ],
             [
              0.8888888888888888,
              "#fdca26"
             ],
             [
              1,
              "#f0f921"
             ]
            ],
            "type": "contour"
           }
          ],
          "contourcarpet": [
           {
            "colorbar": {
             "outlinewidth": 0,
             "ticks": ""
            },
            "type": "contourcarpet"
           }
          ],
          "heatmap": [
           {
            "colorbar": {
             "outlinewidth": 0,
             "ticks": ""
            },
            "colorscale": [
             [
              0,
              "#0d0887"
             ],
             [
              0.1111111111111111,
              "#46039f"
             ],
             [
              0.2222222222222222,
              "#7201a8"
             ],
             [
              0.3333333333333333,
              "#9c179e"
             ],
             [
              0.4444444444444444,
              "#bd3786"
             ],
             [
              0.5555555555555556,
              "#d8576b"
             ],
             [
              0.6666666666666666,
              "#ed7953"
             ],
             [
              0.7777777777777778,
              "#fb9f3a"
             ],
             [
              0.8888888888888888,
              "#fdca26"
             ],
             [
              1,
              "#f0f921"
             ]
            ],
            "type": "heatmap"
           }
          ],
          "heatmapgl": [
           {
            "colorbar": {
             "outlinewidth": 0,
             "ticks": ""
            },
            "colorscale": [
             [
              0,
              "#0d0887"
             ],
             [
              0.1111111111111111,
              "#46039f"
             ],
             [
              0.2222222222222222,
              "#7201a8"
             ],
             [
              0.3333333333333333,
              "#9c179e"
             ],
             [
              0.4444444444444444,
              "#bd3786"
             ],
             [
              0.5555555555555556,
              "#d8576b"
             ],
             [
              0.6666666666666666,
              "#ed7953"
             ],
             [
              0.7777777777777778,
              "#fb9f3a"
             ],
             [
              0.8888888888888888,
              "#fdca26"
             ],
             [
              1,
              "#f0f921"
             ]
            ],
            "type": "heatmapgl"
           }
          ],
          "histogram": [
           {
            "marker": {
             "pattern": {
              "fillmode": "overlay",
              "size": 10,
              "solidity": 0.2
             }
            },
            "type": "histogram"
           }
          ],
          "histogram2d": [
           {
            "colorbar": {
             "outlinewidth": 0,
             "ticks": ""
            },
            "colorscale": [
             [
              0,
              "#0d0887"
             ],
             [
              0.1111111111111111,
              "#46039f"
             ],
             [
              0.2222222222222222,
              "#7201a8"
             ],
             [
              0.3333333333333333,
              "#9c179e"
             ],
             [
              0.4444444444444444,
              "#bd3786"
             ],
             [
              0.5555555555555556,
              "#d8576b"
             ],
             [
              0.6666666666666666,
              "#ed7953"
             ],
             [
              0.7777777777777778,
              "#fb9f3a"
             ],
             [
              0.8888888888888888,
              "#fdca26"
             ],
             [
              1,
              "#f0f921"
             ]
            ],
            "type": "histogram2d"
           }
          ],
          "histogram2dcontour": [
           {
            "colorbar": {
             "outlinewidth": 0,
             "ticks": ""
            },
            "colorscale": [
             [
              0,
              "#0d0887"
             ],
             [
              0.1111111111111111,
              "#46039f"
             ],
             [
              0.2222222222222222,
              "#7201a8"
             ],
             [
              0.3333333333333333,
              "#9c179e"
             ],
             [
              0.4444444444444444,
              "#bd3786"
             ],
             [
              0.5555555555555556,
              "#d8576b"
             ],
             [
              0.6666666666666666,
              "#ed7953"
             ],
             [
              0.7777777777777778,
              "#fb9f3a"
             ],
             [
              0.8888888888888888,
              "#fdca26"
             ],
             [
              1,
              "#f0f921"
             ]
            ],
            "type": "histogram2dcontour"
           }
          ],
          "mesh3d": [
           {
            "colorbar": {
             "outlinewidth": 0,
             "ticks": ""
            },
            "type": "mesh3d"
           }
          ],
          "parcoords": [
           {
            "line": {
             "colorbar": {
              "outlinewidth": 0,
              "ticks": ""
             }
            },
            "type": "parcoords"
           }
          ],
          "pie": [
           {
            "automargin": true,
            "type": "pie"
           }
          ],
          "scatter": [
           {
            "fillpattern": {
             "fillmode": "overlay",
             "size": 10,
             "solidity": 0.2
            },
            "type": "scatter"
           }
          ],
          "scatter3d": [
           {
            "line": {
             "colorbar": {
              "outlinewidth": 0,
              "ticks": ""
             }
            },
            "marker": {
             "colorbar": {
              "outlinewidth": 0,
              "ticks": ""
             }
            },
            "type": "scatter3d"
           }
          ],
          "scattercarpet": [
           {
            "marker": {
             "colorbar": {
              "outlinewidth": 0,
              "ticks": ""
             }
            },
            "type": "scattercarpet"
           }
          ],
          "scattergeo": [
           {
            "marker": {
             "colorbar": {
              "outlinewidth": 0,
              "ticks": ""
             }
            },
            "type": "scattergeo"
           }
          ],
          "scattergl": [
           {
            "marker": {
             "colorbar": {
              "outlinewidth": 0,
              "ticks": ""
             }
            },
            "type": "scattergl"
           }
          ],
          "scattermapbox": [
           {
            "marker": {
             "colorbar": {
              "outlinewidth": 0,
              "ticks": ""
             }
            },
            "type": "scattermapbox"
           }
          ],
          "scatterpolar": [
           {
            "marker": {
             "colorbar": {
              "outlinewidth": 0,
              "ticks": ""
             }
            },
            "type": "scatterpolar"
           }
          ],
          "scatterpolargl": [
           {
            "marker": {
             "colorbar": {
              "outlinewidth": 0,
              "ticks": ""
             }
            },
            "type": "scatterpolargl"
           }
          ],
          "scatterternary": [
           {
            "marker": {
             "colorbar": {
              "outlinewidth": 0,
              "ticks": ""
             }
            },
            "type": "scatterternary"
           }
          ],
          "surface": [
           {
            "colorbar": {
             "outlinewidth": 0,
             "ticks": ""
            },
            "colorscale": [
             [
              0,
              "#0d0887"
             ],
             [
              0.1111111111111111,
              "#46039f"
             ],
             [
              0.2222222222222222,
              "#7201a8"
             ],
             [
              0.3333333333333333,
              "#9c179e"
             ],
             [
              0.4444444444444444,
              "#bd3786"
             ],
             [
              0.5555555555555556,
              "#d8576b"
             ],
             [
              0.6666666666666666,
              "#ed7953"
             ],
             [
              0.7777777777777778,
              "#fb9f3a"
             ],
             [
              0.8888888888888888,
              "#fdca26"
             ],
             [
              1,
              "#f0f921"
             ]
            ],
            "type": "surface"
           }
          ],
          "table": [
           {
            "cells": {
             "fill": {
              "color": "#EBF0F8"
             },
             "line": {
              "color": "white"
             }
            },
            "header": {
             "fill": {
              "color": "#C8D4E3"
             },
             "line": {
              "color": "white"
             }
            },
            "type": "table"
           }
          ]
         },
         "layout": {
          "annotationdefaults": {
           "arrowcolor": "#2a3f5f",
           "arrowhead": 0,
           "arrowwidth": 1
          },
          "autotypenumbers": "strict",
          "coloraxis": {
           "colorbar": {
            "outlinewidth": 0,
            "ticks": ""
           }
          },
          "colorscale": {
           "diverging": [
            [
             0,
             "#8e0152"
            ],
            [
             0.1,
             "#c51b7d"
            ],
            [
             0.2,
             "#de77ae"
            ],
            [
             0.3,
             "#f1b6da"
            ],
            [
             0.4,
             "#fde0ef"
            ],
            [
             0.5,
             "#f7f7f7"
            ],
            [
             0.6,
             "#e6f5d0"
            ],
            [
             0.7,
             "#b8e186"
            ],
            [
             0.8,
             "#7fbc41"
            ],
            [
             0.9,
             "#4d9221"
            ],
            [
             1,
             "#276419"
            ]
           ],
           "sequential": [
            [
             0,
             "#0d0887"
            ],
            [
             0.1111111111111111,
             "#46039f"
            ],
            [
             0.2222222222222222,
             "#7201a8"
            ],
            [
             0.3333333333333333,
             "#9c179e"
            ],
            [
             0.4444444444444444,
             "#bd3786"
            ],
            [
             0.5555555555555556,
             "#d8576b"
            ],
            [
             0.6666666666666666,
             "#ed7953"
            ],
            [
             0.7777777777777778,
             "#fb9f3a"
            ],
            [
             0.8888888888888888,
             "#fdca26"
            ],
            [
             1,
             "#f0f921"
            ]
           ],
           "sequentialminus": [
            [
             0,
             "#0d0887"
            ],
            [
             0.1111111111111111,
             "#46039f"
            ],
            [
             0.2222222222222222,
             "#7201a8"
            ],
            [
             0.3333333333333333,
             "#9c179e"
            ],
            [
             0.4444444444444444,
             "#bd3786"
            ],
            [
             0.5555555555555556,
             "#d8576b"
            ],
            [
             0.6666666666666666,
             "#ed7953"
            ],
            [
             0.7777777777777778,
             "#fb9f3a"
            ],
            [
             0.8888888888888888,
             "#fdca26"
            ],
            [
             1,
             "#f0f921"
            ]
           ]
          },
          "colorway": [
           "#636efa",
           "#EF553B",
           "#00cc96",
           "#ab63fa",
           "#FFA15A",
           "#19d3f3",
           "#FF6692",
           "#B6E880",
           "#FF97FF",
           "#FECB52"
          ],
          "font": {
           "color": "#2a3f5f"
          },
          "geo": {
           "bgcolor": "white",
           "lakecolor": "white",
           "landcolor": "#E5ECF6",
           "showlakes": true,
           "showland": true,
           "subunitcolor": "white"
          },
          "hoverlabel": {
           "align": "left"
          },
          "hovermode": "closest",
          "mapbox": {
           "style": "light"
          },
          "paper_bgcolor": "white",
          "plot_bgcolor": "#E5ECF6",
          "polar": {
           "angularaxis": {
            "gridcolor": "white",
            "linecolor": "white",
            "ticks": ""
           },
           "bgcolor": "#E5ECF6",
           "radialaxis": {
            "gridcolor": "white",
            "linecolor": "white",
            "ticks": ""
           }
          },
          "scene": {
           "xaxis": {
            "backgroundcolor": "#E5ECF6",
            "gridcolor": "white",
            "gridwidth": 2,
            "linecolor": "white",
            "showbackground": true,
            "ticks": "",
            "zerolinecolor": "white"
           },
           "yaxis": {
            "backgroundcolor": "#E5ECF6",
            "gridcolor": "white",
            "gridwidth": 2,
            "linecolor": "white",
            "showbackground": true,
            "ticks": "",
            "zerolinecolor": "white"
           },
           "zaxis": {
            "backgroundcolor": "#E5ECF6",
            "gridcolor": "white",
            "gridwidth": 2,
            "linecolor": "white",
            "showbackground": true,
            "ticks": "",
            "zerolinecolor": "white"
           }
          },
          "shapedefaults": {
           "line": {
            "color": "#2a3f5f"
           }
          },
          "ternary": {
           "aaxis": {
            "gridcolor": "white",
            "linecolor": "white",
            "ticks": ""
           },
           "baxis": {
            "gridcolor": "white",
            "linecolor": "white",
            "ticks": ""
           },
           "bgcolor": "#E5ECF6",
           "caxis": {
            "gridcolor": "white",
            "linecolor": "white",
            "ticks": ""
           }
          },
          "title": {
           "x": 0.05
          },
          "xaxis": {
           "automargin": true,
           "gridcolor": "white",
           "linecolor": "white",
           "ticks": "",
           "title": {
            "standoff": 15
           },
           "zerolinecolor": "white",
           "zerolinewidth": 2
          },
          "yaxis": {
           "automargin": true,
           "gridcolor": "white",
           "linecolor": "white",
           "ticks": "",
           "title": {
            "standoff": 15
           },
           "zerolinecolor": "white",
           "zerolinewidth": 2
          }
         }
        },
        "title": {
         "text": "Applicant Income BoxPlot"
        },
        "xaxis": {
         "anchor": "y",
         "domain": [
          0,
          1
         ],
         "title": {
          "text": "ApplicantIncome"
         }
        },
        "yaxis": {
         "anchor": "x",
         "domain": [
          0,
          1
         ]
        }
       }
      }
     },
     "metadata": {},
     "output_type": "display_data"
    }
   ],
   "source": [
    "fig = px.box(df, x=\"ApplicantIncome\", title='Applicant Income BoxPlot')\n",
    "fig.show()"
   ]
  },
  {
   "cell_type": "markdown",
   "metadata": {},
   "source": [
    "Look at the distribution of income segregated  by `Education`"
   ]
  },
  {
   "cell_type": "code",
   "execution_count": 613,
   "metadata": {
    "collapsed": false,
    "jupyter": {
     "outputs_hidden": false
    }
   },
   "outputs": [
    {
     "data": {
      "application/vnd.plotly.v1+json": {
       "config": {
        "plotlyServerURL": "https://plot.ly"
       },
       "data": [
        {
         "alignmentgroup": "True",
         "hovertemplate": "ApplicantIncome=%{x}<br>Education=%{y}<extra></extra>",
         "legendgroup": "",
         "marker": {
          "color": "#636efa"
         },
         "name": "",
         "notched": false,
         "offsetgroup": "",
         "orientation": "h",
         "showlegend": false,
         "type": "box",
         "x": [
          5849,
          4583,
          3000,
          2583,
          6000,
          5417,
          2333,
          3036,
          4006,
          12841,
          3200,
          2500,
          3073,
          1853,
          1299,
          4950,
          3596,
          3510,
          4887,
          2600,
          7660,
          5955,
          2600,
          3365,
          3717,
          9560,
          2799,
          4226,
          1442,
          3750,
          4166,
          3167,
          4692,
          3500,
          12500,
          2275,
          1828,
          3667,
          4166,
          3748,
          3600,
          1800,
          2400,
          3941,
          4695,
          3410,
          5649,
          5821,
          2645,
          4000,
          1928,
          3086,
          4230,
          4616,
          11500,
          2708,
          2132,
          3366,
          8080,
          3357,
          2500,
          3029,
          2609,
          4945,
          4166,
          5726,
          3200,
          10750,
          7100,
          4300,
          3208,
          1875,
          3500,
          4755,
          5266,
          3750,
          3750,
          1000,
          3167,
          3333,
          3846,
          2395,
          1378,
          6000,
          3988,
          2366,
          3333,
          2500,
          8566,
          5695,
          2958,
          6250,
          3273,
          4133,
          3620,
          6782,
          2484,
          1977,
          4188,
          1759,
          4288,
          4843,
          13650,
          4652,
          3816,
          3052,
          11417,
          7333,
          3800,
          2071,
          5316,
          2929,
          3572,
          7451,
          5050,
          14583,
          3167,
          2214,
          5568,
          10408,
          5667,
          4166,
          2137,
          2957,
          4300,
          3692,
          23803,
          3865,
          10513,
          6080,
          20166,
          2014,
          2718,
          3459,
          4895,
          4000,
          4583,
          3316,
          14999,
          4200,
          5042,
          5417,
          6950,
          2698,
          11757,
          2330,
          14866,
          1538,
          10000,
          4860,
          6277,
          2577,
          9166,
          2281,
          3254,
          39999,
          6000,
          9538,
          2980,
          4583,
          1863,
          7933,
          3089,
          4167,
          9323,
          3707,
          4583,
          2439,
          2237,
          8000,
          1820,
          51763,
          3522,
          5708,
          4344,
          3497,
          2045,
          5516,
          3750,
          2333,
          6400,
          1916,
          4600,
          33846,
          3625,
          39147,
          2178,
          2383,
          674,
          9328,
          4885,
          12000,
          6033,
          3858,
          4191,
          3125,
          8333,
          1907,
          3416,
          11000,
          2600,
          4923,
          3992,
          3500,
          3917,
          4408,
          3244,
          3975,
          2479,
          3418,
          10000,
          3430,
          7787,
          5703,
          3173,
          3850,
          150,
          3727,
          5000,
          4283,
          2221,
          4009,
          2971,
          7578,
          6250,
          3250,
          4735,
          6250,
          4758,
          6400,
          2491,
          3716,
          3189,
          8333,
          3155,
          5500,
          5746,
          3463,
          3812,
          3315,
          5819,
          2510,
          2965,
          6250,
          3406,
          6050,
          9703,
          6608,
          2882,
          1809,
          1668,
          3427,
          2583,
          2661,
          16250,
          3083,
          6045,
          5250,
          14683,
          4931,
          6083,
          2060,
          3481,
          7200,
          5166,
          4095,
          4708,
          4333,
          3418,
          2876,
          3237,
          11146,
          2833,
          2620,
          3900,
          2750,
          3993,
          3103,
          14583,
          4100,
          4053,
          3927,
          2301,
          1811,
          20667,
          3158,
          2600,
          3704,
          4124,
          9508,
          3075,
          4400,
          3153,
          5417,
          2383,
          4416,
          6875,
          4666,
          5000,
          2014,
          1800,
          2875,
          5000,
          1625,
          4000,
          2000,
          3762,
          2400,
          20233,
          7667,
          2917,
          2927,
          2507,
          5746,
          2473,
          3399,
          3717,
          2058,
          3541,
          10000,
          2400,
          4342,
          3601,
          3166,
          15000,
          8666,
          4917,
          5818,
          4333,
          2500,
          4384,
          2935,
          2833,
          63337,
          9833,
          5503,
          5250,
          2500,
          1830,
          4160,
          2647,
          2378,
          4554,
          3173,
          2583,
          2499,
          3523,
          3083,
          6333,
          2625,
          9083,
          8750,
          2666,
          5500,
          2423,
          3813,
          8333,
          3875,
          3000,
          5167,
          4723,
          5000,
          4750,
          3013,
          6822,
          6216,
          2500,
          5124,
          6325,
          19730,
          15759,
          5185,
          9323,
          3062,
          2764,
          4817,
          8750,
          4310,
          3069,
          5391,
          3333,
          5941,
          6000,
          7167,
          4566,
          3667,
          2346,
          3010,
          2333,
          5488,
          9167,
          9504,
          2583,
          1993,
          3100,
          3276,
          3180,
          3033,
          3902,
          1500,
          2889,
          2755,
          2500,
          1963,
          7441,
          4547,
          2167,
          2213,
          8300,
          81000,
          3867,
          6256,
          6096,
          2253,
          2149,
          2995,
          2600,
          1600,
          1025,
          3246,
          5829,
          2720,
          1820,
          7250,
          14880,
          2666,
          4606,
          5935,
          2920,
          2717,
          8624,
          6500,
          12876,
          2425,
          3750,
          10047,
          1926,
          2213,
          10416,
          7142,
          3660,
          7901,
          4707,
          37719,
          7333,
          3466,
          4652,
          3539,
          3340,
          2769,
          2309,
          1958,
          3948,
          2483,
          7085,
          3859,
          4301,
          3708,
          4354,
          8334,
          2083,
          7740,
          3015,
          5191,
          4166,
          6000,
          2947,
          16692,
          210,
          4333,
          3450,
          2653,
          4691,
          2500,
          5532,
          16525,
          6700,
          2873,
          16667,
          2947,
          4350,
          3095,
          2083,
          10833,
          8333,
          1958,
          3547,
          18333,
          4583,
          2435,
          2699,
          5333,
          3691,
          17263,
          3597,
          3326,
          2600,
          4625,
          2895,
          6283,
          645,
          3159,
          4865,
          4050,
          3814,
          3510,
          20833,
          3583,
          2479,
          13262,
          3598,
          6065,
          3283,
          2130,
          5815,
          3466,
          2031,
          3074,
          4683,
          3400,
          2192,
          2500,
          5677,
          7948,
          4680,
          17500,
          3775,
          5285,
          2679,
          6783,
          1025,
          4281,
          3588,
          11250,
          18165,
          2550,
          6133,
          3617,
          2917,
          6417,
          4608,
          2138,
          3652,
          2239,
          3017,
          2768,
          3358,
          2526,
          5000,
          2785,
          6633,
          2492,
          3333,
          2454,
          3593,
          5468,
          2667,
          10139,
          3887,
          4180,
          3675,
          19484,
          5923,
          5800,
          8799,
          4467,
          3333,
          3400,
          2378,
          3166,
          3417,
          5116,
          16666,
          6125,
          6406,
          3159,
          3087,
          3229,
          1782,
          3182,
          6540,
          1836,
          3166,
          1880,
          2787,
          4283,
          2297,
          2165,
          4750,
          2726,
          3000,
          6000,
          9357,
          3859,
          16120,
          3833,
          6383,
          2987,
          9963,
          5780,
          416,
          2894,
          5703,
          3676,
          12000,
          2400,
          3400,
          3987,
          3232,
          2900,
          4106,
          8072,
          7583,
          4583
         ],
         "x0": " ",
         "xaxis": "x",
         "y": [
          "Graduate",
          "Graduate",
          "Graduate",
          "Not Graduate",
          "Graduate",
          "Graduate",
          "Not Graduate",
          "Graduate",
          "Graduate",
          "Graduate",
          "Graduate",
          "Graduate",
          "Graduate",
          "Graduate",
          "Graduate",
          "Graduate",
          "Not Graduate",
          "Graduate",
          "Not Graduate",
          "Graduate",
          "Not Graduate",
          "Graduate",
          "Not Graduate",
          "Not Graduate",
          "Graduate",
          "Graduate",
          "Graduate",
          "Not Graduate",
          "Not Graduate",
          "Graduate",
          "Graduate",
          "Graduate",
          "Graduate",
          "Graduate",
          "Graduate",
          "Graduate",
          "Graduate",
          "Graduate",
          "Graduate",
          "Not Graduate",
          "Graduate",
          "Graduate",
          "Graduate",
          "Graduate",
          "Not Graduate",
          "Graduate",
          "Graduate",
          "Graduate",
          "Graduate",
          "Graduate",
          "Not Graduate",
          "Graduate",
          "Graduate",
          "Graduate",
          "Graduate",
          "Graduate",
          "Graduate",
          "Graduate",
          "Graduate",
          "Not Graduate",
          "Graduate",
          "Graduate",
          "Not Graduate",
          "Graduate",
          "Graduate",
          "Graduate",
          "Not Graduate",
          "Graduate",
          "Not Graduate",
          "Graduate",
          "Graduate",
          "Not Graduate",
          "Graduate",
          "Not Graduate",
          "Graduate",
          "Graduate",
          "Graduate",
          "Graduate",
          "Graduate",
          "Not Graduate",
          "Graduate",
          "Graduate",
          "Graduate",
          "Graduate",
          "Graduate",
          "Graduate",
          "Not Graduate",
          "Graduate",
          "Graduate",
          "Graduate",
          "Graduate",
          "Graduate",
          "Not Graduate",
          "Graduate",
          "Not Graduate",
          "Graduate",
          "Graduate",
          "Graduate",
          "Not Graduate",
          "Graduate",
          "Not Graduate",
          "Graduate",
          "Graduate",
          "Graduate",
          "Graduate",
          "Graduate",
          "Graduate",
          "Not Graduate",
          "Graduate",
          "Not Graduate",
          "Graduate",
          "Graduate",
          "Not Graduate",
          "Graduate",
          "Graduate",
          "Graduate",
          "Graduate",
          "Graduate",
          "Graduate",
          "Graduate",
          "Graduate",
          "Graduate",
          "Graduate",
          "Graduate",
          "Not Graduate",
          "Graduate",
          "Graduate",
          "Graduate",
          "Graduate",
          "Graduate",
          "Graduate",
          "Graduate",
          "Graduate",
          "Graduate",
          "Graduate",
          "Graduate",
          "Graduate",
          "Graduate",
          "Graduate",
          "Not Graduate",
          "Graduate",
          "Graduate",
          "Graduate",
          "Graduate",
          "Graduate",
          "Graduate",
          "Graduate",
          "Graduate",
          "Graduate",
          "Graduate",
          "Graduate",
          "Graduate",
          "Graduate",
          "Not Graduate",
          "Graduate",
          "Graduate",
          "Graduate",
          "Graduate",
          "Graduate",
          "Graduate",
          "Not Graduate",
          "Graduate",
          "Graduate",
          "Graduate",
          "Graduate",
          "Graduate",
          "Graduate",
          "Graduate",
          "Graduate",
          "Graduate",
          "Not Graduate",
          "Graduate",
          "Not Graduate",
          "Graduate",
          "Not Graduate",
          "Graduate",
          "Graduate",
          "Graduate",
          "Graduate",
          "Not Graduate",
          "Graduate",
          "Graduate",
          "Graduate",
          "Graduate",
          "Graduate",
          "Graduate",
          "Graduate",
          "Graduate",
          "Graduate",
          "Graduate",
          "Not Graduate",
          "Graduate",
          "Not Graduate",
          "Graduate",
          "Graduate",
          "Graduate",
          "Graduate",
          "Not Graduate",
          "Graduate",
          "Graduate",
          "Not Graduate",
          "Graduate",
          "Not Graduate",
          "Not Graduate",
          "Not Graduate",
          "Not Graduate",
          "Graduate",
          "Not Graduate",
          "Graduate",
          "Graduate",
          "Graduate",
          "Graduate",
          "Graduate",
          "Not Graduate",
          "Graduate",
          "Not Graduate",
          "Graduate",
          "Graduate",
          "Graduate",
          "Graduate",
          "Graduate",
          "Graduate",
          "Graduate",
          "Graduate",
          "Graduate",
          "Graduate",
          "Not Graduate",
          "Graduate",
          "Graduate",
          "Graduate",
          "Graduate",
          "Graduate",
          "Not Graduate",
          "Graduate",
          "Graduate",
          "Graduate",
          "Graduate",
          "Graduate",
          "Graduate",
          "Graduate",
          "Graduate",
          "Not Graduate",
          "Graduate",
          "Graduate",
          "Not Graduate",
          "Graduate",
          "Graduate",
          "Not Graduate",
          "Graduate",
          "Graduate",
          "Not Graduate",
          "Graduate",
          "Not Graduate",
          "Not Graduate",
          "Graduate",
          "Graduate",
          "Not Graduate",
          "Graduate",
          "Graduate",
          "Not Graduate",
          "Graduate",
          "Graduate",
          "Graduate",
          "Graduate",
          "Graduate",
          "Graduate",
          "Graduate",
          "Graduate",
          "Graduate",
          "Graduate",
          "Graduate",
          "Graduate",
          "Graduate",
          "Graduate",
          "Graduate",
          "Graduate",
          "Graduate",
          "Graduate",
          "Graduate",
          "Not Graduate",
          "Not Graduate",
          "Graduate",
          "Graduate",
          "Graduate",
          "Graduate",
          "Graduate",
          "Graduate",
          "Graduate",
          "Graduate",
          "Graduate",
          "Graduate",
          "Graduate",
          "Graduate",
          "Graduate",
          "Graduate",
          "Graduate",
          "Graduate",
          "Graduate",
          "Graduate",
          "Graduate",
          "Not Graduate",
          "Not Graduate",
          "Graduate",
          "Graduate",
          "Graduate",
          "Not Graduate",
          "Graduate",
          "Graduate",
          "Graduate",
          "Not Graduate",
          "Graduate",
          "Not Graduate",
          "Graduate",
          "Graduate",
          "Graduate",
          "Not Graduate",
          "Graduate",
          "Graduate",
          "Graduate",
          "Graduate",
          "Graduate",
          "Graduate",
          "Not Graduate",
          "Graduate",
          "Graduate",
          "Graduate",
          "Graduate",
          "Graduate",
          "Graduate",
          "Graduate",
          "Graduate",
          "Graduate",
          "Graduate",
          "Graduate",
          "Graduate",
          "Graduate",
          "Graduate",
          "Graduate",
          "Not Graduate",
          "Graduate",
          "Not Graduate",
          "Graduate",
          "Not Graduate",
          "Not Graduate",
          "Graduate",
          "Graduate",
          "Not Graduate",
          "Not Graduate",
          "Graduate",
          "Graduate",
          "Graduate",
          "Graduate",
          "Graduate",
          "Graduate",
          "Graduate",
          "Graduate",
          "Graduate",
          "Graduate",
          "Not Graduate",
          "Graduate",
          "Graduate",
          "Graduate",
          "Graduate",
          "Graduate",
          "Graduate",
          "Not Graduate",
          "Graduate",
          "Graduate",
          "Graduate",
          "Graduate",
          "Graduate",
          "Graduate",
          "Graduate",
          "Graduate",
          "Graduate",
          "Graduate",
          "Graduate",
          "Graduate",
          "Graduate",
          "Graduate",
          "Graduate",
          "Graduate",
          "Graduate",
          "Graduate",
          "Graduate",
          "Graduate",
          "Not Graduate",
          "Not Graduate",
          "Graduate",
          "Graduate",
          "Graduate",
          "Graduate",
          "Graduate",
          "Not Graduate",
          "Graduate",
          "Graduate",
          "Graduate",
          "Graduate",
          "Not Graduate",
          "Graduate",
          "Not Graduate",
          "Not Graduate",
          "Graduate",
          "Not Graduate",
          "Graduate",
          "Graduate",
          "Not Graduate",
          "Not Graduate",
          "Graduate",
          "Graduate",
          "Not Graduate",
          "Graduate",
          "Not Graduate",
          "Not Graduate",
          "Not Graduate",
          "Graduate",
          "Graduate",
          "Graduate",
          "Graduate",
          "Graduate",
          "Graduate",
          "Not Graduate",
          "Graduate",
          "Graduate",
          "Graduate",
          "Graduate",
          "Not Graduate",
          "Graduate",
          "Graduate",
          "Not Graduate",
          "Graduate",
          "Graduate",
          "Graduate",
          "Graduate",
          "Graduate",
          "Graduate",
          "Graduate",
          "Graduate",
          "Graduate",
          "Not Graduate",
          "Graduate",
          "Graduate",
          "Not Graduate",
          "Graduate",
          "Graduate",
          "Graduate",
          "Not Graduate",
          "Graduate",
          "Graduate",
          "Not Graduate",
          "Not Graduate",
          "Not Graduate",
          "Graduate",
          "Graduate",
          "Graduate",
          "Graduate",
          "Graduate",
          "Graduate",
          "Graduate",
          "Graduate",
          "Graduate",
          "Graduate",
          "Graduate",
          "Not Graduate",
          "Graduate",
          "Graduate",
          "Not Graduate",
          "Graduate",
          "Not Graduate",
          "Graduate",
          "Graduate",
          "Not Graduate",
          "Graduate",
          "Graduate",
          "Graduate",
          "Graduate",
          "Graduate",
          "Graduate",
          "Graduate",
          "Graduate",
          "Not Graduate",
          "Not Graduate",
          "Graduate",
          "Graduate",
          "Graduate",
          "Not Graduate",
          "Graduate",
          "Graduate",
          "Graduate",
          "Graduate",
          "Not Graduate",
          "Not Graduate",
          "Not Graduate",
          "Not Graduate",
          "Graduate",
          "Graduate",
          "Not Graduate",
          "Graduate",
          "Graduate",
          "Graduate",
          "Graduate",
          "Graduate",
          "Graduate",
          "Not Graduate",
          "Not Graduate",
          "Graduate",
          "Graduate",
          "Graduate",
          "Graduate",
          "Graduate",
          "Not Graduate",
          "Graduate",
          "Graduate",
          "Graduate",
          "Graduate",
          "Graduate",
          "Graduate",
          "Not Graduate",
          "Graduate",
          "Not Graduate",
          "Not Graduate",
          "Graduate",
          "Graduate",
          "Graduate",
          "Graduate",
          "Graduate",
          "Graduate",
          "Not Graduate",
          "Not Graduate",
          "Not Graduate",
          "Graduate",
          "Graduate",
          "Graduate",
          "Graduate",
          "Not Graduate",
          "Not Graduate",
          "Graduate",
          "Graduate",
          "Not Graduate",
          "Graduate",
          "Graduate",
          "Graduate",
          "Graduate",
          "Not Graduate",
          "Not Graduate",
          "Graduate",
          "Not Graduate",
          "Graduate",
          "Graduate",
          "Graduate",
          "Graduate",
          "Not Graduate",
          "Graduate",
          "Not Graduate",
          "Graduate",
          "Graduate",
          "Graduate",
          "Graduate",
          "Graduate",
          "Graduate",
          "Not Graduate",
          "Graduate",
          "Graduate",
          "Not Graduate",
          "Graduate",
          "Not Graduate",
          "Graduate",
          "Graduate",
          "Graduate",
          "Graduate",
          "Graduate",
          "Graduate",
          "Graduate",
          "Not Graduate",
          "Graduate",
          "Graduate",
          "Graduate",
          "Graduate",
          "Graduate",
          "Graduate",
          "Graduate",
          "Graduate",
          "Graduate",
          "Graduate",
          "Graduate",
          "Graduate",
          "Graduate",
          "Not Graduate",
          "Graduate",
          "Graduate",
          "Graduate",
          "Graduate",
          "Graduate",
          "Graduate",
          "Graduate",
          "Not Graduate",
          "Not Graduate",
          "Graduate",
          "Graduate",
          "Graduate",
          "Graduate",
          "Not Graduate",
          "Graduate",
          "Graduate",
          "Graduate",
          "Not Graduate",
          "Graduate",
          "Not Graduate",
          "Graduate",
          "Graduate",
          "Graduate",
          "Graduate",
          "Graduate",
          "Graduate"
         ],
         "y0": " ",
         "yaxis": "y"
        }
       ],
       "layout": {
        "boxmode": "group",
        "legend": {
         "tracegroupgap": 0
        },
        "template": {
         "data": {
          "bar": [
           {
            "error_x": {
             "color": "#2a3f5f"
            },
            "error_y": {
             "color": "#2a3f5f"
            },
            "marker": {
             "line": {
              "color": "#E5ECF6",
              "width": 0.5
             },
             "pattern": {
              "fillmode": "overlay",
              "size": 10,
              "solidity": 0.2
             }
            },
            "type": "bar"
           }
          ],
          "barpolar": [
           {
            "marker": {
             "line": {
              "color": "#E5ECF6",
              "width": 0.5
             },
             "pattern": {
              "fillmode": "overlay",
              "size": 10,
              "solidity": 0.2
             }
            },
            "type": "barpolar"
           }
          ],
          "carpet": [
           {
            "aaxis": {
             "endlinecolor": "#2a3f5f",
             "gridcolor": "white",
             "linecolor": "white",
             "minorgridcolor": "white",
             "startlinecolor": "#2a3f5f"
            },
            "baxis": {
             "endlinecolor": "#2a3f5f",
             "gridcolor": "white",
             "linecolor": "white",
             "minorgridcolor": "white",
             "startlinecolor": "#2a3f5f"
            },
            "type": "carpet"
           }
          ],
          "choropleth": [
           {
            "colorbar": {
             "outlinewidth": 0,
             "ticks": ""
            },
            "type": "choropleth"
           }
          ],
          "contour": [
           {
            "colorbar": {
             "outlinewidth": 0,
             "ticks": ""
            },
            "colorscale": [
             [
              0,
              "#0d0887"
             ],
             [
              0.1111111111111111,
              "#46039f"
             ],
             [
              0.2222222222222222,
              "#7201a8"
             ],
             [
              0.3333333333333333,
              "#9c179e"
             ],
             [
              0.4444444444444444,
              "#bd3786"
             ],
             [
              0.5555555555555556,
              "#d8576b"
             ],
             [
              0.6666666666666666,
              "#ed7953"
             ],
             [
              0.7777777777777778,
              "#fb9f3a"
             ],
             [
              0.8888888888888888,
              "#fdca26"
             ],
             [
              1,
              "#f0f921"
             ]
            ],
            "type": "contour"
           }
          ],
          "contourcarpet": [
           {
            "colorbar": {
             "outlinewidth": 0,
             "ticks": ""
            },
            "type": "contourcarpet"
           }
          ],
          "heatmap": [
           {
            "colorbar": {
             "outlinewidth": 0,
             "ticks": ""
            },
            "colorscale": [
             [
              0,
              "#0d0887"
             ],
             [
              0.1111111111111111,
              "#46039f"
             ],
             [
              0.2222222222222222,
              "#7201a8"
             ],
             [
              0.3333333333333333,
              "#9c179e"
             ],
             [
              0.4444444444444444,
              "#bd3786"
             ],
             [
              0.5555555555555556,
              "#d8576b"
             ],
             [
              0.6666666666666666,
              "#ed7953"
             ],
             [
              0.7777777777777778,
              "#fb9f3a"
             ],
             [
              0.8888888888888888,
              "#fdca26"
             ],
             [
              1,
              "#f0f921"
             ]
            ],
            "type": "heatmap"
           }
          ],
          "heatmapgl": [
           {
            "colorbar": {
             "outlinewidth": 0,
             "ticks": ""
            },
            "colorscale": [
             [
              0,
              "#0d0887"
             ],
             [
              0.1111111111111111,
              "#46039f"
             ],
             [
              0.2222222222222222,
              "#7201a8"
             ],
             [
              0.3333333333333333,
              "#9c179e"
             ],
             [
              0.4444444444444444,
              "#bd3786"
             ],
             [
              0.5555555555555556,
              "#d8576b"
             ],
             [
              0.6666666666666666,
              "#ed7953"
             ],
             [
              0.7777777777777778,
              "#fb9f3a"
             ],
             [
              0.8888888888888888,
              "#fdca26"
             ],
             [
              1,
              "#f0f921"
             ]
            ],
            "type": "heatmapgl"
           }
          ],
          "histogram": [
           {
            "marker": {
             "pattern": {
              "fillmode": "overlay",
              "size": 10,
              "solidity": 0.2
             }
            },
            "type": "histogram"
           }
          ],
          "histogram2d": [
           {
            "colorbar": {
             "outlinewidth": 0,
             "ticks": ""
            },
            "colorscale": [
             [
              0,
              "#0d0887"
             ],
             [
              0.1111111111111111,
              "#46039f"
             ],
             [
              0.2222222222222222,
              "#7201a8"
             ],
             [
              0.3333333333333333,
              "#9c179e"
             ],
             [
              0.4444444444444444,
              "#bd3786"
             ],
             [
              0.5555555555555556,
              "#d8576b"
             ],
             [
              0.6666666666666666,
              "#ed7953"
             ],
             [
              0.7777777777777778,
              "#fb9f3a"
             ],
             [
              0.8888888888888888,
              "#fdca26"
             ],
             [
              1,
              "#f0f921"
             ]
            ],
            "type": "histogram2d"
           }
          ],
          "histogram2dcontour": [
           {
            "colorbar": {
             "outlinewidth": 0,
             "ticks": ""
            },
            "colorscale": [
             [
              0,
              "#0d0887"
             ],
             [
              0.1111111111111111,
              "#46039f"
             ],
             [
              0.2222222222222222,
              "#7201a8"
             ],
             [
              0.3333333333333333,
              "#9c179e"
             ],
             [
              0.4444444444444444,
              "#bd3786"
             ],
             [
              0.5555555555555556,
              "#d8576b"
             ],
             [
              0.6666666666666666,
              "#ed7953"
             ],
             [
              0.7777777777777778,
              "#fb9f3a"
             ],
             [
              0.8888888888888888,
              "#fdca26"
             ],
             [
              1,
              "#f0f921"
             ]
            ],
            "type": "histogram2dcontour"
           }
          ],
          "mesh3d": [
           {
            "colorbar": {
             "outlinewidth": 0,
             "ticks": ""
            },
            "type": "mesh3d"
           }
          ],
          "parcoords": [
           {
            "line": {
             "colorbar": {
              "outlinewidth": 0,
              "ticks": ""
             }
            },
            "type": "parcoords"
           }
          ],
          "pie": [
           {
            "automargin": true,
            "type": "pie"
           }
          ],
          "scatter": [
           {
            "fillpattern": {
             "fillmode": "overlay",
             "size": 10,
             "solidity": 0.2
            },
            "type": "scatter"
           }
          ],
          "scatter3d": [
           {
            "line": {
             "colorbar": {
              "outlinewidth": 0,
              "ticks": ""
             }
            },
            "marker": {
             "colorbar": {
              "outlinewidth": 0,
              "ticks": ""
             }
            },
            "type": "scatter3d"
           }
          ],
          "scattercarpet": [
           {
            "marker": {
             "colorbar": {
              "outlinewidth": 0,
              "ticks": ""
             }
            },
            "type": "scattercarpet"
           }
          ],
          "scattergeo": [
           {
            "marker": {
             "colorbar": {
              "outlinewidth": 0,
              "ticks": ""
             }
            },
            "type": "scattergeo"
           }
          ],
          "scattergl": [
           {
            "marker": {
             "colorbar": {
              "outlinewidth": 0,
              "ticks": ""
             }
            },
            "type": "scattergl"
           }
          ],
          "scattermapbox": [
           {
            "marker": {
             "colorbar": {
              "outlinewidth": 0,
              "ticks": ""
             }
            },
            "type": "scattermapbox"
           }
          ],
          "scatterpolar": [
           {
            "marker": {
             "colorbar": {
              "outlinewidth": 0,
              "ticks": ""
             }
            },
            "type": "scatterpolar"
           }
          ],
          "scatterpolargl": [
           {
            "marker": {
             "colorbar": {
              "outlinewidth": 0,
              "ticks": ""
             }
            },
            "type": "scatterpolargl"
           }
          ],
          "scatterternary": [
           {
            "marker": {
             "colorbar": {
              "outlinewidth": 0,
              "ticks": ""
             }
            },
            "type": "scatterternary"
           }
          ],
          "surface": [
           {
            "colorbar": {
             "outlinewidth": 0,
             "ticks": ""
            },
            "colorscale": [
             [
              0,
              "#0d0887"
             ],
             [
              0.1111111111111111,
              "#46039f"
             ],
             [
              0.2222222222222222,
              "#7201a8"
             ],
             [
              0.3333333333333333,
              "#9c179e"
             ],
             [
              0.4444444444444444,
              "#bd3786"
             ],
             [
              0.5555555555555556,
              "#d8576b"
             ],
             [
              0.6666666666666666,
              "#ed7953"
             ],
             [
              0.7777777777777778,
              "#fb9f3a"
             ],
             [
              0.8888888888888888,
              "#fdca26"
             ],
             [
              1,
              "#f0f921"
             ]
            ],
            "type": "surface"
           }
          ],
          "table": [
           {
            "cells": {
             "fill": {
              "color": "#EBF0F8"
             },
             "line": {
              "color": "white"
             }
            },
            "header": {
             "fill": {
              "color": "#C8D4E3"
             },
             "line": {
              "color": "white"
             }
            },
            "type": "table"
           }
          ]
         },
         "layout": {
          "annotationdefaults": {
           "arrowcolor": "#2a3f5f",
           "arrowhead": 0,
           "arrowwidth": 1
          },
          "autotypenumbers": "strict",
          "coloraxis": {
           "colorbar": {
            "outlinewidth": 0,
            "ticks": ""
           }
          },
          "colorscale": {
           "diverging": [
            [
             0,
             "#8e0152"
            ],
            [
             0.1,
             "#c51b7d"
            ],
            [
             0.2,
             "#de77ae"
            ],
            [
             0.3,
             "#f1b6da"
            ],
            [
             0.4,
             "#fde0ef"
            ],
            [
             0.5,
             "#f7f7f7"
            ],
            [
             0.6,
             "#e6f5d0"
            ],
            [
             0.7,
             "#b8e186"
            ],
            [
             0.8,
             "#7fbc41"
            ],
            [
             0.9,
             "#4d9221"
            ],
            [
             1,
             "#276419"
            ]
           ],
           "sequential": [
            [
             0,
             "#0d0887"
            ],
            [
             0.1111111111111111,
             "#46039f"
            ],
            [
             0.2222222222222222,
             "#7201a8"
            ],
            [
             0.3333333333333333,
             "#9c179e"
            ],
            [
             0.4444444444444444,
             "#bd3786"
            ],
            [
             0.5555555555555556,
             "#d8576b"
            ],
            [
             0.6666666666666666,
             "#ed7953"
            ],
            [
             0.7777777777777778,
             "#fb9f3a"
            ],
            [
             0.8888888888888888,
             "#fdca26"
            ],
            [
             1,
             "#f0f921"
            ]
           ],
           "sequentialminus": [
            [
             0,
             "#0d0887"
            ],
            [
             0.1111111111111111,
             "#46039f"
            ],
            [
             0.2222222222222222,
             "#7201a8"
            ],
            [
             0.3333333333333333,
             "#9c179e"
            ],
            [
             0.4444444444444444,
             "#bd3786"
            ],
            [
             0.5555555555555556,
             "#d8576b"
            ],
            [
             0.6666666666666666,
             "#ed7953"
            ],
            [
             0.7777777777777778,
             "#fb9f3a"
            ],
            [
             0.8888888888888888,
             "#fdca26"
            ],
            [
             1,
             "#f0f921"
            ]
           ]
          },
          "colorway": [
           "#636efa",
           "#EF553B",
           "#00cc96",
           "#ab63fa",
           "#FFA15A",
           "#19d3f3",
           "#FF6692",
           "#B6E880",
           "#FF97FF",
           "#FECB52"
          ],
          "font": {
           "color": "#2a3f5f"
          },
          "geo": {
           "bgcolor": "white",
           "lakecolor": "white",
           "landcolor": "#E5ECF6",
           "showlakes": true,
           "showland": true,
           "subunitcolor": "white"
          },
          "hoverlabel": {
           "align": "left"
          },
          "hovermode": "closest",
          "mapbox": {
           "style": "light"
          },
          "paper_bgcolor": "white",
          "plot_bgcolor": "#E5ECF6",
          "polar": {
           "angularaxis": {
            "gridcolor": "white",
            "linecolor": "white",
            "ticks": ""
           },
           "bgcolor": "#E5ECF6",
           "radialaxis": {
            "gridcolor": "white",
            "linecolor": "white",
            "ticks": ""
           }
          },
          "scene": {
           "xaxis": {
            "backgroundcolor": "#E5ECF6",
            "gridcolor": "white",
            "gridwidth": 2,
            "linecolor": "white",
            "showbackground": true,
            "ticks": "",
            "zerolinecolor": "white"
           },
           "yaxis": {
            "backgroundcolor": "#E5ECF6",
            "gridcolor": "white",
            "gridwidth": 2,
            "linecolor": "white",
            "showbackground": true,
            "ticks": "",
            "zerolinecolor": "white"
           },
           "zaxis": {
            "backgroundcolor": "#E5ECF6",
            "gridcolor": "white",
            "gridwidth": 2,
            "linecolor": "white",
            "showbackground": true,
            "ticks": "",
            "zerolinecolor": "white"
           }
          },
          "shapedefaults": {
           "line": {
            "color": "#2a3f5f"
           }
          },
          "ternary": {
           "aaxis": {
            "gridcolor": "white",
            "linecolor": "white",
            "ticks": ""
           },
           "baxis": {
            "gridcolor": "white",
            "linecolor": "white",
            "ticks": ""
           },
           "bgcolor": "#E5ECF6",
           "caxis": {
            "gridcolor": "white",
            "linecolor": "white",
            "ticks": ""
           }
          },
          "title": {
           "x": 0.05
          },
          "xaxis": {
           "automargin": true,
           "gridcolor": "white",
           "linecolor": "white",
           "ticks": "",
           "title": {
            "standoff": 15
           },
           "zerolinecolor": "white",
           "zerolinewidth": 2
          },
          "yaxis": {
           "automargin": true,
           "gridcolor": "white",
           "linecolor": "white",
           "ticks": "",
           "title": {
            "standoff": 15
           },
           "zerolinecolor": "white",
           "zerolinewidth": 2
          }
         }
        },
        "title": {
         "text": "Applicant Income Segregated by Education"
        },
        "xaxis": {
         "anchor": "y",
         "domain": [
          0,
          1
         ],
         "title": {
          "text": "ApplicantIncome"
         }
        },
        "yaxis": {
         "anchor": "x",
         "domain": [
          0,
          1
         ],
         "title": {
          "text": "Education"
         }
        }
       }
      }
     },
     "metadata": {},
     "output_type": "display_data"
    }
   ],
   "source": [
    "fig = px.box(df, x=\"ApplicantIncome\", y=\"Education\", title='Applicant Income Segregated by Education')\n",
    "fig.show()"
   ]
  },
  {
   "cell_type": "markdown",
   "metadata": {},
   "source": [
    "Look at the histogram and boxplot of LoanAmount"
   ]
  },
  {
   "cell_type": "code",
   "execution_count": 614,
   "metadata": {
    "collapsed": false,
    "jupyter": {
     "outputs_hidden": false
    }
   },
   "outputs": [
    {
     "data": {
      "application/vnd.plotly.v1+json": {
       "config": {
        "plotlyServerURL": "https://plot.ly"
       },
       "data": [
        {
         "alignmentgroup": "True",
         "bingroup": "x",
         "hovertemplate": "LoanAmount=%{x}<br>count=%{y}<extra></extra>",
         "legendgroup": "",
         "marker": {
          "color": "#636efa",
          "pattern": {
           "shape": ""
          }
         },
         "name": "",
         "nbinsx": 30,
         "offsetgroup": "",
         "orientation": "v",
         "showlegend": false,
         "type": "histogram",
         "x": [
          null,
          128,
          66,
          120,
          141,
          267,
          95,
          158,
          168,
          349,
          70,
          109,
          200,
          114,
          17,
          125,
          100,
          76,
          133,
          115,
          104,
          315,
          116,
          112,
          151,
          191,
          122,
          110,
          35,
          120,
          201,
          74,
          106,
          114,
          320,
          null,
          100,
          144,
          184,
          110,
          80,
          47,
          75,
          134,
          96,
          88,
          44,
          144,
          120,
          144,
          100,
          120,
          112,
          134,
          286,
          97,
          96,
          135,
          180,
          144,
          120,
          99,
          165,
          null,
          116,
          258,
          126,
          312,
          125,
          136,
          172,
          97,
          81,
          95,
          187,
          113,
          176,
          110,
          180,
          130,
          111,
          null,
          167,
          265,
          50,
          136,
          99,
          104,
          210,
          175,
          131,
          188,
          81,
          122,
          25,
          null,
          137,
          50,
          115,
          131,
          133,
          151,
          null,
          null,
          160,
          100,
          225,
          120,
          216,
          94,
          136,
          139,
          152,
          null,
          118,
          185,
          154,
          85,
          175,
          259,
          180,
          44,
          137,
          81,
          194,
          93,
          370,
          null,
          160,
          182,
          650,
          74,
          70,
          25,
          102,
          290,
          84,
          88,
          242,
          129,
          185,
          168,
          175,
          122,
          187,
          100,
          70,
          30,
          225,
          125,
          118,
          152,
          244,
          113,
          50,
          600,
          160,
          187,
          120,
          255,
          98,
          275,
          121,
          158,
          75,
          182,
          112,
          129,
          63,
          200,
          95,
          700,
          81,
          187,
          87,
          116,
          101,
          495,
          116,
          102,
          180,
          67,
          73,
          260,
          108,
          120,
          66,
          58,
          168,
          188,
          48,
          164,
          160,
          76,
          120,
          170,
          187,
          120,
          113,
          83,
          90,
          166,
          null,
          135,
          124,
          120,
          80,
          55,
          59,
          127,
          214,
          128,
          240,
          130,
          137,
          100,
          135,
          131,
          72,
          127,
          60,
          116,
          144,
          175,
          128,
          170,
          138,
          210,
          158,
          200,
          104,
          42,
          120,
          280,
          140,
          170,
          255,
          122,
          112,
          96,
          120,
          140,
          155,
          108,
          123,
          120,
          112,
          137,
          123,
          90,
          201,
          138,
          104,
          279,
          192,
          255,
          115,
          94,
          304,
          128,
          330,
          134,
          155,
          120,
          128,
          151,
          150,
          160,
          135,
          90,
          30,
          136,
          126,
          150,
          90,
          115,
          207,
          80,
          436,
          124,
          158,
          112,
          78,
          54,
          null,
          89,
          99,
          120,
          115,
          187,
          139,
          127,
          134,
          143,
          172,
          110,
          200,
          135,
          151,
          113,
          93,
          105,
          132,
          96,
          140,
          null,
          135,
          104,
          480,
          185,
          84,
          111,
          56,
          144,
          159,
          111,
          120,
          88,
          112,
          155,
          115,
          124,
          null,
          132,
          300,
          376,
          130,
          184,
          110,
          67,
          117,
          98,
          71,
          490,
          182,
          70,
          160,
          176,
          null,
          71,
          173,
          46,
          158,
          74,
          125,
          160,
          152,
          126,
          259,
          187,
          228,
          308,
          95,
          105,
          130,
          116,
          165,
          67,
          100,
          200,
          81,
          236,
          130,
          95,
          141,
          133,
          96,
          124,
          175,
          570,
          55,
          155,
          380,
          111,
          110,
          120,
          130,
          130,
          71,
          130,
          128,
          296,
          156,
          128,
          100,
          113,
          132,
          null,
          136,
          125,
          185,
          275,
          120,
          113,
          113,
          135,
          71,
          95,
          109,
          103,
          45,
          65,
          103,
          53,
          194,
          115,
          115,
          66,
          152,
          360,
          62,
          160,
          218,
          110,
          178,
          60,
          160,
          239,
          112,
          138,
          138,
          80,
          100,
          110,
          96,
          121,
          81,
          133,
          87,
          60,
          150,
          105,
          405,
          143,
          100,
          null,
          50,
          null,
          187,
          138,
          187,
          180,
          148,
          152,
          175,
          130,
          110,
          55,
          150,
          190,
          125,
          60,
          149,
          90,
          84,
          96,
          118,
          173,
          136,
          160,
          160,
          128,
          153,
          132,
          98,
          140,
          70,
          110,
          98,
          110,
          162,
          113,
          100,
          93,
          162,
          150,
          230,
          132,
          86,
          null,
          154,
          113,
          128,
          234,
          246,
          131,
          80,
          500,
          160,
          75,
          96,
          186,
          110,
          225,
          119,
          105,
          107,
          111,
          95,
          209,
          113,
          100,
          208,
          138,
          124,
          243,
          480,
          96,
          188,
          40,
          100,
          250,
          148,
          70,
          311,
          150,
          113,
          123,
          185,
          95,
          45,
          55,
          100,
          480,
          null,
          400,
          110,
          161,
          94,
          130,
          216,
          100,
          110,
          196,
          125,
          126,
          324,
          107,
          66,
          157,
          140,
          99,
          95,
          128,
          102,
          155,
          80,
          145,
          103,
          110,
          null,
          null,
          158,
          181,
          132,
          26,
          84,
          260,
          162,
          182,
          108,
          600,
          211,
          132,
          258,
          120,
          70,
          123,
          9,
          104,
          186,
          165,
          275,
          187,
          150,
          108,
          136,
          110,
          107,
          161,
          205,
          90,
          36,
          61,
          146,
          172,
          104,
          70,
          94,
          106,
          56,
          205,
          292,
          142,
          260,
          110,
          187,
          88,
          180,
          192,
          350,
          155,
          128,
          172,
          496,
          null,
          173,
          157,
          108,
          71,
          40,
          253,
          187,
          133
         ],
         "xaxis": "x",
         "yaxis": "y"
        }
       ],
       "layout": {
        "barmode": "relative",
        "legend": {
         "tracegroupgap": 0
        },
        "template": {
         "data": {
          "bar": [
           {
            "error_x": {
             "color": "#2a3f5f"
            },
            "error_y": {
             "color": "#2a3f5f"
            },
            "marker": {
             "line": {
              "color": "#E5ECF6",
              "width": 0.5
             },
             "pattern": {
              "fillmode": "overlay",
              "size": 10,
              "solidity": 0.2
             }
            },
            "type": "bar"
           }
          ],
          "barpolar": [
           {
            "marker": {
             "line": {
              "color": "#E5ECF6",
              "width": 0.5
             },
             "pattern": {
              "fillmode": "overlay",
              "size": 10,
              "solidity": 0.2
             }
            },
            "type": "barpolar"
           }
          ],
          "carpet": [
           {
            "aaxis": {
             "endlinecolor": "#2a3f5f",
             "gridcolor": "white",
             "linecolor": "white",
             "minorgridcolor": "white",
             "startlinecolor": "#2a3f5f"
            },
            "baxis": {
             "endlinecolor": "#2a3f5f",
             "gridcolor": "white",
             "linecolor": "white",
             "minorgridcolor": "white",
             "startlinecolor": "#2a3f5f"
            },
            "type": "carpet"
           }
          ],
          "choropleth": [
           {
            "colorbar": {
             "outlinewidth": 0,
             "ticks": ""
            },
            "type": "choropleth"
           }
          ],
          "contour": [
           {
            "colorbar": {
             "outlinewidth": 0,
             "ticks": ""
            },
            "colorscale": [
             [
              0,
              "#0d0887"
             ],
             [
              0.1111111111111111,
              "#46039f"
             ],
             [
              0.2222222222222222,
              "#7201a8"
             ],
             [
              0.3333333333333333,
              "#9c179e"
             ],
             [
              0.4444444444444444,
              "#bd3786"
             ],
             [
              0.5555555555555556,
              "#d8576b"
             ],
             [
              0.6666666666666666,
              "#ed7953"
             ],
             [
              0.7777777777777778,
              "#fb9f3a"
             ],
             [
              0.8888888888888888,
              "#fdca26"
             ],
             [
              1,
              "#f0f921"
             ]
            ],
            "type": "contour"
           }
          ],
          "contourcarpet": [
           {
            "colorbar": {
             "outlinewidth": 0,
             "ticks": ""
            },
            "type": "contourcarpet"
           }
          ],
          "heatmap": [
           {
            "colorbar": {
             "outlinewidth": 0,
             "ticks": ""
            },
            "colorscale": [
             [
              0,
              "#0d0887"
             ],
             [
              0.1111111111111111,
              "#46039f"
             ],
             [
              0.2222222222222222,
              "#7201a8"
             ],
             [
              0.3333333333333333,
              "#9c179e"
             ],
             [
              0.4444444444444444,
              "#bd3786"
             ],
             [
              0.5555555555555556,
              "#d8576b"
             ],
             [
              0.6666666666666666,
              "#ed7953"
             ],
             [
              0.7777777777777778,
              "#fb9f3a"
             ],
             [
              0.8888888888888888,
              "#fdca26"
             ],
             [
              1,
              "#f0f921"
             ]
            ],
            "type": "heatmap"
           }
          ],
          "heatmapgl": [
           {
            "colorbar": {
             "outlinewidth": 0,
             "ticks": ""
            },
            "colorscale": [
             [
              0,
              "#0d0887"
             ],
             [
              0.1111111111111111,
              "#46039f"
             ],
             [
              0.2222222222222222,
              "#7201a8"
             ],
             [
              0.3333333333333333,
              "#9c179e"
             ],
             [
              0.4444444444444444,
              "#bd3786"
             ],
             [
              0.5555555555555556,
              "#d8576b"
             ],
             [
              0.6666666666666666,
              "#ed7953"
             ],
             [
              0.7777777777777778,
              "#fb9f3a"
             ],
             [
              0.8888888888888888,
              "#fdca26"
             ],
             [
              1,
              "#f0f921"
             ]
            ],
            "type": "heatmapgl"
           }
          ],
          "histogram": [
           {
            "marker": {
             "pattern": {
              "fillmode": "overlay",
              "size": 10,
              "solidity": 0.2
             }
            },
            "type": "histogram"
           }
          ],
          "histogram2d": [
           {
            "colorbar": {
             "outlinewidth": 0,
             "ticks": ""
            },
            "colorscale": [
             [
              0,
              "#0d0887"
             ],
             [
              0.1111111111111111,
              "#46039f"
             ],
             [
              0.2222222222222222,
              "#7201a8"
             ],
             [
              0.3333333333333333,
              "#9c179e"
             ],
             [
              0.4444444444444444,
              "#bd3786"
             ],
             [
              0.5555555555555556,
              "#d8576b"
             ],
             [
              0.6666666666666666,
              "#ed7953"
             ],
             [
              0.7777777777777778,
              "#fb9f3a"
             ],
             [
              0.8888888888888888,
              "#fdca26"
             ],
             [
              1,
              "#f0f921"
             ]
            ],
            "type": "histogram2d"
           }
          ],
          "histogram2dcontour": [
           {
            "colorbar": {
             "outlinewidth": 0,
             "ticks": ""
            },
            "colorscale": [
             [
              0,
              "#0d0887"
             ],
             [
              0.1111111111111111,
              "#46039f"
             ],
             [
              0.2222222222222222,
              "#7201a8"
             ],
             [
              0.3333333333333333,
              "#9c179e"
             ],
             [
              0.4444444444444444,
              "#bd3786"
             ],
             [
              0.5555555555555556,
              "#d8576b"
             ],
             [
              0.6666666666666666,
              "#ed7953"
             ],
             [
              0.7777777777777778,
              "#fb9f3a"
             ],
             [
              0.8888888888888888,
              "#fdca26"
             ],
             [
              1,
              "#f0f921"
             ]
            ],
            "type": "histogram2dcontour"
           }
          ],
          "mesh3d": [
           {
            "colorbar": {
             "outlinewidth": 0,
             "ticks": ""
            },
            "type": "mesh3d"
           }
          ],
          "parcoords": [
           {
            "line": {
             "colorbar": {
              "outlinewidth": 0,
              "ticks": ""
             }
            },
            "type": "parcoords"
           }
          ],
          "pie": [
           {
            "automargin": true,
            "type": "pie"
           }
          ],
          "scatter": [
           {
            "fillpattern": {
             "fillmode": "overlay",
             "size": 10,
             "solidity": 0.2
            },
            "type": "scatter"
           }
          ],
          "scatter3d": [
           {
            "line": {
             "colorbar": {
              "outlinewidth": 0,
              "ticks": ""
             }
            },
            "marker": {
             "colorbar": {
              "outlinewidth": 0,
              "ticks": ""
             }
            },
            "type": "scatter3d"
           }
          ],
          "scattercarpet": [
           {
            "marker": {
             "colorbar": {
              "outlinewidth": 0,
              "ticks": ""
             }
            },
            "type": "scattercarpet"
           }
          ],
          "scattergeo": [
           {
            "marker": {
             "colorbar": {
              "outlinewidth": 0,
              "ticks": ""
             }
            },
            "type": "scattergeo"
           }
          ],
          "scattergl": [
           {
            "marker": {
             "colorbar": {
              "outlinewidth": 0,
              "ticks": ""
             }
            },
            "type": "scattergl"
           }
          ],
          "scattermapbox": [
           {
            "marker": {
             "colorbar": {
              "outlinewidth": 0,
              "ticks": ""
             }
            },
            "type": "scattermapbox"
           }
          ],
          "scatterpolar": [
           {
            "marker": {
             "colorbar": {
              "outlinewidth": 0,
              "ticks": ""
             }
            },
            "type": "scatterpolar"
           }
          ],
          "scatterpolargl": [
           {
            "marker": {
             "colorbar": {
              "outlinewidth": 0,
              "ticks": ""
             }
            },
            "type": "scatterpolargl"
           }
          ],
          "scatterternary": [
           {
            "marker": {
             "colorbar": {
              "outlinewidth": 0,
              "ticks": ""
             }
            },
            "type": "scatterternary"
           }
          ],
          "surface": [
           {
            "colorbar": {
             "outlinewidth": 0,
             "ticks": ""
            },
            "colorscale": [
             [
              0,
              "#0d0887"
             ],
             [
              0.1111111111111111,
              "#46039f"
             ],
             [
              0.2222222222222222,
              "#7201a8"
             ],
             [
              0.3333333333333333,
              "#9c179e"
             ],
             [
              0.4444444444444444,
              "#bd3786"
             ],
             [
              0.5555555555555556,
              "#d8576b"
             ],
             [
              0.6666666666666666,
              "#ed7953"
             ],
             [
              0.7777777777777778,
              "#fb9f3a"
             ],
             [
              0.8888888888888888,
              "#fdca26"
             ],
             [
              1,
              "#f0f921"
             ]
            ],
            "type": "surface"
           }
          ],
          "table": [
           {
            "cells": {
             "fill": {
              "color": "#EBF0F8"
             },
             "line": {
              "color": "white"
             }
            },
            "header": {
             "fill": {
              "color": "#C8D4E3"
             },
             "line": {
              "color": "white"
             }
            },
            "type": "table"
           }
          ]
         },
         "layout": {
          "annotationdefaults": {
           "arrowcolor": "#2a3f5f",
           "arrowhead": 0,
           "arrowwidth": 1
          },
          "autotypenumbers": "strict",
          "coloraxis": {
           "colorbar": {
            "outlinewidth": 0,
            "ticks": ""
           }
          },
          "colorscale": {
           "diverging": [
            [
             0,
             "#8e0152"
            ],
            [
             0.1,
             "#c51b7d"
            ],
            [
             0.2,
             "#de77ae"
            ],
            [
             0.3,
             "#f1b6da"
            ],
            [
             0.4,
             "#fde0ef"
            ],
            [
             0.5,
             "#f7f7f7"
            ],
            [
             0.6,
             "#e6f5d0"
            ],
            [
             0.7,
             "#b8e186"
            ],
            [
             0.8,
             "#7fbc41"
            ],
            [
             0.9,
             "#4d9221"
            ],
            [
             1,
             "#276419"
            ]
           ],
           "sequential": [
            [
             0,
             "#0d0887"
            ],
            [
             0.1111111111111111,
             "#46039f"
            ],
            [
             0.2222222222222222,
             "#7201a8"
            ],
            [
             0.3333333333333333,
             "#9c179e"
            ],
            [
             0.4444444444444444,
             "#bd3786"
            ],
            [
             0.5555555555555556,
             "#d8576b"
            ],
            [
             0.6666666666666666,
             "#ed7953"
            ],
            [
             0.7777777777777778,
             "#fb9f3a"
            ],
            [
             0.8888888888888888,
             "#fdca26"
            ],
            [
             1,
             "#f0f921"
            ]
           ],
           "sequentialminus": [
            [
             0,
             "#0d0887"
            ],
            [
             0.1111111111111111,
             "#46039f"
            ],
            [
             0.2222222222222222,
             "#7201a8"
            ],
            [
             0.3333333333333333,
             "#9c179e"
            ],
            [
             0.4444444444444444,
             "#bd3786"
            ],
            [
             0.5555555555555556,
             "#d8576b"
            ],
            [
             0.6666666666666666,
             "#ed7953"
            ],
            [
             0.7777777777777778,
             "#fb9f3a"
            ],
            [
             0.8888888888888888,
             "#fdca26"
            ],
            [
             1,
             "#f0f921"
            ]
           ]
          },
          "colorway": [
           "#636efa",
           "#EF553B",
           "#00cc96",
           "#ab63fa",
           "#FFA15A",
           "#19d3f3",
           "#FF6692",
           "#B6E880",
           "#FF97FF",
           "#FECB52"
          ],
          "font": {
           "color": "#2a3f5f"
          },
          "geo": {
           "bgcolor": "white",
           "lakecolor": "white",
           "landcolor": "#E5ECF6",
           "showlakes": true,
           "showland": true,
           "subunitcolor": "white"
          },
          "hoverlabel": {
           "align": "left"
          },
          "hovermode": "closest",
          "mapbox": {
           "style": "light"
          },
          "paper_bgcolor": "white",
          "plot_bgcolor": "#E5ECF6",
          "polar": {
           "angularaxis": {
            "gridcolor": "white",
            "linecolor": "white",
            "ticks": ""
           },
           "bgcolor": "#E5ECF6",
           "radialaxis": {
            "gridcolor": "white",
            "linecolor": "white",
            "ticks": ""
           }
          },
          "scene": {
           "xaxis": {
            "backgroundcolor": "#E5ECF6",
            "gridcolor": "white",
            "gridwidth": 2,
            "linecolor": "white",
            "showbackground": true,
            "ticks": "",
            "zerolinecolor": "white"
           },
           "yaxis": {
            "backgroundcolor": "#E5ECF6",
            "gridcolor": "white",
            "gridwidth": 2,
            "linecolor": "white",
            "showbackground": true,
            "ticks": "",
            "zerolinecolor": "white"
           },
           "zaxis": {
            "backgroundcolor": "#E5ECF6",
            "gridcolor": "white",
            "gridwidth": 2,
            "linecolor": "white",
            "showbackground": true,
            "ticks": "",
            "zerolinecolor": "white"
           }
          },
          "shapedefaults": {
           "line": {
            "color": "#2a3f5f"
           }
          },
          "ternary": {
           "aaxis": {
            "gridcolor": "white",
            "linecolor": "white",
            "ticks": ""
           },
           "baxis": {
            "gridcolor": "white",
            "linecolor": "white",
            "ticks": ""
           },
           "bgcolor": "#E5ECF6",
           "caxis": {
            "gridcolor": "white",
            "linecolor": "white",
            "ticks": ""
           }
          },
          "title": {
           "x": 0.05
          },
          "xaxis": {
           "automargin": true,
           "gridcolor": "white",
           "linecolor": "white",
           "ticks": "",
           "title": {
            "standoff": 15
           },
           "zerolinecolor": "white",
           "zerolinewidth": 2
          },
          "yaxis": {
           "automargin": true,
           "gridcolor": "white",
           "linecolor": "white",
           "ticks": "",
           "title": {
            "standoff": 15
           },
           "zerolinecolor": "white",
           "zerolinewidth": 2
          }
         }
        },
        "title": {
         "text": "Loan Amount Histogram"
        },
        "xaxis": {
         "anchor": "y",
         "domain": [
          0,
          1
         ],
         "title": {
          "text": "LoanAmount"
         }
        },
        "yaxis": {
         "anchor": "x",
         "domain": [
          0,
          1
         ],
         "title": {
          "text": "count"
         }
        }
       }
      }
     },
     "metadata": {},
     "output_type": "display_data"
    }
   ],
   "source": [
    "fig = px.histogram(df, x=\"LoanAmount\", nbins=30, title='Loan Amount Histogram')\n",
    "fig.show()"
   ]
  },
  {
   "cell_type": "code",
   "execution_count": 615,
   "metadata": {
    "collapsed": false,
    "jupyter": {
     "outputs_hidden": false
    }
   },
   "outputs": [
    {
     "data": {
      "application/vnd.plotly.v1+json": {
       "config": {
        "plotlyServerURL": "https://plot.ly"
       },
       "data": [
        {
         "alignmentgroup": "True",
         "hovertemplate": "LoanAmount=%{x}<extra></extra>",
         "legendgroup": "",
         "marker": {
          "color": "#636efa"
         },
         "name": "",
         "notched": false,
         "offsetgroup": "",
         "orientation": "h",
         "showlegend": false,
         "type": "box",
         "x": [
          null,
          128,
          66,
          120,
          141,
          267,
          95,
          158,
          168,
          349,
          70,
          109,
          200,
          114,
          17,
          125,
          100,
          76,
          133,
          115,
          104,
          315,
          116,
          112,
          151,
          191,
          122,
          110,
          35,
          120,
          201,
          74,
          106,
          114,
          320,
          null,
          100,
          144,
          184,
          110,
          80,
          47,
          75,
          134,
          96,
          88,
          44,
          144,
          120,
          144,
          100,
          120,
          112,
          134,
          286,
          97,
          96,
          135,
          180,
          144,
          120,
          99,
          165,
          null,
          116,
          258,
          126,
          312,
          125,
          136,
          172,
          97,
          81,
          95,
          187,
          113,
          176,
          110,
          180,
          130,
          111,
          null,
          167,
          265,
          50,
          136,
          99,
          104,
          210,
          175,
          131,
          188,
          81,
          122,
          25,
          null,
          137,
          50,
          115,
          131,
          133,
          151,
          null,
          null,
          160,
          100,
          225,
          120,
          216,
          94,
          136,
          139,
          152,
          null,
          118,
          185,
          154,
          85,
          175,
          259,
          180,
          44,
          137,
          81,
          194,
          93,
          370,
          null,
          160,
          182,
          650,
          74,
          70,
          25,
          102,
          290,
          84,
          88,
          242,
          129,
          185,
          168,
          175,
          122,
          187,
          100,
          70,
          30,
          225,
          125,
          118,
          152,
          244,
          113,
          50,
          600,
          160,
          187,
          120,
          255,
          98,
          275,
          121,
          158,
          75,
          182,
          112,
          129,
          63,
          200,
          95,
          700,
          81,
          187,
          87,
          116,
          101,
          495,
          116,
          102,
          180,
          67,
          73,
          260,
          108,
          120,
          66,
          58,
          168,
          188,
          48,
          164,
          160,
          76,
          120,
          170,
          187,
          120,
          113,
          83,
          90,
          166,
          null,
          135,
          124,
          120,
          80,
          55,
          59,
          127,
          214,
          128,
          240,
          130,
          137,
          100,
          135,
          131,
          72,
          127,
          60,
          116,
          144,
          175,
          128,
          170,
          138,
          210,
          158,
          200,
          104,
          42,
          120,
          280,
          140,
          170,
          255,
          122,
          112,
          96,
          120,
          140,
          155,
          108,
          123,
          120,
          112,
          137,
          123,
          90,
          201,
          138,
          104,
          279,
          192,
          255,
          115,
          94,
          304,
          128,
          330,
          134,
          155,
          120,
          128,
          151,
          150,
          160,
          135,
          90,
          30,
          136,
          126,
          150,
          90,
          115,
          207,
          80,
          436,
          124,
          158,
          112,
          78,
          54,
          null,
          89,
          99,
          120,
          115,
          187,
          139,
          127,
          134,
          143,
          172,
          110,
          200,
          135,
          151,
          113,
          93,
          105,
          132,
          96,
          140,
          null,
          135,
          104,
          480,
          185,
          84,
          111,
          56,
          144,
          159,
          111,
          120,
          88,
          112,
          155,
          115,
          124,
          null,
          132,
          300,
          376,
          130,
          184,
          110,
          67,
          117,
          98,
          71,
          490,
          182,
          70,
          160,
          176,
          null,
          71,
          173,
          46,
          158,
          74,
          125,
          160,
          152,
          126,
          259,
          187,
          228,
          308,
          95,
          105,
          130,
          116,
          165,
          67,
          100,
          200,
          81,
          236,
          130,
          95,
          141,
          133,
          96,
          124,
          175,
          570,
          55,
          155,
          380,
          111,
          110,
          120,
          130,
          130,
          71,
          130,
          128,
          296,
          156,
          128,
          100,
          113,
          132,
          null,
          136,
          125,
          185,
          275,
          120,
          113,
          113,
          135,
          71,
          95,
          109,
          103,
          45,
          65,
          103,
          53,
          194,
          115,
          115,
          66,
          152,
          360,
          62,
          160,
          218,
          110,
          178,
          60,
          160,
          239,
          112,
          138,
          138,
          80,
          100,
          110,
          96,
          121,
          81,
          133,
          87,
          60,
          150,
          105,
          405,
          143,
          100,
          null,
          50,
          null,
          187,
          138,
          187,
          180,
          148,
          152,
          175,
          130,
          110,
          55,
          150,
          190,
          125,
          60,
          149,
          90,
          84,
          96,
          118,
          173,
          136,
          160,
          160,
          128,
          153,
          132,
          98,
          140,
          70,
          110,
          98,
          110,
          162,
          113,
          100,
          93,
          162,
          150,
          230,
          132,
          86,
          null,
          154,
          113,
          128,
          234,
          246,
          131,
          80,
          500,
          160,
          75,
          96,
          186,
          110,
          225,
          119,
          105,
          107,
          111,
          95,
          209,
          113,
          100,
          208,
          138,
          124,
          243,
          480,
          96,
          188,
          40,
          100,
          250,
          148,
          70,
          311,
          150,
          113,
          123,
          185,
          95,
          45,
          55,
          100,
          480,
          null,
          400,
          110,
          161,
          94,
          130,
          216,
          100,
          110,
          196,
          125,
          126,
          324,
          107,
          66,
          157,
          140,
          99,
          95,
          128,
          102,
          155,
          80,
          145,
          103,
          110,
          null,
          null,
          158,
          181,
          132,
          26,
          84,
          260,
          162,
          182,
          108,
          600,
          211,
          132,
          258,
          120,
          70,
          123,
          9,
          104,
          186,
          165,
          275,
          187,
          150,
          108,
          136,
          110,
          107,
          161,
          205,
          90,
          36,
          61,
          146,
          172,
          104,
          70,
          94,
          106,
          56,
          205,
          292,
          142,
          260,
          110,
          187,
          88,
          180,
          192,
          350,
          155,
          128,
          172,
          496,
          null,
          173,
          157,
          108,
          71,
          40,
          253,
          187,
          133
         ],
         "x0": " ",
         "xaxis": "x",
         "y0": " ",
         "yaxis": "y"
        }
       ],
       "layout": {
        "boxmode": "group",
        "legend": {
         "tracegroupgap": 0
        },
        "template": {
         "data": {
          "bar": [
           {
            "error_x": {
             "color": "#2a3f5f"
            },
            "error_y": {
             "color": "#2a3f5f"
            },
            "marker": {
             "line": {
              "color": "#E5ECF6",
              "width": 0.5
             },
             "pattern": {
              "fillmode": "overlay",
              "size": 10,
              "solidity": 0.2
             }
            },
            "type": "bar"
           }
          ],
          "barpolar": [
           {
            "marker": {
             "line": {
              "color": "#E5ECF6",
              "width": 0.5
             },
             "pattern": {
              "fillmode": "overlay",
              "size": 10,
              "solidity": 0.2
             }
            },
            "type": "barpolar"
           }
          ],
          "carpet": [
           {
            "aaxis": {
             "endlinecolor": "#2a3f5f",
             "gridcolor": "white",
             "linecolor": "white",
             "minorgridcolor": "white",
             "startlinecolor": "#2a3f5f"
            },
            "baxis": {
             "endlinecolor": "#2a3f5f",
             "gridcolor": "white",
             "linecolor": "white",
             "minorgridcolor": "white",
             "startlinecolor": "#2a3f5f"
            },
            "type": "carpet"
           }
          ],
          "choropleth": [
           {
            "colorbar": {
             "outlinewidth": 0,
             "ticks": ""
            },
            "type": "choropleth"
           }
          ],
          "contour": [
           {
            "colorbar": {
             "outlinewidth": 0,
             "ticks": ""
            },
            "colorscale": [
             [
              0,
              "#0d0887"
             ],
             [
              0.1111111111111111,
              "#46039f"
             ],
             [
              0.2222222222222222,
              "#7201a8"
             ],
             [
              0.3333333333333333,
              "#9c179e"
             ],
             [
              0.4444444444444444,
              "#bd3786"
             ],
             [
              0.5555555555555556,
              "#d8576b"
             ],
             [
              0.6666666666666666,
              "#ed7953"
             ],
             [
              0.7777777777777778,
              "#fb9f3a"
             ],
             [
              0.8888888888888888,
              "#fdca26"
             ],
             [
              1,
              "#f0f921"
             ]
            ],
            "type": "contour"
           }
          ],
          "contourcarpet": [
           {
            "colorbar": {
             "outlinewidth": 0,
             "ticks": ""
            },
            "type": "contourcarpet"
           }
          ],
          "heatmap": [
           {
            "colorbar": {
             "outlinewidth": 0,
             "ticks": ""
            },
            "colorscale": [
             [
              0,
              "#0d0887"
             ],
             [
              0.1111111111111111,
              "#46039f"
             ],
             [
              0.2222222222222222,
              "#7201a8"
             ],
             [
              0.3333333333333333,
              "#9c179e"
             ],
             [
              0.4444444444444444,
              "#bd3786"
             ],
             [
              0.5555555555555556,
              "#d8576b"
             ],
             [
              0.6666666666666666,
              "#ed7953"
             ],
             [
              0.7777777777777778,
              "#fb9f3a"
             ],
             [
              0.8888888888888888,
              "#fdca26"
             ],
             [
              1,
              "#f0f921"
             ]
            ],
            "type": "heatmap"
           }
          ],
          "heatmapgl": [
           {
            "colorbar": {
             "outlinewidth": 0,
             "ticks": ""
            },
            "colorscale": [
             [
              0,
              "#0d0887"
             ],
             [
              0.1111111111111111,
              "#46039f"
             ],
             [
              0.2222222222222222,
              "#7201a8"
             ],
             [
              0.3333333333333333,
              "#9c179e"
             ],
             [
              0.4444444444444444,
              "#bd3786"
             ],
             [
              0.5555555555555556,
              "#d8576b"
             ],
             [
              0.6666666666666666,
              "#ed7953"
             ],
             [
              0.7777777777777778,
              "#fb9f3a"
             ],
             [
              0.8888888888888888,
              "#fdca26"
             ],
             [
              1,
              "#f0f921"
             ]
            ],
            "type": "heatmapgl"
           }
          ],
          "histogram": [
           {
            "marker": {
             "pattern": {
              "fillmode": "overlay",
              "size": 10,
              "solidity": 0.2
             }
            },
            "type": "histogram"
           }
          ],
          "histogram2d": [
           {
            "colorbar": {
             "outlinewidth": 0,
             "ticks": ""
            },
            "colorscale": [
             [
              0,
              "#0d0887"
             ],
             [
              0.1111111111111111,
              "#46039f"
             ],
             [
              0.2222222222222222,
              "#7201a8"
             ],
             [
              0.3333333333333333,
              "#9c179e"
             ],
             [
              0.4444444444444444,
              "#bd3786"
             ],
             [
              0.5555555555555556,
              "#d8576b"
             ],
             [
              0.6666666666666666,
              "#ed7953"
             ],
             [
              0.7777777777777778,
              "#fb9f3a"
             ],
             [
              0.8888888888888888,
              "#fdca26"
             ],
             [
              1,
              "#f0f921"
             ]
            ],
            "type": "histogram2d"
           }
          ],
          "histogram2dcontour": [
           {
            "colorbar": {
             "outlinewidth": 0,
             "ticks": ""
            },
            "colorscale": [
             [
              0,
              "#0d0887"
             ],
             [
              0.1111111111111111,
              "#46039f"
             ],
             [
              0.2222222222222222,
              "#7201a8"
             ],
             [
              0.3333333333333333,
              "#9c179e"
             ],
             [
              0.4444444444444444,
              "#bd3786"
             ],
             [
              0.5555555555555556,
              "#d8576b"
             ],
             [
              0.6666666666666666,
              "#ed7953"
             ],
             [
              0.7777777777777778,
              "#fb9f3a"
             ],
             [
              0.8888888888888888,
              "#fdca26"
             ],
             [
              1,
              "#f0f921"
             ]
            ],
            "type": "histogram2dcontour"
           }
          ],
          "mesh3d": [
           {
            "colorbar": {
             "outlinewidth": 0,
             "ticks": ""
            },
            "type": "mesh3d"
           }
          ],
          "parcoords": [
           {
            "line": {
             "colorbar": {
              "outlinewidth": 0,
              "ticks": ""
             }
            },
            "type": "parcoords"
           }
          ],
          "pie": [
           {
            "automargin": true,
            "type": "pie"
           }
          ],
          "scatter": [
           {
            "fillpattern": {
             "fillmode": "overlay",
             "size": 10,
             "solidity": 0.2
            },
            "type": "scatter"
           }
          ],
          "scatter3d": [
           {
            "line": {
             "colorbar": {
              "outlinewidth": 0,
              "ticks": ""
             }
            },
            "marker": {
             "colorbar": {
              "outlinewidth": 0,
              "ticks": ""
             }
            },
            "type": "scatter3d"
           }
          ],
          "scattercarpet": [
           {
            "marker": {
             "colorbar": {
              "outlinewidth": 0,
              "ticks": ""
             }
            },
            "type": "scattercarpet"
           }
          ],
          "scattergeo": [
           {
            "marker": {
             "colorbar": {
              "outlinewidth": 0,
              "ticks": ""
             }
            },
            "type": "scattergeo"
           }
          ],
          "scattergl": [
           {
            "marker": {
             "colorbar": {
              "outlinewidth": 0,
              "ticks": ""
             }
            },
            "type": "scattergl"
           }
          ],
          "scattermapbox": [
           {
            "marker": {
             "colorbar": {
              "outlinewidth": 0,
              "ticks": ""
             }
            },
            "type": "scattermapbox"
           }
          ],
          "scatterpolar": [
           {
            "marker": {
             "colorbar": {
              "outlinewidth": 0,
              "ticks": ""
             }
            },
            "type": "scatterpolar"
           }
          ],
          "scatterpolargl": [
           {
            "marker": {
             "colorbar": {
              "outlinewidth": 0,
              "ticks": ""
             }
            },
            "type": "scatterpolargl"
           }
          ],
          "scatterternary": [
           {
            "marker": {
             "colorbar": {
              "outlinewidth": 0,
              "ticks": ""
             }
            },
            "type": "scatterternary"
           }
          ],
          "surface": [
           {
            "colorbar": {
             "outlinewidth": 0,
             "ticks": ""
            },
            "colorscale": [
             [
              0,
              "#0d0887"
             ],
             [
              0.1111111111111111,
              "#46039f"
             ],
             [
              0.2222222222222222,
              "#7201a8"
             ],
             [
              0.3333333333333333,
              "#9c179e"
             ],
             [
              0.4444444444444444,
              "#bd3786"
             ],
             [
              0.5555555555555556,
              "#d8576b"
             ],
             [
              0.6666666666666666,
              "#ed7953"
             ],
             [
              0.7777777777777778,
              "#fb9f3a"
             ],
             [
              0.8888888888888888,
              "#fdca26"
             ],
             [
              1,
              "#f0f921"
             ]
            ],
            "type": "surface"
           }
          ],
          "table": [
           {
            "cells": {
             "fill": {
              "color": "#EBF0F8"
             },
             "line": {
              "color": "white"
             }
            },
            "header": {
             "fill": {
              "color": "#C8D4E3"
             },
             "line": {
              "color": "white"
             }
            },
            "type": "table"
           }
          ]
         },
         "layout": {
          "annotationdefaults": {
           "arrowcolor": "#2a3f5f",
           "arrowhead": 0,
           "arrowwidth": 1
          },
          "autotypenumbers": "strict",
          "coloraxis": {
           "colorbar": {
            "outlinewidth": 0,
            "ticks": ""
           }
          },
          "colorscale": {
           "diverging": [
            [
             0,
             "#8e0152"
            ],
            [
             0.1,
             "#c51b7d"
            ],
            [
             0.2,
             "#de77ae"
            ],
            [
             0.3,
             "#f1b6da"
            ],
            [
             0.4,
             "#fde0ef"
            ],
            [
             0.5,
             "#f7f7f7"
            ],
            [
             0.6,
             "#e6f5d0"
            ],
            [
             0.7,
             "#b8e186"
            ],
            [
             0.8,
             "#7fbc41"
            ],
            [
             0.9,
             "#4d9221"
            ],
            [
             1,
             "#276419"
            ]
           ],
           "sequential": [
            [
             0,
             "#0d0887"
            ],
            [
             0.1111111111111111,
             "#46039f"
            ],
            [
             0.2222222222222222,
             "#7201a8"
            ],
            [
             0.3333333333333333,
             "#9c179e"
            ],
            [
             0.4444444444444444,
             "#bd3786"
            ],
            [
             0.5555555555555556,
             "#d8576b"
            ],
            [
             0.6666666666666666,
             "#ed7953"
            ],
            [
             0.7777777777777778,
             "#fb9f3a"
            ],
            [
             0.8888888888888888,
             "#fdca26"
            ],
            [
             1,
             "#f0f921"
            ]
           ],
           "sequentialminus": [
            [
             0,
             "#0d0887"
            ],
            [
             0.1111111111111111,
             "#46039f"
            ],
            [
             0.2222222222222222,
             "#7201a8"
            ],
            [
             0.3333333333333333,
             "#9c179e"
            ],
            [
             0.4444444444444444,
             "#bd3786"
            ],
            [
             0.5555555555555556,
             "#d8576b"
            ],
            [
             0.6666666666666666,
             "#ed7953"
            ],
            [
             0.7777777777777778,
             "#fb9f3a"
            ],
            [
             0.8888888888888888,
             "#fdca26"
            ],
            [
             1,
             "#f0f921"
            ]
           ]
          },
          "colorway": [
           "#636efa",
           "#EF553B",
           "#00cc96",
           "#ab63fa",
           "#FFA15A",
           "#19d3f3",
           "#FF6692",
           "#B6E880",
           "#FF97FF",
           "#FECB52"
          ],
          "font": {
           "color": "#2a3f5f"
          },
          "geo": {
           "bgcolor": "white",
           "lakecolor": "white",
           "landcolor": "#E5ECF6",
           "showlakes": true,
           "showland": true,
           "subunitcolor": "white"
          },
          "hoverlabel": {
           "align": "left"
          },
          "hovermode": "closest",
          "mapbox": {
           "style": "light"
          },
          "paper_bgcolor": "white",
          "plot_bgcolor": "#E5ECF6",
          "polar": {
           "angularaxis": {
            "gridcolor": "white",
            "linecolor": "white",
            "ticks": ""
           },
           "bgcolor": "#E5ECF6",
           "radialaxis": {
            "gridcolor": "white",
            "linecolor": "white",
            "ticks": ""
           }
          },
          "scene": {
           "xaxis": {
            "backgroundcolor": "#E5ECF6",
            "gridcolor": "white",
            "gridwidth": 2,
            "linecolor": "white",
            "showbackground": true,
            "ticks": "",
            "zerolinecolor": "white"
           },
           "yaxis": {
            "backgroundcolor": "#E5ECF6",
            "gridcolor": "white",
            "gridwidth": 2,
            "linecolor": "white",
            "showbackground": true,
            "ticks": "",
            "zerolinecolor": "white"
           },
           "zaxis": {
            "backgroundcolor": "#E5ECF6",
            "gridcolor": "white",
            "gridwidth": 2,
            "linecolor": "white",
            "showbackground": true,
            "ticks": "",
            "zerolinecolor": "white"
           }
          },
          "shapedefaults": {
           "line": {
            "color": "#2a3f5f"
           }
          },
          "ternary": {
           "aaxis": {
            "gridcolor": "white",
            "linecolor": "white",
            "ticks": ""
           },
           "baxis": {
            "gridcolor": "white",
            "linecolor": "white",
            "ticks": ""
           },
           "bgcolor": "#E5ECF6",
           "caxis": {
            "gridcolor": "white",
            "linecolor": "white",
            "ticks": ""
           }
          },
          "title": {
           "x": 0.05
          },
          "xaxis": {
           "automargin": true,
           "gridcolor": "white",
           "linecolor": "white",
           "ticks": "",
           "title": {
            "standoff": 15
           },
           "zerolinecolor": "white",
           "zerolinewidth": 2
          },
          "yaxis": {
           "automargin": true,
           "gridcolor": "white",
           "linecolor": "white",
           "ticks": "",
           "title": {
            "standoff": 15
           },
           "zerolinecolor": "white",
           "zerolinewidth": 2
          }
         }
        },
        "title": {
         "text": "Loan Amount Box Plot"
        },
        "xaxis": {
         "anchor": "y",
         "domain": [
          0,
          1
         ],
         "title": {
          "text": "LoanAmount"
         }
        },
        "yaxis": {
         "anchor": "x",
         "domain": [
          0,
          1
         ]
        }
       }
      }
     },
     "metadata": {},
     "output_type": "display_data"
    }
   ],
   "source": [
    "fig = px.box(df, x=\"LoanAmount\", title='Loan Amount Box Plot')\n",
    "fig.show()"
   ]
  },
  {
   "cell_type": "markdown",
   "metadata": {},
   "source": [
    "There might be some extreme values. Both `ApplicantIncome` and `LoanAmount` require some amount of data munging. `LoanAmount` has missing and well as extreme values values, while `ApplicantIncome` has a few extreme values, which demand deeper understanding. "
   ]
  },
  {
   "cell_type": "markdown",
   "metadata": {},
   "source": [
    "### Categorical variable analysis\n",
    "\n",
    "Try to understand categorical variables in more details using `pandas.DataFrame.pivot_table` and some visualizations."
   ]
  },
  {
   "cell_type": "code",
   "execution_count": 616,
   "metadata": {
    "collapsed": false,
    "jupyter": {
     "outputs_hidden": false
    }
   },
   "outputs": [
    {
     "data": {
      "text/html": [
       "<div>\n",
       "<style scoped>\n",
       "    .dataframe tbody tr th:only-of-type {\n",
       "        vertical-align: middle;\n",
       "    }\n",
       "\n",
       "    .dataframe tbody tr th {\n",
       "        vertical-align: top;\n",
       "    }\n",
       "\n",
       "    .dataframe thead tr th {\n",
       "        text-align: left;\n",
       "    }\n",
       "\n",
       "    .dataframe thead tr:last-of-type th {\n",
       "        text-align: right;\n",
       "    }\n",
       "</style>\n",
       "<table border=\"1\" class=\"dataframe\">\n",
       "  <thead>\n",
       "    <tr>\n",
       "      <th></th>\n",
       "      <th colspan=\"4\" halign=\"left\">ApplicantIncome</th>\n",
       "      <th colspan=\"4\" halign=\"left\">LoanAmount</th>\n",
       "    </tr>\n",
       "    <tr>\n",
       "      <th>Gender</th>\n",
       "      <th colspan=\"2\" halign=\"left\">Female</th>\n",
       "      <th colspan=\"2\" halign=\"left\">Male</th>\n",
       "      <th colspan=\"2\" halign=\"left\">Female</th>\n",
       "      <th colspan=\"2\" halign=\"left\">Male</th>\n",
       "    </tr>\n",
       "    <tr>\n",
       "      <th>Education</th>\n",
       "      <th>Graduate</th>\n",
       "      <th>Not Graduate</th>\n",
       "      <th>Graduate</th>\n",
       "      <th>Not Graduate</th>\n",
       "      <th>Graduate</th>\n",
       "      <th>Not Graduate</th>\n",
       "      <th>Graduate</th>\n",
       "      <th>Not Graduate</th>\n",
       "    </tr>\n",
       "    <tr>\n",
       "      <th>Loan_Status</th>\n",
       "      <th></th>\n",
       "      <th></th>\n",
       "      <th></th>\n",
       "      <th></th>\n",
       "      <th></th>\n",
       "      <th></th>\n",
       "      <th></th>\n",
       "      <th></th>\n",
       "    </tr>\n",
       "  </thead>\n",
       "  <tbody>\n",
       "    <tr>\n",
       "      <th>N</th>\n",
       "      <td>4284.129032</td>\n",
       "      <td>3095.333333</td>\n",
       "      <td>6773.409524</td>\n",
       "      <td>3726.177778</td>\n",
       "      <td>133.451613</td>\n",
       "      <td>99.200000</td>\n",
       "      <td>171.373737</td>\n",
       "      <td>125.292683</td>\n",
       "    </tr>\n",
       "    <tr>\n",
       "      <th>Y</th>\n",
       "      <td>4830.606557</td>\n",
       "      <td>5287.285714</td>\n",
       "      <td>5689.719557</td>\n",
       "      <td>3566.455882</td>\n",
       "      <td>127.966102</td>\n",
       "      <td>116.214286</td>\n",
       "      <td>152.977273</td>\n",
       "      <td>116.151515</td>\n",
       "    </tr>\n",
       "  </tbody>\n",
       "</table>\n",
       "</div>"
      ],
      "text/plain": [
       "            ApplicantIncome                                         \\\n",
       "Gender               Female                      Male                \n",
       "Education          Graduate Not Graduate     Graduate Not Graduate   \n",
       "Loan_Status                                                          \n",
       "N               4284.129032  3095.333333  6773.409524  3726.177778   \n",
       "Y               4830.606557  5287.285714  5689.719557  3566.455882   \n",
       "\n",
       "             LoanAmount                                        \n",
       "Gender           Female                     Male               \n",
       "Education      Graduate Not Graduate    Graduate Not Graduate  \n",
       "Loan_Status                                                    \n",
       "N            133.451613    99.200000  171.373737   125.292683  \n",
       "Y            127.966102   116.214286  152.977273   116.151515  "
      ]
     },
     "execution_count": 616,
     "metadata": {},
     "output_type": "execute_result"
    }
   ],
   "source": [
    "table = pd.pivot_table(df, columns=['Gender', 'Education'], values=['ApplicantIncome', 'LoanAmount'],index=['Loan_Status'], aggfunc={\n",
    "    'ApplicantIncome': np.mean,\n",
    "    'LoanAmount': np.mean\n",
    "    })\n",
    "table"
   ]
  },
  {
   "cell_type": "code",
   "execution_count": 617,
   "metadata": {},
   "outputs": [
    {
     "data": {
      "text/html": [
       "<div>\n",
       "<style scoped>\n",
       "    .dataframe tbody tr th:only-of-type {\n",
       "        vertical-align: middle;\n",
       "    }\n",
       "\n",
       "    .dataframe tbody tr th {\n",
       "        vertical-align: top;\n",
       "    }\n",
       "\n",
       "    .dataframe thead tr th {\n",
       "        text-align: left;\n",
       "    }\n",
       "\n",
       "    .dataframe thead tr:last-of-type th {\n",
       "        text-align: right;\n",
       "    }\n",
       "</style>\n",
       "<table border=\"1\" class=\"dataframe\">\n",
       "  <thead>\n",
       "    <tr>\n",
       "      <th></th>\n",
       "      <th colspan=\"3\" halign=\"left\">ApplicantIncome</th>\n",
       "      <th colspan=\"3\" halign=\"left\">LoanAmount</th>\n",
       "    </tr>\n",
       "    <tr>\n",
       "      <th>Property_Area</th>\n",
       "      <th>Rural</th>\n",
       "      <th>Semiurban</th>\n",
       "      <th>Urban</th>\n",
       "      <th>Rural</th>\n",
       "      <th>Semiurban</th>\n",
       "      <th>Urban</th>\n",
       "    </tr>\n",
       "    <tr>\n",
       "      <th>Loan_Status</th>\n",
       "      <th></th>\n",
       "      <th></th>\n",
       "      <th></th>\n",
       "      <th></th>\n",
       "      <th></th>\n",
       "      <th></th>\n",
       "    </tr>\n",
       "  </thead>\n",
       "  <tbody>\n",
       "    <tr>\n",
       "      <th>N</th>\n",
       "      <td>6497.521739</td>\n",
       "      <td>5296.851852</td>\n",
       "      <td>4511.420290</td>\n",
       "      <td>158.742424</td>\n",
       "      <td>154.566038</td>\n",
       "      <td>140.354839</td>\n",
       "    </tr>\n",
       "    <tr>\n",
       "      <th>Y</th>\n",
       "      <td>4962.290909</td>\n",
       "      <td>5290.877095</td>\n",
       "      <td>5858.330827</td>\n",
       "      <td>148.261682</td>\n",
       "      <td>142.760000</td>\n",
       "      <td>143.085271</td>\n",
       "    </tr>\n",
       "  </tbody>\n",
       "</table>\n",
       "</div>"
      ],
      "text/plain": [
       "              ApplicantIncome                            LoanAmount  \\\n",
       "Property_Area           Rural    Semiurban        Urban       Rural   \n",
       "Loan_Status                                                           \n",
       "N                 6497.521739  5296.851852  4511.420290  158.742424   \n",
       "Y                 4962.290909  5290.877095  5858.330827  148.261682   \n",
       "\n",
       "                                       \n",
       "Property_Area   Semiurban       Urban  \n",
       "Loan_Status                            \n",
       "N              154.566038  140.354839  \n",
       "Y              142.760000  143.085271  "
      ]
     },
     "execution_count": 617,
     "metadata": {},
     "output_type": "execute_result"
    }
   ],
   "source": [
    "table = pd.pivot_table(df, columns=['Property_Area'], values=['ApplicantIncome', 'LoanAmount'],index=['Loan_Status'], aggfunc={\n",
    "    'ApplicantIncome': np.mean,\n",
    "    'LoanAmount': np.mean\n",
    "    })\n",
    "table"
   ]
  },
  {
   "cell_type": "code",
   "execution_count": 618,
   "metadata": {},
   "outputs": [
    {
     "data": {
      "text/plain": [
       "<seaborn.axisgrid.FacetGrid at 0x17f27d220>"
      ]
     },
     "execution_count": 618,
     "metadata": {},
     "output_type": "execute_result"
    },
    {
     "data": {
      "image/png": "[encoded data removed]",
      "text/plain": [
       "<Figure size 360x360 with 1 Axes>"
      ]
     },
     "metadata": {
      "needs_background": "light"
     },
     "output_type": "display_data"
    }
   ],
   "source": [
    "import seaborn as sns\n",
    "sns.catplot(x=\"Loan_Status\", y=\"LoanAmount\", data=df)"
   ]
  },
  {
   "cell_type": "code",
   "execution_count": 619,
   "metadata": {},
   "outputs": [
    {
     "data": {
      "text/plain": [
       "<seaborn.axisgrid.FacetGrid at 0x17f290df0>"
      ]
     },
     "execution_count": 619,
     "metadata": {},
     "output_type": "execute_result"
    },
    {
     "data": {
      "image/png": "[encoded data removed]",
      "text/plain": [
       "<Figure size 360x360 with 1 Axes>"
      ]
     },
     "metadata": {
      "needs_background": "light"
     },
     "output_type": "display_data"
    }
   ],
   "source": [
    "sns.catplot(x=\"Loan_Status\", y=\"Education\", data=df)"
   ]
  },
  {
   "cell_type": "code",
   "execution_count": 620,
   "metadata": {},
   "outputs": [
    {
     "data": {
      "text/plain": [
       "<seaborn.axisgrid.FacetGrid at 0x17f2755b0>"
      ]
     },
     "execution_count": 620,
     "metadata": {},
     "output_type": "execute_result"
    },
    {
     "data": {
      "image/png": "[encoded data removed]",
      "text/plain": [
       "<Figure size 360x360 with 1 Axes>"
      ]
     },
     "metadata": {
      "needs_background": "light"
     },
     "output_type": "display_data"
    }
   ],
   "source": [
    "sns.catplot(x=\"Gender\", y=\"ApplicantIncome\", data=df)"
   ]
  },
  {
   "cell_type": "markdown",
   "metadata": {},
   "source": [
    "## 3. Data Cleaning\n",
    "\n",
    "This step typically involves imputing missing values and treating outliers. "
   ]
  },
  {
   "cell_type": "markdown",
   "metadata": {},
   "source": [
    "### Imputing Missing Values\n",
    "\n",
    "Missing values may not always be NaNs. For instance, the `Loan_Amount_Term` might be 0, which does not make sense.\n",
    "\n"
   ]
  },
  {
   "cell_type": "markdown",
   "metadata": {},
   "source": [
    "Impute missing values for all columns. Use the values which you find most meaningful (mean, mode, median, zero.... maybe different mean values for different groups)"
   ]
  },
  {
   "cell_type": "code",
   "execution_count": 621,
   "metadata": {},
   "outputs": [
    {
     "data": {
      "text/html": [
       "<div>\n",
       "<style scoped>\n",
       "    .dataframe tbody tr th:only-of-type {\n",
       "        vertical-align: middle;\n",
       "    }\n",
       "\n",
       "    .dataframe tbody tr th {\n",
       "        vertical-align: top;\n",
       "    }\n",
       "\n",
       "    .dataframe thead th {\n",
       "        text-align: right;\n",
       "    }\n",
       "</style>\n",
       "<table border=\"1\" class=\"dataframe\">\n",
       "  <thead>\n",
       "    <tr style=\"text-align: right;\">\n",
       "      <th></th>\n",
       "      <th>Loan_ID</th>\n",
       "      <th>Gender</th>\n",
       "      <th>Married</th>\n",
       "      <th>Dependents</th>\n",
       "      <th>Education</th>\n",
       "      <th>Self_Employed</th>\n",
       "      <th>ApplicantIncome</th>\n",
       "      <th>CoapplicantIncome</th>\n",
       "      <th>LoanAmount</th>\n",
       "      <th>Loan_Amount_Term</th>\n",
       "      <th>Credit_History</th>\n",
       "      <th>Property_Area</th>\n",
       "      <th>Loan_Status</th>\n",
       "    </tr>\n",
       "  </thead>\n",
       "  <tbody>\n",
       "    <tr>\n",
       "      <th>0</th>\n",
       "      <td>LP001002</td>\n",
       "      <td>Male</td>\n",
       "      <td>No</td>\n",
       "      <td>0</td>\n",
       "      <td>Graduate</td>\n",
       "      <td>No</td>\n",
       "      <td>5849</td>\n",
       "      <td>0.0</td>\n",
       "      <td>NaN</td>\n",
       "      <td>360.0</td>\n",
       "      <td>1.0</td>\n",
       "      <td>Urban</td>\n",
       "      <td>Y</td>\n",
       "    </tr>\n",
       "    <tr>\n",
       "      <th>1</th>\n",
       "      <td>LP001003</td>\n",
       "      <td>Male</td>\n",
       "      <td>Yes</td>\n",
       "      <td>1</td>\n",
       "      <td>Graduate</td>\n",
       "      <td>No</td>\n",
       "      <td>4583</td>\n",
       "      <td>1508.0</td>\n",
       "      <td>128.0</td>\n",
       "      <td>360.0</td>\n",
       "      <td>1.0</td>\n",
       "      <td>Rural</td>\n",
       "      <td>N</td>\n",
       "    </tr>\n",
       "    <tr>\n",
       "      <th>2</th>\n",
       "      <td>LP001005</td>\n",
       "      <td>Male</td>\n",
       "      <td>Yes</td>\n",
       "      <td>0</td>\n",
       "      <td>Graduate</td>\n",
       "      <td>Yes</td>\n",
       "      <td>3000</td>\n",
       "      <td>0.0</td>\n",
       "      <td>66.0</td>\n",
       "      <td>360.0</td>\n",
       "      <td>1.0</td>\n",
       "      <td>Urban</td>\n",
       "      <td>Y</td>\n",
       "    </tr>\n",
       "    <tr>\n",
       "      <th>3</th>\n",
       "      <td>LP001006</td>\n",
       "      <td>Male</td>\n",
       "      <td>Yes</td>\n",
       "      <td>0</td>\n",
       "      <td>Not Graduate</td>\n",
       "      <td>No</td>\n",
       "      <td>2583</td>\n",
       "      <td>2358.0</td>\n",
       "      <td>120.0</td>\n",
       "      <td>360.0</td>\n",
       "      <td>1.0</td>\n",
       "      <td>Urban</td>\n",
       "      <td>Y</td>\n",
       "    </tr>\n",
       "    <tr>\n",
       "      <th>4</th>\n",
       "      <td>LP001008</td>\n",
       "      <td>Male</td>\n",
       "      <td>No</td>\n",
       "      <td>0</td>\n",
       "      <td>Graduate</td>\n",
       "      <td>No</td>\n",
       "      <td>6000</td>\n",
       "      <td>0.0</td>\n",
       "      <td>141.0</td>\n",
       "      <td>360.0</td>\n",
       "      <td>1.0</td>\n",
       "      <td>Urban</td>\n",
       "      <td>Y</td>\n",
       "    </tr>\n",
       "  </tbody>\n",
       "</table>\n",
       "</div>"
      ],
      "text/plain": [
       "    Loan_ID Gender Married Dependents     Education Self_Employed  \\\n",
       "0  LP001002   Male      No          0      Graduate            No   \n",
       "1  LP001003   Male     Yes          1      Graduate            No   \n",
       "2  LP001005   Male     Yes          0      Graduate           Yes   \n",
       "3  LP001006   Male     Yes          0  Not Graduate            No   \n",
       "4  LP001008   Male      No          0      Graduate            No   \n",
       "\n",
       "   ApplicantIncome  CoapplicantIncome  LoanAmount  Loan_Amount_Term  \\\n",
       "0             5849                0.0         NaN             360.0   \n",
       "1             4583             1508.0       128.0             360.0   \n",
       "2             3000                0.0        66.0             360.0   \n",
       "3             2583             2358.0       120.0             360.0   \n",
       "4             6000                0.0       141.0             360.0   \n",
       "\n",
       "   Credit_History Property_Area Loan_Status  \n",
       "0             1.0         Urban           Y  \n",
       "1             1.0         Rural           N  \n",
       "2             1.0         Urban           Y  \n",
       "3             1.0         Urban           Y  \n",
       "4             1.0         Urban           Y  "
      ]
     },
     "execution_count": 621,
     "metadata": {},
     "output_type": "execute_result"
    }
   ],
   "source": [
    "df.head()"
   ]
  },
  {
   "cell_type": "code",
   "execution_count": 622,
   "metadata": {},
   "outputs": [
    {
     "name": "stdout",
     "output_type": "stream",
     "text": [
      "0    Male\n",
      "Name: Gender, dtype: object\n",
      "0    No\n",
      "Name: Self_Employed, dtype: object\n",
      "0    0\n",
      "Name: Dependents, dtype: object\n",
      "146.41216216216216\n",
      "342.0\n"
     ]
    }
   ],
   "source": [
    "data = df.copy()\n",
    "\n",
    "print(data.Gender.mode())\n",
    "print(data.Self_Employed.mode())\n",
    "print(data.Dependents.mode())\n",
    "print(data.LoanAmount.mean())\n",
    "print(data.Loan_Amount_Term.mean())"
   ]
  },
  {
   "cell_type": "code",
   "execution_count": 623,
   "metadata": {},
   "outputs": [],
   "source": [
    "fill_values = {\"Gender\": 'Male','Married': 'No', 'Dependents': '0', \"Self_Employed\": 'No', 'LoanAmount': 146.4, 'Loan_Amount_Term': 342, 'Credit_History': 0}\n",
    "data = data.fillna(value=fill_values)"
   ]
  },
  {
   "cell_type": "code",
   "execution_count": 624,
   "metadata": {},
   "outputs": [
    {
     "data": {
      "text/html": [
       "<div>\n",
       "<style scoped>\n",
       "    .dataframe tbody tr th:only-of-type {\n",
       "        vertical-align: middle;\n",
       "    }\n",
       "\n",
       "    .dataframe tbody tr th {\n",
       "        vertical-align: top;\n",
       "    }\n",
       "\n",
       "    .dataframe thead th {\n",
       "        text-align: right;\n",
       "    }\n",
       "</style>\n",
       "<table border=\"1\" class=\"dataframe\">\n",
       "  <thead>\n",
       "    <tr style=\"text-align: right;\">\n",
       "      <th></th>\n",
       "      <th>Loan_ID</th>\n",
       "      <th>Gender</th>\n",
       "      <th>Married</th>\n",
       "      <th>Dependents</th>\n",
       "      <th>Education</th>\n",
       "      <th>Self_Employed</th>\n",
       "      <th>ApplicantIncome</th>\n",
       "      <th>CoapplicantIncome</th>\n",
       "      <th>LoanAmount</th>\n",
       "      <th>Loan_Amount_Term</th>\n",
       "      <th>Credit_History</th>\n",
       "      <th>Property_Area</th>\n",
       "      <th>Loan_Status</th>\n",
       "    </tr>\n",
       "  </thead>\n",
       "  <tbody>\n",
       "    <tr>\n",
       "      <th>0</th>\n",
       "      <td>LP001002</td>\n",
       "      <td>Male</td>\n",
       "      <td>No</td>\n",
       "      <td>0</td>\n",
       "      <td>Graduate</td>\n",
       "      <td>No</td>\n",
       "      <td>5849</td>\n",
       "      <td>0.0</td>\n",
       "      <td>146.4</td>\n",
       "      <td>360.0</td>\n",
       "      <td>1.0</td>\n",
       "      <td>Urban</td>\n",
       "      <td>Y</td>\n",
       "    </tr>\n",
       "    <tr>\n",
       "      <th>1</th>\n",
       "      <td>LP001003</td>\n",
       "      <td>Male</td>\n",
       "      <td>Yes</td>\n",
       "      <td>1</td>\n",
       "      <td>Graduate</td>\n",
       "      <td>No</td>\n",
       "      <td>4583</td>\n",
       "      <td>1508.0</td>\n",
       "      <td>128.0</td>\n",
       "      <td>360.0</td>\n",
       "      <td>1.0</td>\n",
       "      <td>Rural</td>\n",
       "      <td>N</td>\n",
       "    </tr>\n",
       "    <tr>\n",
       "      <th>2</th>\n",
       "      <td>LP001005</td>\n",
       "      <td>Male</td>\n",
       "      <td>Yes</td>\n",
       "      <td>0</td>\n",
       "      <td>Graduate</td>\n",
       "      <td>Yes</td>\n",
       "      <td>3000</td>\n",
       "      <td>0.0</td>\n",
       "      <td>66.0</td>\n",
       "      <td>360.0</td>\n",
       "      <td>1.0</td>\n",
       "      <td>Urban</td>\n",
       "      <td>Y</td>\n",
       "    </tr>\n",
       "    <tr>\n",
       "      <th>3</th>\n",
       "      <td>LP001006</td>\n",
       "      <td>Male</td>\n",
       "      <td>Yes</td>\n",
       "      <td>0</td>\n",
       "      <td>Not Graduate</td>\n",
       "      <td>No</td>\n",
       "      <td>2583</td>\n",
       "      <td>2358.0</td>\n",
       "      <td>120.0</td>\n",
       "      <td>360.0</td>\n",
       "      <td>1.0</td>\n",
       "      <td>Urban</td>\n",
       "      <td>Y</td>\n",
       "    </tr>\n",
       "    <tr>\n",
       "      <th>4</th>\n",
       "      <td>LP001008</td>\n",
       "      <td>Male</td>\n",
       "      <td>No</td>\n",
       "      <td>0</td>\n",
       "      <td>Graduate</td>\n",
       "      <td>No</td>\n",
       "      <td>6000</td>\n",
       "      <td>0.0</td>\n",
       "      <td>141.0</td>\n",
       "      <td>360.0</td>\n",
       "      <td>1.0</td>\n",
       "      <td>Urban</td>\n",
       "      <td>Y</td>\n",
       "    </tr>\n",
       "  </tbody>\n",
       "</table>\n",
       "</div>"
      ],
      "text/plain": [
       "    Loan_ID Gender Married Dependents     Education Self_Employed  \\\n",
       "0  LP001002   Male      No          0      Graduate            No   \n",
       "1  LP001003   Male     Yes          1      Graduate            No   \n",
       "2  LP001005   Male     Yes          0      Graduate           Yes   \n",
       "3  LP001006   Male     Yes          0  Not Graduate            No   \n",
       "4  LP001008   Male      No          0      Graduate            No   \n",
       "\n",
       "   ApplicantIncome  CoapplicantIncome  LoanAmount  Loan_Amount_Term  \\\n",
       "0             5849                0.0       146.4             360.0   \n",
       "1             4583             1508.0       128.0             360.0   \n",
       "2             3000                0.0        66.0             360.0   \n",
       "3             2583             2358.0       120.0             360.0   \n",
       "4             6000                0.0       141.0             360.0   \n",
       "\n",
       "   Credit_History Property_Area Loan_Status  \n",
       "0             1.0         Urban           Y  \n",
       "1             1.0         Rural           N  \n",
       "2             1.0         Urban           Y  \n",
       "3             1.0         Urban           Y  \n",
       "4             1.0         Urban           Y  "
      ]
     },
     "execution_count": 624,
     "metadata": {},
     "output_type": "execute_result"
    }
   ],
   "source": [
    "data.head()"
   ]
  },
  {
   "cell_type": "code",
   "execution_count": 625,
   "metadata": {},
   "outputs": [
    {
     "data": {
      "text/html": [
       "<div>\n",
       "<style scoped>\n",
       "    .dataframe tbody tr th:only-of-type {\n",
       "        vertical-align: middle;\n",
       "    }\n",
       "\n",
       "    .dataframe tbody tr th {\n",
       "        vertical-align: top;\n",
       "    }\n",
       "\n",
       "    .dataframe thead th {\n",
       "        text-align: right;\n",
       "    }\n",
       "</style>\n",
       "<table border=\"1\" class=\"dataframe\">\n",
       "  <thead>\n",
       "    <tr style=\"text-align: right;\">\n",
       "      <th></th>\n",
       "      <th>Total</th>\n",
       "      <th>Percent</th>\n",
       "    </tr>\n",
       "  </thead>\n",
       "  <tbody>\n",
       "    <tr>\n",
       "      <th>Loan_ID</th>\n",
       "      <td>0</td>\n",
       "      <td>0.0</td>\n",
       "    </tr>\n",
       "    <tr>\n",
       "      <th>Gender</th>\n",
       "      <td>0</td>\n",
       "      <td>0.0</td>\n",
       "    </tr>\n",
       "    <tr>\n",
       "      <th>Married</th>\n",
       "      <td>0</td>\n",
       "      <td>0.0</td>\n",
       "    </tr>\n",
       "    <tr>\n",
       "      <th>Dependents</th>\n",
       "      <td>0</td>\n",
       "      <td>0.0</td>\n",
       "    </tr>\n",
       "    <tr>\n",
       "      <th>Education</th>\n",
       "      <td>0</td>\n",
       "      <td>0.0</td>\n",
       "    </tr>\n",
       "    <tr>\n",
       "      <th>Self_Employed</th>\n",
       "      <td>0</td>\n",
       "      <td>0.0</td>\n",
       "    </tr>\n",
       "    <tr>\n",
       "      <th>ApplicantIncome</th>\n",
       "      <td>0</td>\n",
       "      <td>0.0</td>\n",
       "    </tr>\n",
       "    <tr>\n",
       "      <th>CoapplicantIncome</th>\n",
       "      <td>0</td>\n",
       "      <td>0.0</td>\n",
       "    </tr>\n",
       "    <tr>\n",
       "      <th>LoanAmount</th>\n",
       "      <td>0</td>\n",
       "      <td>0.0</td>\n",
       "    </tr>\n",
       "    <tr>\n",
       "      <th>Loan_Amount_Term</th>\n",
       "      <td>0</td>\n",
       "      <td>0.0</td>\n",
       "    </tr>\n",
       "    <tr>\n",
       "      <th>Credit_History</th>\n",
       "      <td>0</td>\n",
       "      <td>0.0</td>\n",
       "    </tr>\n",
       "    <tr>\n",
       "      <th>Property_Area</th>\n",
       "      <td>0</td>\n",
       "      <td>0.0</td>\n",
       "    </tr>\n",
       "    <tr>\n",
       "      <th>Loan_Status</th>\n",
       "      <td>0</td>\n",
       "      <td>0.0</td>\n",
       "    </tr>\n",
       "  </tbody>\n",
       "</table>\n",
       "</div>"
      ],
      "text/plain": [
       "                   Total  Percent\n",
       "Loan_ID                0      0.0\n",
       "Gender                 0      0.0\n",
       "Married                0      0.0\n",
       "Dependents             0      0.0\n",
       "Education              0      0.0\n",
       "Self_Employed          0      0.0\n",
       "ApplicantIncome        0      0.0\n",
       "CoapplicantIncome      0      0.0\n",
       "LoanAmount             0      0.0\n",
       "Loan_Amount_Term       0      0.0\n",
       "Credit_History         0      0.0\n",
       "Property_Area          0      0.0\n",
       "Loan_Status            0      0.0"
      ]
     },
     "execution_count": 625,
     "metadata": {},
     "output_type": "execute_result"
    }
   ],
   "source": [
    "total = data.isnull().sum().sort_values(ascending=False)\n",
    "percent = (data.isnull().sum()/data.isnull().count()).sort_values(ascending=False)\n",
    "missing_data = pd.concat([total, percent], axis=1, keys=['Total', 'Percent'])\n",
    "missing_data"
   ]
  },
  {
   "cell_type": "markdown",
   "metadata": {},
   "source": [
    "### Extreme values\n",
    "Try a log transformation to get rid of the extreme values in `LoanAmount`. Plot the histogram before and after the transformation"
   ]
  },
  {
   "cell_type": "code",
   "execution_count": 626,
   "metadata": {},
   "outputs": [],
   "source": [
    "import plotly.express as px\n",
    "import seaborn as sns"
   ]
  },
  {
   "cell_type": "code",
   "execution_count": 627,
   "metadata": {
    "collapsed": false,
    "jupyter": {
     "outputs_hidden": false
    }
   },
   "outputs": [
    {
     "data": {
      "application/vnd.plotly.v1+json": {
       "config": {
        "plotlyServerURL": "https://plot.ly"
       },
       "data": [
        {
         "alignmentgroup": "True",
         "bingroup": "x",
         "hovertemplate": "LoanAmount=%{x}<br>count=%{y}<extra></extra>",
         "legendgroup": "",
         "marker": {
          "color": "#636efa",
          "pattern": {
           "shape": ""
          }
         },
         "name": "",
         "offsetgroup": "",
         "orientation": "v",
         "showlegend": false,
         "type": "histogram",
         "x": [
          146.4,
          128,
          66,
          120,
          141,
          267,
          95,
          158,
          168,
          349,
          70,
          109,
          200,
          114,
          17,
          125,
          100,
          76,
          133,
          115,
          104,
          315,
          116,
          112,
          151,
          191,
          122,
          110,
          35,
          120,
          201,
          74,
          106,
          114,
          320,
          146.4,
          100,
          144,
          184,
          110,
          80,
          47,
          75,
          134,
          96,
          88,
          44,
          144,
          120,
          144,
          100,
          120,
          112,
          134,
          286,
          97,
          96,
          135,
          180,
          144,
          120,
          99,
          165,
          146.4,
          116,
          258,
          126,
          312,
          125,
          136,
          172,
          97,
          81,
          95,
          187,
          113,
          176,
          110,
          180,
          130,
          111,
          146.4,
          167,
          265,
          50,
          136,
          99,
          104,
          210,
          175,
          131,
          188,
          81,
          122,
          25,
          146.4,
          137,
          50,
          115,
          131,
          133,
          151,
          146.4,
          146.4,
          160,
          100,
          225,
          120,
          216,
          94,
          136,
          139,
          152,
          146.4,
          118,
          185,
          154,
          85,
          175,
          259,
          180,
          44,
          137,
          81,
          194,
          93,
          370,
          146.4,
          160,
          182,
          650,
          74,
          70,
          25,
          102,
          290,
          84,
          88,
          242,
          129,
          185,
          168,
          175,
          122,
          187,
          100,
          70,
          30,
          225,
          125,
          118,
          152,
          244,
          113,
          50,
          600,
          160,
          187,
          120,
          255,
          98,
          275,
          121,
          158,
          75,
          182,
          112,
          129,
          63,
          200,
          95,
          700,
          81,
          187,
          87,
          116,
          101,
          495,
          116,
          102,
          180,
          67,
          73,
          260,
          108,
          120,
          66,
          58,
          168,
          188,
          48,
          164,
          160,
          76,
          120,
          170,
          187,
          120,
          113,
          83,
          90,
          166,
          146.4,
          135,
          124,
          120,
          80,
          55,
          59,
          127,
          214,
          128,
          240,
          130,
          137,
          100,
          135,
          131,
          72,
          127,
          60,
          116,
          144,
          175,
          128,
          170,
          138,
          210,
          158,
          200,
          104,
          42,
          120,
          280,
          140,
          170,
          255,
          122,
          112,
          96,
          120,
          140,
          155,
          108,
          123,
          120,
          112,
          137,
          123,
          90,
          201,
          138,
          104,
          279,
          192,
          255,
          115,
          94,
          304,
          128,
          330,
          134,
          155,
          120,
          128,
          151,
          150,
          160,
          135,
          90,
          30,
          136,
          126,
          150,
          90,
          115,
          207,
          80,
          436,
          124,
          158,
          112,
          78,
          54,
          146.4,
          89,
          99,
          120,
          115,
          187,
          139,
          127,
          134,
          143,
          172,
          110,
          200,
          135,
          151,
          113,
          93,
          105,
          132,
          96,
          140,
          146.4,
          135,
          104,
          480,
          185,
          84,
          111,
          56,
          144,
          159,
          111,
          120,
          88,
          112,
          155,
          115,
          124,
          146.4,
          132,
          300,
          376,
          130,
          184,
          110,
          67,
          117,
          98,
          71,
          490,
          182,
          70,
          160,
          176,
          146.4,
          71,
          173,
          46,
          158,
          74,
          125,
          160,
          152,
          126,
          259,
          187,
          228,
          308,
          95,
          105,
          130,
          116,
          165,
          67,
          100,
          200,
          81,
          236,
          130,
          95,
          141,
          133,
          96,
          124,
          175,
          570,
          55,
          155,
          380,
          111,
          110,
          120,
          130,
          130,
          71,
          130,
          128,
          296,
          156,
          128,
          100,
          113,
          132,
          146.4,
          136,
          125,
          185,
          275,
          120,
          113,
          113,
          135,
          71,
          95,
          109,
          103,
          45,
          65,
          103,
          53,
          194,
          115,
          115,
          66,
          152,
          360,
          62,
          160,
          218,
          110,
          178,
          60,
          160,
          239,
          112,
          138,
          138,
          80,
          100,
          110,
          96,
          121,
          81,
          133,
          87,
          60,
          150,
          105,
          405,
          143,
          100,
          146.4,
          50,
          146.4,
          187,
          138,
          187,
          180,
          148,
          152,
          175,
          130,
          110,
          55,
          150,
          190,
          125,
          60,
          149,
          90,
          84,
          96,
          118,
          173,
          136,
          160,
          160,
          128,
          153,
          132,
          98,
          140,
          70,
          110,
          98,
          110,
          162,
          113,
          100,
          93,
          162,
          150,
          230,
          132,
          86,
          146.4,
          154,
          113,
          128,
          234,
          246,
          131,
          80,
          500,
          160,
          75,
          96,
          186,
          110,
          225,
          119,
          105,
          107,
          111,
          95,
          209,
          113,
          100,
          208,
          138,
          124,
          243,
          480,
          96,
          188,
          40,
          100,
          250,
          148,
          70,
          311,
          150,
          113,
          123,
          185,
          95,
          45,
          55,
          100,
          480,
          146.4,
          400,
          110,
          161,
          94,
          130,
          216,
          100,
          110,
          196,
          125,
          126,
          324,
          107,
          66,
          157,
          140,
          99,
          95,
          128,
          102,
          155,
          80,
          145,
          103,
          110,
          146.4,
          146.4,
          158,
          181,
          132,
          26,
          84,
          260,
          162,
          182,
          108,
          600,
          211,
          132,
          258,
          120,
          70,
          123,
          9,
          104,
          186,
          165,
          275,
          187,
          150,
          108,
          136,
          110,
          107,
          161,
          205,
          90,
          36,
          61,
          146,
          172,
          104,
          70,
          94,
          106,
          56,
          205,
          292,
          142,
          260,
          110,
          187,
          88,
          180,
          192,
          350,
          155,
          128,
          172,
          496,
          146.4,
          173,
          157,
          108,
          71,
          40,
          253,
          187,
          133
         ],
         "xaxis": "x",
         "yaxis": "y"
        }
       ],
       "layout": {
        "barmode": "relative",
        "legend": {
         "tracegroupgap": 0
        },
        "template": {
         "data": {
          "bar": [
           {
            "error_x": {
             "color": "#2a3f5f"
            },
            "error_y": {
             "color": "#2a3f5f"
            },
            "marker": {
             "line": {
              "color": "#E5ECF6",
              "width": 0.5
             },
             "pattern": {
              "fillmode": "overlay",
              "size": 10,
              "solidity": 0.2
             }
            },
            "type": "bar"
           }
          ],
          "barpolar": [
           {
            "marker": {
             "line": {
              "color": "#E5ECF6",
              "width": 0.5
             },
             "pattern": {
              "fillmode": "overlay",
              "size": 10,
              "solidity": 0.2
             }
            },
            "type": "barpolar"
           }
          ],
          "carpet": [
           {
            "aaxis": {
             "endlinecolor": "#2a3f5f",
             "gridcolor": "white",
             "linecolor": "white",
             "minorgridcolor": "white",
             "startlinecolor": "#2a3f5f"
            },
            "baxis": {
             "endlinecolor": "#2a3f5f",
             "gridcolor": "white",
             "linecolor": "white",
             "minorgridcolor": "white",
             "startlinecolor": "#2a3f5f"
            },
            "type": "carpet"
           }
          ],
          "choropleth": [
           {
            "colorbar": {
             "outlinewidth": 0,
             "ticks": ""
            },
            "type": "choropleth"
           }
          ],
          "contour": [
           {
            "colorbar": {
             "outlinewidth": 0,
             "ticks": ""
            },
            "colorscale": [
             [
              0,
              "#0d0887"
             ],
             [
              0.1111111111111111,
              "#46039f"
             ],
             [
              0.2222222222222222,
              "#7201a8"
             ],
             [
              0.3333333333333333,
              "#9c179e"
             ],
             [
              0.4444444444444444,
              "#bd3786"
             ],
             [
              0.5555555555555556,
              "#d8576b"
             ],
             [
              0.6666666666666666,
              "#ed7953"
             ],
             [
              0.7777777777777778,
              "#fb9f3a"
             ],
             [
              0.8888888888888888,
              "#fdca26"
             ],
             [
              1,
              "#f0f921"
             ]
            ],
            "type": "contour"
           }
          ],
          "contourcarpet": [
           {
            "colorbar": {
             "outlinewidth": 0,
             "ticks": ""
            },
            "type": "contourcarpet"
           }
          ],
          "heatmap": [
           {
            "colorbar": {
             "outlinewidth": 0,
             "ticks": ""
            },
            "colorscale": [
             [
              0,
              "#0d0887"
             ],
             [
              0.1111111111111111,
              "#46039f"
             ],
             [
              0.2222222222222222,
              "#7201a8"
             ],
             [
              0.3333333333333333,
              "#9c179e"
             ],
             [
              0.4444444444444444,
              "#bd3786"
             ],
             [
              0.5555555555555556,
              "#d8576b"
             ],
             [
              0.6666666666666666,
              "#ed7953"
             ],
             [
              0.7777777777777778,
              "#fb9f3a"
             ],
             [
              0.8888888888888888,
              "#fdca26"
             ],
             [
              1,
              "#f0f921"
             ]
            ],
            "type": "heatmap"
           }
          ],
          "heatmapgl": [
           {
            "colorbar": {
             "outlinewidth": 0,
             "ticks": ""
            },
            "colorscale": [
             [
              0,
              "#0d0887"
             ],
             [
              0.1111111111111111,
              "#46039f"
             ],
             [
              0.2222222222222222,
              "#7201a8"
             ],
             [
              0.3333333333333333,
              "#9c179e"
             ],
             [
              0.4444444444444444,
              "#bd3786"
             ],
             [
              0.5555555555555556,
              "#d8576b"
             ],
             [
              0.6666666666666666,
              "#ed7953"
             ],
             [
              0.7777777777777778,
              "#fb9f3a"
             ],
             [
              0.8888888888888888,
              "#fdca26"
             ],
             [
              1,
              "#f0f921"
             ]
            ],
            "type": "heatmapgl"
           }
          ],
          "histogram": [
           {
            "marker": {
             "pattern": {
              "fillmode": "overlay",
              "size": 10,
              "solidity": 0.2
             }
            },
            "type": "histogram"
           }
          ],
          "histogram2d": [
           {
            "colorbar": {
             "outlinewidth": 0,
             "ticks": ""
            },
            "colorscale": [
             [
              0,
              "#0d0887"
             ],
             [
              0.1111111111111111,
              "#46039f"
             ],
             [
              0.2222222222222222,
              "#7201a8"
             ],
             [
              0.3333333333333333,
              "#9c179e"
             ],
             [
              0.4444444444444444,
              "#bd3786"
             ],
             [
              0.5555555555555556,
              "#d8576b"
             ],
             [
              0.6666666666666666,
              "#ed7953"
             ],
             [
              0.7777777777777778,
              "#fb9f3a"
             ],
             [
              0.8888888888888888,
              "#fdca26"
             ],
             [
              1,
              "#f0f921"
             ]
            ],
            "type": "histogram2d"
           }
          ],
          "histogram2dcontour": [
           {
            "colorbar": {
             "outlinewidth": 0,
             "ticks": ""
            },
            "colorscale": [
             [
              0,
              "#0d0887"
             ],
             [
              0.1111111111111111,
              "#46039f"
             ],
             [
              0.2222222222222222,
              "#7201a8"
             ],
             [
              0.3333333333333333,
              "#9c179e"
             ],
             [
              0.4444444444444444,
              "#bd3786"
             ],
             [
              0.5555555555555556,
              "#d8576b"
             ],
             [
              0.6666666666666666,
              "#ed7953"
             ],
             [
              0.7777777777777778,
              "#fb9f3a"
             ],
             [
              0.8888888888888888,
              "#fdca26"
             ],
             [
              1,
              "#f0f921"
             ]
            ],
            "type": "histogram2dcontour"
           }
          ],
          "mesh3d": [
           {
            "colorbar": {
             "outlinewidth": 0,
             "ticks": ""
            },
            "type": "mesh3d"
           }
          ],
          "parcoords": [
           {
            "line": {
             "colorbar": {
              "outlinewidth": 0,
              "ticks": ""
             }
            },
            "type": "parcoords"
           }
          ],
          "pie": [
           {
            "automargin": true,
            "type": "pie"
           }
          ],
          "scatter": [
           {
            "fillpattern": {
             "fillmode": "overlay",
             "size": 10,
             "solidity": 0.2
            },
            "type": "scatter"
           }
          ],
          "scatter3d": [
           {
            "line": {
             "colorbar": {
              "outlinewidth": 0,
              "ticks": ""
             }
            },
            "marker": {
             "colorbar": {
              "outlinewidth": 0,
              "ticks": ""
             }
            },
            "type": "scatter3d"
           }
          ],
          "scattercarpet": [
           {
            "marker": {
             "colorbar": {
              "outlinewidth": 0,
              "ticks": ""
             }
            },
            "type": "scattercarpet"
           }
          ],
          "scattergeo": [
           {
            "marker": {
             "colorbar": {
              "outlinewidth": 0,
              "ticks": ""
             }
            },
            "type": "scattergeo"
           }
          ],
          "scattergl": [
           {
            "marker": {
             "colorbar": {
              "outlinewidth": 0,
              "ticks": ""
             }
            },
            "type": "scattergl"
           }
          ],
          "scattermapbox": [
           {
            "marker": {
             "colorbar": {
              "outlinewidth": 0,
              "ticks": ""
             }
            },
            "type": "scattermapbox"
           }
          ],
          "scatterpolar": [
           {
            "marker": {
             "colorbar": {
              "outlinewidth": 0,
              "ticks": ""
             }
            },
            "type": "scatterpolar"
           }
          ],
          "scatterpolargl": [
           {
            "marker": {
             "colorbar": {
              "outlinewidth": 0,
              "ticks": ""
             }
            },
            "type": "scatterpolargl"
           }
          ],
          "scatterternary": [
           {
            "marker": {
             "colorbar": {
              "outlinewidth": 0,
              "ticks": ""
             }
            },
            "type": "scatterternary"
           }
          ],
          "surface": [
           {
            "colorbar": {
             "outlinewidth": 0,
             "ticks": ""
            },
            "colorscale": [
             [
              0,
              "#0d0887"
             ],
             [
              0.1111111111111111,
              "#46039f"
             ],
             [
              0.2222222222222222,
              "#7201a8"
             ],
             [
              0.3333333333333333,
              "#9c179e"
             ],
             [
              0.4444444444444444,
              "#bd3786"
             ],
             [
              0.5555555555555556,
              "#d8576b"
             ],
             [
              0.6666666666666666,
              "#ed7953"
             ],
             [
              0.7777777777777778,
              "#fb9f3a"
             ],
             [
              0.8888888888888888,
              "#fdca26"
             ],
             [
              1,
              "#f0f921"
             ]
            ],
            "type": "surface"
           }
          ],
          "table": [
           {
            "cells": {
             "fill": {
              "color": "#EBF0F8"
             },
             "line": {
              "color": "white"
             }
            },
            "header": {
             "fill": {
              "color": "#C8D4E3"
             },
             "line": {
              "color": "white"
             }
            },
            "type": "table"
           }
          ]
         },
         "layout": {
          "annotationdefaults": {
           "arrowcolor": "#2a3f5f",
           "arrowhead": 0,
           "arrowwidth": 1
          },
          "autotypenumbers": "strict",
          "coloraxis": {
           "colorbar": {
            "outlinewidth": 0,
            "ticks": ""
           }
          },
          "colorscale": {
           "diverging": [
            [
             0,
             "#8e0152"
            ],
            [
             0.1,
             "#c51b7d"
            ],
            [
             0.2,
             "#de77ae"
            ],
            [
             0.3,
             "#f1b6da"
            ],
            [
             0.4,
             "#fde0ef"
            ],
            [
             0.5,
             "#f7f7f7"
            ],
            [
             0.6,
             "#e6f5d0"
            ],
            [
             0.7,
             "#b8e186"
            ],
            [
             0.8,
             "#7fbc41"
            ],
            [
             0.9,
             "#4d9221"
            ],
            [
             1,
             "#276419"
            ]
           ],
           "sequential": [
            [
             0,
             "#0d0887"
            ],
            [
             0.1111111111111111,
             "#46039f"
            ],
            [
             0.2222222222222222,
             "#7201a8"
            ],
            [
             0.3333333333333333,
             "#9c179e"
            ],
            [
             0.4444444444444444,
             "#bd3786"
            ],
            [
             0.5555555555555556,
             "#d8576b"
            ],
            [
             0.6666666666666666,
             "#ed7953"
            ],
            [
             0.7777777777777778,
             "#fb9f3a"
            ],
            [
             0.8888888888888888,
             "#fdca26"
            ],
            [
             1,
             "#f0f921"
            ]
           ],
           "sequentialminus": [
            [
             0,
             "#0d0887"
            ],
            [
             0.1111111111111111,
             "#46039f"
            ],
            [
             0.2222222222222222,
             "#7201a8"
            ],
            [
             0.3333333333333333,
             "#9c179e"
            ],
            [
             0.4444444444444444,
             "#bd3786"
            ],
            [
             0.5555555555555556,
             "#d8576b"
            ],
            [
             0.6666666666666666,
             "#ed7953"
            ],
            [
             0.7777777777777778,
             "#fb9f3a"
            ],
            [
             0.8888888888888888,
             "#fdca26"
            ],
            [
             1,
             "#f0f921"
            ]
           ]
          },
          "colorway": [
           "#636efa",
           "#EF553B",
           "#00cc96",
           "#ab63fa",
           "#FFA15A",
           "#19d3f3",
           "#FF6692",
           "#B6E880",
           "#FF97FF",
           "#FECB52"
          ],
          "font": {
           "color": "#2a3f5f"
          },
          "geo": {
           "bgcolor": "white",
           "lakecolor": "white",
           "landcolor": "#E5ECF6",
           "showlakes": true,
           "showland": true,
           "subunitcolor": "white"
          },
          "hoverlabel": {
           "align": "left"
          },
          "hovermode": "closest",
          "mapbox": {
           "style": "light"
          },
          "paper_bgcolor": "white",
          "plot_bgcolor": "#E5ECF6",
          "polar": {
           "angularaxis": {
            "gridcolor": "white",
            "linecolor": "white",
            "ticks": ""
           },
           "bgcolor": "#E5ECF6",
           "radialaxis": {
            "gridcolor": "white",
            "linecolor": "white",
            "ticks": ""
           }
          },
          "scene": {
           "xaxis": {
            "backgroundcolor": "#E5ECF6",
            "gridcolor": "white",
            "gridwidth": 2,
            "linecolor": "white",
            "showbackground": true,
            "ticks": "",
            "zerolinecolor": "white"
           },
           "yaxis": {
            "backgroundcolor": "#E5ECF6",
            "gridcolor": "white",
            "gridwidth": 2,
            "linecolor": "white",
            "showbackground": true,
            "ticks": "",
            "zerolinecolor": "white"
           },
           "zaxis": {
            "backgroundcolor": "#E5ECF6",
            "gridcolor": "white",
            "gridwidth": 2,
            "linecolor": "white",
            "showbackground": true,
            "ticks": "",
            "zerolinecolor": "white"
           }
          },
          "shapedefaults": {
           "line": {
            "color": "#2a3f5f"
           }
          },
          "ternary": {
           "aaxis": {
            "gridcolor": "white",
            "linecolor": "white",
            "ticks": ""
           },
           "baxis": {
            "gridcolor": "white",
            "linecolor": "white",
            "ticks": ""
           },
           "bgcolor": "#E5ECF6",
           "caxis": {
            "gridcolor": "white",
            "linecolor": "white",
            "ticks": ""
           }
          },
          "title": {
           "x": 0.05
          },
          "xaxis": {
           "automargin": true,
           "gridcolor": "white",
           "linecolor": "white",
           "ticks": "",
           "title": {
            "standoff": 15
           },
           "zerolinecolor": "white",
           "zerolinewidth": 2
          },
          "yaxis": {
           "automargin": true,
           "gridcolor": "white",
           "linecolor": "white",
           "ticks": "",
           "title": {
            "standoff": 15
           },
           "zerolinecolor": "white",
           "zerolinewidth": 2
          }
         }
        },
        "title": {
         "text": "Loan Amount Before Transformation"
        },
        "xaxis": {
         "anchor": "y",
         "domain": [
          0,
          1
         ],
         "title": {
          "text": "LoanAmount"
         }
        },
        "yaxis": {
         "anchor": "x",
         "domain": [
          0,
          1
         ],
         "title": {
          "text": "count"
         }
        }
       }
      }
     },
     "metadata": {},
     "output_type": "display_data"
    }
   ],
   "source": [
    "fig = px.histogram(data, x=\"LoanAmount\", title='Loan Amount Before Transformation')\n",
    "fig.show()"
   ]
  },
  {
   "cell_type": "code",
   "execution_count": 628,
   "metadata": {},
   "outputs": [
    {
     "name": "stderr",
     "output_type": "stream",
     "text": [
      "/opt/homebrew/Caskroom/miniforge/base/envs/base_env/lib/python3.8/site-packages/seaborn/distributions.py:2619: FutureWarning:\n",
      "\n",
      "`distplot` is a deprecated function and will be removed in a future version. Please adapt your code to use either `displot` (a figure-level function with similar flexibility) or `histplot` (an axes-level function for histograms).\n",
      "\n"
     ]
    },
    {
     "data": {
      "text/plain": [
       "<AxesSubplot:xlabel='LoanAmount', ylabel='Density'>"
      ]
     },
     "execution_count": 628,
     "metadata": {},
     "output_type": "execute_result"
    },
    {
     "data": {
      "image/png": "[encoded data removed]",
      "text/plain": [
       "<Figure size 432x288 with 1 Axes>"
      ]
     },
     "metadata": {
      "needs_background": "light"
     },
     "output_type": "display_data"
    }
   ],
   "source": [
    "sns.distplot(data[\"LoanAmount\"])"
   ]
  },
  {
   "cell_type": "code",
   "execution_count": 629,
   "metadata": {},
   "outputs": [
    {
     "data": {
      "application/vnd.plotly.v1+json": {
       "config": {
        "plotlyServerURL": "https://plot.ly"
       },
       "data": [
        {
         "alignmentgroup": "True",
         "bingroup": "x",
         "hovertemplate": "LoanAmountLog=%{x}<br>count=%{y}<extra></extra>",
         "legendgroup": "",
         "marker": {
          "color": "#636efa",
          "pattern": {
           "shape": ""
          }
         },
         "name": "",
         "offsetgroup": "",
         "orientation": "v",
         "showlegend": false,
         "type": "histogram",
         "x": [
          4.986342601527212,
          4.852030263919617,
          4.189654742026425,
          4.787491742782046,
          4.948759890378168,
          5.58724865840025,
          4.553876891600541,
          5.062595033026967,
          5.123963979403259,
          5.855071922202427,
          4.248495242049359,
          4.6913478822291435,
          5.298317366548036,
          4.736198448394496,
          2.833213344056216,
          4.8283137373023015,
          4.605170185988092,
          4.330733340286331,
          4.890349128221754,
          4.74493212836325,
          4.6443908991413725,
          5.752572638825633,
          4.7535901911063645,
          4.718498871295094,
          5.017279836814924,
          5.25227342804663,
          4.804021044733257,
          4.700480365792417,
          3.5553480614894135,
          4.787491742782046,
          5.303304908059076,
          4.30406509320417,
          4.663439094112067,
          4.736198448394496,
          5.768320995793772,
          4.986342601527212,
          4.605170185988092,
          4.969813299576001,
          5.214935757608986,
          4.700480365792417,
          4.382026634673881,
          3.8501476017100584,
          4.31748811353631,
          4.897839799950911,
          4.564348191467836,
          4.477336814478207,
          3.784189633918261,
          4.969813299576001,
          4.787491742782046,
          4.969813299576001,
          4.605170185988092,
          4.787491742782046,
          4.718498871295094,
          4.897839799950911,
          5.655991810819852,
          4.574710978503383,
          4.564348191467836,
          4.90527477843843,
          5.19295685089021,
          4.969813299576001,
          4.787491742782046,
          4.59511985013459,
          5.10594547390058,
          4.986342601527212,
          4.7535901911063645,
          5.552959584921617,
          4.836281906951478,
          5.7430031878094825,
          4.8283137373023015,
          4.912654885736052,
          5.147494476813453,
          4.574710978503383,
          4.394449154672439,
          4.553876891600541,
          5.231108616854587,
          4.727387818712341,
          5.170483995038151,
          4.700480365792417,
          5.19295685089021,
          4.867534450455582,
          4.709530201312334,
          4.986342601527212,
          5.117993812416755,
          5.579729825986222,
          3.912023005428146,
          4.912654885736052,
          4.59511985013459,
          4.6443908991413725,
          5.3471075307174685,
          5.1647859739235145,
          4.875197323201151,
          5.236441962829949,
          4.394449154672439,
          4.804021044733257,
          3.2188758248682006,
          4.986342601527212,
          4.919980925828125,
          3.912023005428146,
          4.74493212836325,
          4.875197323201151,
          4.890349128221754,
          5.017279836814924,
          4.986342601527212,
          4.986342601527212,
          5.075173815233827,
          4.605170185988092,
          5.41610040220442,
          4.787491742782046,
          5.375278407684165,
          4.543294782270004,
          4.912654885736052,
          4.9344739331306915,
          5.0238805208462765,
          4.986342601527212,
          4.770684624465665,
          5.220355825078324,
          5.0369526024136295,
          4.442651256490317,
          5.1647859739235145,
          5.556828061699537,
          5.19295685089021,
          3.784189633918261,
          4.919980925828125,
          4.394449154672439,
          5.267858159063328,
          4.532599493153256,
          5.91350300563827,
          4.986342601527212,
          5.075173815233827,
          5.204006687076795,
          6.476972362889683,
          4.30406509320417,
          4.248495242049359,
          3.2188758248682006,
          4.624972813284271,
          5.66988092298052,
          4.430816798843313,
          4.477336814478207,
          5.488937726156687,
          4.859812404361672,
          5.220355825078324,
          5.123963979403259,
          5.1647859739235145,
          4.804021044733257,
          5.231108616854587,
          4.605170185988092,
          4.248495242049359,
          3.4011973816621555,
          5.41610040220442,
          4.8283137373023015,
          4.770684624465665,
          5.0238805208462765,
          5.497168225293202,
          4.727387818712341,
          3.912023005428146,
          6.396929655216146,
          5.075173815233827,
          5.231108616854587,
          4.787491742782046,
          5.541263545158426,
          4.584967478670572,
          5.616771097666572,
          4.795790545596741,
          5.062595033026967,
          4.31748811353631,
          5.204006687076795,
          4.718498871295094,
          4.859812404361672,
          4.143134726391533,
          5.298317366548036,
          4.553876891600541,
          6.551080335043404,
          4.394449154672439,
          5.231108616854587,
          4.465908118654584,
          4.7535901911063645,
          4.61512051684126,
          6.20455776256869,
          4.7535901911063645,
          4.624972813284271,
          5.19295685089021,
          4.204692619390966,
          4.290459441148391,
          5.560681631015528,
          4.68213122712422,
          4.787491742782046,
          4.189654742026425,
          4.060443010546419,
          5.123963979403259,
          5.236441962829949,
          3.871201010907891,
          5.099866427824199,
          5.075173815233827,
          4.330733340286331,
          4.787491742782046,
          5.135798437050262,
          5.231108616854587,
          4.787491742782046,
          4.727387818712341,
          4.418840607796598,
          4.499809670330265,
          5.111987788356544,
          4.986342601527212,
          4.90527477843843,
          4.820281565605037,
          4.787491742782046,
          4.382026634673881,
          4.007333185232471,
          4.07753744390572,
          4.844187086458591,
          5.365976015021851,
          4.852030263919617,
          5.480638923341991,
          4.867534450455582,
          4.919980925828125,
          4.605170185988092,
          4.90527477843843,
          4.875197323201151,
          4.276666119016055,
          4.844187086458591,
          4.0943445622221,
          4.7535901911063645,
          4.969813299576001,
          5.1647859739235145,
          4.852030263919617,
          5.135798437050262,
          4.927253685157205,
          5.3471075307174685,
          5.062595033026967,
          5.298317366548036,
          4.6443908991413725,
          3.7376696182833684,
          4.787491742782046,
          5.634789603169249,
          4.941642422609304,
          5.135798437050262,
          5.541263545158426,
          4.804021044733257,
          4.718498871295094,
          4.564348191467836,
          4.787491742782046,
          4.941642422609304,
          5.043425116919247,
          4.68213122712422,
          4.812184355372417,
          4.787491742782046,
          4.718498871295094,
          4.919980925828125,
          4.812184355372417,
          4.499809670330265,
          5.303304908059076,
          4.927253685157205,
          4.6443908991413725,
          5.631211781821365,
          5.2574953720277815,
          5.541263545158426,
          4.74493212836325,
          4.543294782270004,
          5.717027701406222,
          4.852030263919617,
          5.799092654460526,
          4.897839799950911,
          5.043425116919247,
          4.787491742782046,
          4.852030263919617,
          5.017279836814924,
          5.0106352940962555,
          5.075173815233827,
          4.90527477843843,
          4.499809670330265,
          3.4011973816621555,
          4.912654885736052,
          4.836281906951478,
          5.0106352940962555,
          4.499809670330265,
          4.74493212836325,
          5.332718793265369,
          4.382026634673881,
          6.077642243349034,
          4.820281565605037,
          5.062595033026967,
          4.718498871295094,
          4.356708826689592,
          3.9889840465642745,
          4.986342601527212,
          4.48863636973214,
          4.59511985013459,
          4.787491742782046,
          4.74493212836325,
          5.231108616854587,
          4.9344739331306915,
          4.844187086458591,
          4.897839799950911,
          4.962844630259907,
          5.147494476813453,
          4.700480365792417,
          5.298317366548036,
          4.90527477843843,
          5.017279836814924,
          4.727387818712341,
          4.532599493153256,
          4.653960350157523,
          4.882801922586371,
          4.564348191467836,
          4.941642422609304,
          4.986342601527212,
          4.90527477843843,
          4.6443908991413725,
          6.173786103901937,
          5.220355825078324,
          4.430816798843313,
          4.709530201312334,
          4.02535169073515,
          4.969813299576001,
          5.0689042022202315,
          4.709530201312334,
          4.787491742782046,
          4.477336814478207,
          4.718498871295094,
          5.043425116919247,
          4.74493212836325,
          4.820281565605037,
          4.986342601527212,
          4.882801922586371,
          5.703782474656201,
          5.929589143389895,
          4.867534450455582,
          5.214935757608986,
          4.700480365792417,
          4.204692619390966,
          4.762173934797756,
          4.584967478670572,
          4.2626798770413155,
          6.194405391104672,
          5.204006687076795,
          4.248495242049359,
          5.075173815233827,
          5.170483995038151,
          4.986342601527212,
          4.2626798770413155,
          5.153291594497779,
          3.828641396489095,
          5.062595033026967,
          4.30406509320417,
          4.8283137373023015,
          5.075173815233827,
          5.0238805208462765,
          4.836281906951478,
          5.556828061699537,
          5.231108616854587,
          5.429345628954441,
          5.730099782973574,
          4.553876891600541,
          4.653960350157523,
          4.867534450455582,
          4.7535901911063645,
          5.10594547390058,
          4.204692619390966,
          4.605170185988092,
          5.298317366548036,
          4.394449154672439,
          5.4638318050256105,
          4.867534450455582,
          4.553876891600541,
          4.948759890378168,
          4.890349128221754,
          4.564348191467836,
          4.820281565605037,
          5.1647859739235145,
          6.345636360828596,
          4.007333185232471,
          5.043425116919247,
          5.940171252720432,
          4.709530201312334,
          4.700480365792417,
          4.787491742782046,
          4.867534450455582,
          4.867534450455582,
          4.2626798770413155,
          4.867534450455582,
          4.852030263919617,
          5.69035945432406,
          5.049856007249537,
          4.852030263919617,
          4.605170185988092,
          4.727387818712341,
          4.882801922586371,
          4.986342601527212,
          4.912654885736052,
          4.8283137373023015,
          5.220355825078324,
          5.616771097666572,
          4.787491742782046,
          4.727387818712341,
          4.727387818712341,
          4.90527477843843,
          4.2626798770413155,
          4.553876891600541,
          4.6913478822291435,
          4.634728988229636,
          3.8066624897703196,
          4.174387269895637,
          4.634728988229636,
          3.970291913552122,
          5.267858159063328,
          4.74493212836325,
          4.74493212836325,
          4.189654742026425,
          5.0238805208462765,
          5.886104031450156,
          4.127134385045092,
          5.075173815233827,
          5.384495062789089,
          4.700480365792417,
          5.181783550292085,
          4.0943445622221,
          5.075173815233827,
          5.476463551931511,
          4.718498871295094,
          4.927253685157205,
          4.927253685157205,
          4.382026634673881,
          4.605170185988092,
          4.700480365792417,
          4.564348191467836,
          4.795790545596741,
          4.394449154672439,
          4.890349128221754,
          4.465908118654584,
          4.0943445622221,
          5.0106352940962555,
          4.653960350157523,
          6.003887067106539,
          4.962844630259907,
          4.605170185988092,
          4.986342601527212,
          3.912023005428146,
          4.986342601527212,
          5.231108616854587,
          4.927253685157205,
          5.231108616854587,
          5.19295685089021,
          4.997212273764115,
          5.0238805208462765,
          5.1647859739235145,
          4.867534450455582,
          4.700480365792417,
          4.007333185232471,
          5.0106352940962555,
          5.247024072160486,
          4.8283137373023015,
          4.0943445622221,
          5.003946305945459,
          4.499809670330265,
          4.430816798843313,
          4.564348191467836,
          4.770684624465665,
          5.153291594497779,
          4.912654885736052,
          5.075173815233827,
          5.075173815233827,
          4.852030263919617,
          5.030437921392435,
          4.882801922586371,
          4.584967478670572,
          4.941642422609304,
          4.248495242049359,
          4.700480365792417,
          4.584967478670572,
          4.700480365792417,
          5.087596335232384,
          4.727387818712341,
          4.605170185988092,
          4.532599493153256,
          5.087596335232384,
          5.0106352940962555,
          5.438079308923196,
          4.882801922586371,
          4.454347296253507,
          4.986342601527212,
          5.0369526024136295,
          4.727387818712341,
          4.852030263919617,
          5.455321115357702,
          5.5053315359323625,
          4.875197323201151,
          4.382026634673881,
          6.214608098422191,
          5.075173815233827,
          4.31748811353631,
          4.564348191467836,
          5.225746673713202,
          4.700480365792417,
          5.41610040220442,
          4.77912349311153,
          4.653960350157523,
          4.672828834461906,
          4.709530201312334,
          4.553876891600541,
          5.342334251964811,
          4.727387818712341,
          4.605170185988092,
          5.337538079701318,
          4.927253685157205,
          4.820281565605037,
          5.493061443340548,
          6.173786103901937,
          4.564348191467836,
          5.236441962829949,
          3.6888794541139363,
          4.605170185988092,
          5.521460917862246,
          4.997212273764115,
          4.248495242049359,
          5.739792912179234,
          5.0106352940962555,
          4.727387818712341,
          4.812184355372417,
          5.220355825078324,
          4.553876891600541,
          3.8066624897703196,
          4.007333185232471,
          4.605170185988092,
          6.173786103901937,
          4.986342601527212,
          5.991464547107982,
          4.700480365792417,
          5.081404364984463,
          4.543294782270004,
          4.867534450455582,
          5.375278407684165,
          4.605170185988092,
          4.700480365792417,
          5.278114659230517,
          4.8283137373023015,
          4.836281906951478,
          5.780743515792329,
          4.672828834461906,
          4.189654742026425,
          5.056245805348308,
          4.941642422609304,
          4.59511985013459,
          4.553876891600541,
          4.852030263919617,
          4.624972813284271,
          5.043425116919247,
          4.382026634673881,
          4.976733742420574,
          4.634728988229636,
          4.700480365792417,
          4.986342601527212,
          4.986342601527212,
          5.062595033026967,
          5.198497031265826,
          4.882801922586371,
          3.258096538021482,
          4.430816798843313,
          5.560681631015528,
          5.087596335232384,
          5.204006687076795,
          4.68213122712422,
          6.396929655216146,
          5.351858133476067,
          4.882801922586371,
          5.552959584921617,
          4.787491742782046,
          4.248495242049359,
          4.812184355372417,
          2.1972245773362196,
          4.6443908991413725,
          5.225746673713202,
          5.10594547390058,
          5.616771097666572,
          5.231108616854587,
          5.0106352940962555,
          4.68213122712422,
          4.912654885736052,
          4.700480365792417,
          4.672828834461906,
          5.081404364984463,
          5.3230099791384085,
          4.499809670330265,
          3.58351893845611,
          4.110873864173311,
          4.983606621708336,
          5.147494476813453,
          4.6443908991413725,
          4.248495242049359,
          4.543294782270004,
          4.663439094112067,
          4.02535169073515,
          5.3230099791384085,
          5.676753802268282,
          4.955827057601261,
          5.560681631015528,
          4.700480365792417,
          5.231108616854587,
          4.477336814478207,
          5.19295685089021,
          5.2574953720277815,
          5.857933154483459,
          5.043425116919247,
          4.852030263919617,
          5.147494476813453,
          6.206575926724928,
          4.986342601527212,
          5.153291594497779,
          5.056245805348308,
          4.68213122712422,
          4.2626798770413155,
          3.6888794541139363,
          5.53338948872752,
          5.231108616854587,
          4.890349128221754
         ],
         "xaxis": "x",
         "yaxis": "y"
        }
       ],
       "layout": {
        "barmode": "relative",
        "legend": {
         "tracegroupgap": 0
        },
        "template": {
         "data": {
          "bar": [
           {
            "error_x": {
             "color": "#2a3f5f"
            },
            "error_y": {
             "color": "#2a3f5f"
            },
            "marker": {
             "line": {
              "color": "#E5ECF6",
              "width": 0.5
             },
             "pattern": {
              "fillmode": "overlay",
              "size": 10,
              "solidity": 0.2
             }
            },
            "type": "bar"
           }
          ],
          "barpolar": [
           {
            "marker": {
             "line": {
              "color": "#E5ECF6",
              "width": 0.5
             },
             "pattern": {
              "fillmode": "overlay",
              "size": 10,
              "solidity": 0.2
             }
            },
            "type": "barpolar"
           }
          ],
          "carpet": [
           {
            "aaxis": {
             "endlinecolor": "#2a3f5f",
             "gridcolor": "white",
             "linecolor": "white",
             "minorgridcolor": "white",
             "startlinecolor": "#2a3f5f"
            },
            "baxis": {
             "endlinecolor": "#2a3f5f",
             "gridcolor": "white",
             "linecolor": "white",
             "minorgridcolor": "white",
             "startlinecolor": "#2a3f5f"
            },
            "type": "carpet"
           }
          ],
          "choropleth": [
           {
            "colorbar": {
             "outlinewidth": 0,
             "ticks": ""
            },
            "type": "choropleth"
           }
          ],
          "contour": [
           {
            "colorbar": {
             "outlinewidth": 0,
             "ticks": ""
            },
            "colorscale": [
             [
              0,
              "#0d0887"
             ],
             [
              0.1111111111111111,
              "#46039f"
             ],
             [
              0.2222222222222222,
              "#7201a8"
             ],
             [
              0.3333333333333333,
              "#9c179e"
             ],
             [
              0.4444444444444444,
              "#bd3786"
             ],
             [
              0.5555555555555556,
              "#d8576b"
             ],
             [
              0.6666666666666666,
              "#ed7953"
             ],
             [
              0.7777777777777778,
              "#fb9f3a"
             ],
             [
              0.8888888888888888,
              "#fdca26"
             ],
             [
              1,
              "#f0f921"
             ]
            ],
            "type": "contour"
           }
          ],
          "contourcarpet": [
           {
            "colorbar": {
             "outlinewidth": 0,
             "ticks": ""
            },
            "type": "contourcarpet"
           }
          ],
          "heatmap": [
           {
            "colorbar": {
             "outlinewidth": 0,
             "ticks": ""
            },
            "colorscale": [
             [
              0,
              "#0d0887"
             ],
             [
              0.1111111111111111,
              "#46039f"
             ],
             [
              0.2222222222222222,
              "#7201a8"
             ],
             [
              0.3333333333333333,
              "#9c179e"
             ],
             [
              0.4444444444444444,
              "#bd3786"
             ],
             [
              0.5555555555555556,
              "#d8576b"
             ],
             [
              0.6666666666666666,
              "#ed7953"
             ],
             [
              0.7777777777777778,
              "#fb9f3a"
             ],
             [
              0.8888888888888888,
              "#fdca26"
             ],
             [
              1,
              "#f0f921"
             ]
            ],
            "type": "heatmap"
           }
          ],
          "heatmapgl": [
           {
            "colorbar": {
             "outlinewidth": 0,
             "ticks": ""
            },
            "colorscale": [
             [
              0,
              "#0d0887"
             ],
             [
              0.1111111111111111,
              "#46039f"
             ],
             [
              0.2222222222222222,
              "#7201a8"
             ],
             [
              0.3333333333333333,
              "#9c179e"
             ],
             [
              0.4444444444444444,
              "#bd3786"
             ],
             [
              0.5555555555555556,
              "#d8576b"
             ],
             [
              0.6666666666666666,
              "#ed7953"
             ],
             [
              0.7777777777777778,
              "#fb9f3a"
             ],
             [
              0.8888888888888888,
              "#fdca26"
             ],
             [
              1,
              "#f0f921"
             ]
            ],
            "type": "heatmapgl"
           }
          ],
          "histogram": [
           {
            "marker": {
             "pattern": {
              "fillmode": "overlay",
              "size": 10,
              "solidity": 0.2
             }
            },
            "type": "histogram"
           }
          ],
          "histogram2d": [
           {
            "colorbar": {
             "outlinewidth": 0,
             "ticks": ""
            },
            "colorscale": [
             [
              0,
              "#0d0887"
             ],
             [
              0.1111111111111111,
              "#46039f"
             ],
             [
              0.2222222222222222,
              "#7201a8"
             ],
             [
              0.3333333333333333,
              "#9c179e"
             ],
             [
              0.4444444444444444,
              "#bd3786"
             ],
             [
              0.5555555555555556,
              "#d8576b"
             ],
             [
              0.6666666666666666,
              "#ed7953"
             ],
             [
              0.7777777777777778,
              "#fb9f3a"
             ],
             [
              0.8888888888888888,
              "#fdca26"
             ],
             [
              1,
              "#f0f921"
             ]
            ],
            "type": "histogram2d"
           }
          ],
          "histogram2dcontour": [
           {
            "colorbar": {
             "outlinewidth": 0,
             "ticks": ""
            },
            "colorscale": [
             [
              0,
              "#0d0887"
             ],
             [
              0.1111111111111111,
              "#46039f"
             ],
             [
              0.2222222222222222,
              "#7201a8"
             ],
             [
              0.3333333333333333,
              "#9c179e"
             ],
             [
              0.4444444444444444,
              "#bd3786"
             ],
             [
              0.5555555555555556,
              "#d8576b"
             ],
             [
              0.6666666666666666,
              "#ed7953"
             ],
             [
              0.7777777777777778,
              "#fb9f3a"
             ],
             [
              0.8888888888888888,
              "#fdca26"
             ],
             [
              1,
              "#f0f921"
             ]
            ],
            "type": "histogram2dcontour"
           }
          ],
          "mesh3d": [
           {
            "colorbar": {
             "outlinewidth": 0,
             "ticks": ""
            },
            "type": "mesh3d"
           }
          ],
          "parcoords": [
           {
            "line": {
             "colorbar": {
              "outlinewidth": 0,
              "ticks": ""
             }
            },
            "type": "parcoords"
           }
          ],
          "pie": [
           {
            "automargin": true,
            "type": "pie"
           }
          ],
          "scatter": [
           {
            "fillpattern": {
             "fillmode": "overlay",
             "size": 10,
             "solidity": 0.2
            },
            "type": "scatter"
           }
          ],
          "scatter3d": [
           {
            "line": {
             "colorbar": {
              "outlinewidth": 0,
              "ticks": ""
             }
            },
            "marker": {
             "colorbar": {
              "outlinewidth": 0,
              "ticks": ""
             }
            },
            "type": "scatter3d"
           }
          ],
          "scattercarpet": [
           {
            "marker": {
             "colorbar": {
              "outlinewidth": 0,
              "ticks": ""
             }
            },
            "type": "scattercarpet"
           }
          ],
          "scattergeo": [
           {
            "marker": {
             "colorbar": {
              "outlinewidth": 0,
              "ticks": ""
             }
            },
            "type": "scattergeo"
           }
          ],
          "scattergl": [
           {
            "marker": {
             "colorbar": {
              "outlinewidth": 0,
              "ticks": ""
             }
            },
            "type": "scattergl"
           }
          ],
          "scattermapbox": [
           {
            "marker": {
             "colorbar": {
              "outlinewidth": 0,
              "ticks": ""
             }
            },
            "type": "scattermapbox"
           }
          ],
          "scatterpolar": [
           {
            "marker": {
             "colorbar": {
              "outlinewidth": 0,
              "ticks": ""
             }
            },
            "type": "scatterpolar"
           }
          ],
          "scatterpolargl": [
           {
            "marker": {
             "colorbar": {
              "outlinewidth": 0,
              "ticks": ""
             }
            },
            "type": "scatterpolargl"
           }
          ],
          "scatterternary": [
           {
            "marker": {
             "colorbar": {
              "outlinewidth": 0,
              "ticks": ""
             }
            },
            "type": "scatterternary"
           }
          ],
          "surface": [
           {
            "colorbar": {
             "outlinewidth": 0,
             "ticks": ""
            },
            "colorscale": [
             [
              0,
              "#0d0887"
             ],
             [
              0.1111111111111111,
              "#46039f"
             ],
             [
              0.2222222222222222,
              "#7201a8"
             ],
             [
              0.3333333333333333,
              "#9c179e"
             ],
             [
              0.4444444444444444,
              "#bd3786"
             ],
             [
              0.5555555555555556,
              "#d8576b"
             ],
             [
              0.6666666666666666,
              "#ed7953"
             ],
             [
              0.7777777777777778,
              "#fb9f3a"
             ],
             [
              0.8888888888888888,
              "#fdca26"
             ],
             [
              1,
              "#f0f921"
             ]
            ],
            "type": "surface"
           }
          ],
          "table": [
           {
            "cells": {
             "fill": {
              "color": "#EBF0F8"
             },
             "line": {
              "color": "white"
             }
            },
            "header": {
             "fill": {
              "color": "#C8D4E3"
             },
             "line": {
              "color": "white"
             }
            },
            "type": "table"
           }
          ]
         },
         "layout": {
          "annotationdefaults": {
           "arrowcolor": "#2a3f5f",
           "arrowhead": 0,
           "arrowwidth": 1
          },
          "autotypenumbers": "strict",
          "coloraxis": {
           "colorbar": {
            "outlinewidth": 0,
            "ticks": ""
           }
          },
          "colorscale": {
           "diverging": [
            [
             0,
             "#8e0152"
            ],
            [
             0.1,
             "#c51b7d"
            ],
            [
             0.2,
             "#de77ae"
            ],
            [
             0.3,
             "#f1b6da"
            ],
            [
             0.4,
             "#fde0ef"
            ],
            [
             0.5,
             "#f7f7f7"
            ],
            [
             0.6,
             "#e6f5d0"
            ],
            [
             0.7,
             "#b8e186"
            ],
            [
             0.8,
             "#7fbc41"
            ],
            [
             0.9,
             "#4d9221"
            ],
            [
             1,
             "#276419"
            ]
           ],
           "sequential": [
            [
             0,
             "#0d0887"
            ],
            [
             0.1111111111111111,
             "#46039f"
            ],
            [
             0.2222222222222222,
             "#7201a8"
            ],
            [
             0.3333333333333333,
             "#9c179e"
            ],
            [
             0.4444444444444444,
             "#bd3786"
            ],
            [
             0.5555555555555556,
             "#d8576b"
            ],
            [
             0.6666666666666666,
             "#ed7953"
            ],
            [
             0.7777777777777778,
             "#fb9f3a"
            ],
            [
             0.8888888888888888,
             "#fdca26"
            ],
            [
             1,
             "#f0f921"
            ]
           ],
           "sequentialminus": [
            [
             0,
             "#0d0887"
            ],
            [
             0.1111111111111111,
             "#46039f"
            ],
            [
             0.2222222222222222,
             "#7201a8"
            ],
            [
             0.3333333333333333,
             "#9c179e"
            ],
            [
             0.4444444444444444,
             "#bd3786"
            ],
            [
             0.5555555555555556,
             "#d8576b"
            ],
            [
             0.6666666666666666,
             "#ed7953"
            ],
            [
             0.7777777777777778,
             "#fb9f3a"
            ],
            [
             0.8888888888888888,
             "#fdca26"
            ],
            [
             1,
             "#f0f921"
            ]
           ]
          },
          "colorway": [
           "#636efa",
           "#EF553B",
           "#00cc96",
           "#ab63fa",
           "#FFA15A",
           "#19d3f3",
           "#FF6692",
           "#B6E880",
           "#FF97FF",
           "#FECB52"
          ],
          "font": {
           "color": "#2a3f5f"
          },
          "geo": {
           "bgcolor": "white",
           "lakecolor": "white",
           "landcolor": "#E5ECF6",
           "showlakes": true,
           "showland": true,
           "subunitcolor": "white"
          },
          "hoverlabel": {
           "align": "left"
          },
          "hovermode": "closest",
          "mapbox": {
           "style": "light"
          },
          "paper_bgcolor": "white",
          "plot_bgcolor": "#E5ECF6",
          "polar": {
           "angularaxis": {
            "gridcolor": "white",
            "linecolor": "white",
            "ticks": ""
           },
           "bgcolor": "#E5ECF6",
           "radialaxis": {
            "gridcolor": "white",
            "linecolor": "white",
            "ticks": ""
           }
          },
          "scene": {
           "xaxis": {
            "backgroundcolor": "#E5ECF6",
            "gridcolor": "white",
            "gridwidth": 2,
            "linecolor": "white",
            "showbackground": true,
            "ticks": "",
            "zerolinecolor": "white"
           },
           "yaxis": {
            "backgroundcolor": "#E5ECF6",
            "gridcolor": "white",
            "gridwidth": 2,
            "linecolor": "white",
            "showbackground": true,
            "ticks": "",
            "zerolinecolor": "white"
           },
           "zaxis": {
            "backgroundcolor": "#E5ECF6",
            "gridcolor": "white",
            "gridwidth": 2,
            "linecolor": "white",
            "showbackground": true,
            "ticks": "",
            "zerolinecolor": "white"
           }
          },
          "shapedefaults": {
           "line": {
            "color": "#2a3f5f"
           }
          },
          "ternary": {
           "aaxis": {
            "gridcolor": "white",
            "linecolor": "white",
            "ticks": ""
           },
           "baxis": {
            "gridcolor": "white",
            "linecolor": "white",
            "ticks": ""
           },
           "bgcolor": "#E5ECF6",
           "caxis": {
            "gridcolor": "white",
            "linecolor": "white",
            "ticks": ""
           }
          },
          "title": {
           "x": 0.05
          },
          "xaxis": {
           "automargin": true,
           "gridcolor": "white",
           "linecolor": "white",
           "ticks": "",
           "title": {
            "standoff": 15
           },
           "zerolinecolor": "white",
           "zerolinewidth": 2
          },
          "yaxis": {
           "automargin": true,
           "gridcolor": "white",
           "linecolor": "white",
           "ticks": "",
           "title": {
            "standoff": 15
           },
           "zerolinecolor": "white",
           "zerolinewidth": 2
          }
         }
        },
        "title": {
         "text": "Loan Amount After Transformation"
        },
        "xaxis": {
         "anchor": "y",
         "domain": [
          0,
          1
         ],
         "title": {
          "text": "LoanAmountLog"
         }
        },
        "yaxis": {
         "anchor": "x",
         "domain": [
          0,
          1
         ],
         "title": {
          "text": "count"
         }
        }
       }
      }
     },
     "metadata": {},
     "output_type": "display_data"
    }
   ],
   "source": [
    "data[\"LoanAmountLog\"] = data[\"LoanAmount\"].apply(np.log)\n",
    "fig = px.histogram(data, x=\"LoanAmountLog\", title='Loan Amount After Transformation')\n",
    "fig.show()"
   ]
  },
  {
   "cell_type": "code",
   "execution_count": 630,
   "metadata": {},
   "outputs": [
    {
     "name": "stderr",
     "output_type": "stream",
     "text": [
      "/opt/homebrew/Caskroom/miniforge/base/envs/base_env/lib/python3.8/site-packages/seaborn/distributions.py:2619: FutureWarning:\n",
      "\n",
      "`distplot` is a deprecated function and will be removed in a future version. Please adapt your code to use either `displot` (a figure-level function with similar flexibility) or `histplot` (an axes-level function for histograms).\n",
      "\n"
     ]
    },
    {
     "data": {
      "text/plain": [
       "<AxesSubplot:xlabel='LoanAmountLog', ylabel='Density'>"
      ]
     },
     "execution_count": 630,
     "metadata": {},
     "output_type": "execute_result"
    },
    {
     "data": {
      "image/png": "[encoded data removed]",
      "text/plain": [
       "<Figure size 432x288 with 1 Axes>"
      ]
     },
     "metadata": {
      "needs_background": "light"
     },
     "output_type": "display_data"
    }
   ],
   "source": [
    "sns.distplot(data[\"LoanAmountLog\"])"
   ]
  },
  {
   "cell_type": "markdown",
   "metadata": {},
   "source": [
    "Combine both incomes as total income and take a log transformation of the same."
   ]
  },
  {
   "cell_type": "code",
   "execution_count": 631,
   "metadata": {
    "collapsed": false,
    "jupyter": {
     "outputs_hidden": false
    }
   },
   "outputs": [],
   "source": [
    "data['TotalIncome'] = data['ApplicantIncome'] + data['CoapplicantIncome']\n",
    "data['TotalIncomeLog'] = data[\"TotalIncome\"].apply(np.log)"
   ]
  },
  {
   "cell_type": "code",
   "execution_count": 632,
   "metadata": {},
   "outputs": [
    {
     "data": {
      "text/html": [
       "<div>\n",
       "<style scoped>\n",
       "    .dataframe tbody tr th:only-of-type {\n",
       "        vertical-align: middle;\n",
       "    }\n",
       "\n",
       "    .dataframe tbody tr th {\n",
       "        vertical-align: top;\n",
       "    }\n",
       "\n",
       "    .dataframe thead th {\n",
       "        text-align: right;\n",
       "    }\n",
       "</style>\n",
       "<table border=\"1\" class=\"dataframe\">\n",
       "  <thead>\n",
       "    <tr style=\"text-align: right;\">\n",
       "      <th></th>\n",
       "      <th>Loan_ID</th>\n",
       "      <th>Gender</th>\n",
       "      <th>Married</th>\n",
       "      <th>Dependents</th>\n",
       "      <th>Education</th>\n",
       "      <th>Self_Employed</th>\n",
       "      <th>ApplicantIncome</th>\n",
       "      <th>CoapplicantIncome</th>\n",
       "      <th>LoanAmount</th>\n",
       "      <th>Loan_Amount_Term</th>\n",
       "      <th>Credit_History</th>\n",
       "      <th>Property_Area</th>\n",
       "      <th>Loan_Status</th>\n",
       "      <th>LoanAmountLog</th>\n",
       "      <th>TotalIncome</th>\n",
       "      <th>TotalIncomeLog</th>\n",
       "    </tr>\n",
       "  </thead>\n",
       "  <tbody>\n",
       "    <tr>\n",
       "      <th>0</th>\n",
       "      <td>LP001002</td>\n",
       "      <td>Male</td>\n",
       "      <td>No</td>\n",
       "      <td>0</td>\n",
       "      <td>Graduate</td>\n",
       "      <td>No</td>\n",
       "      <td>5849</td>\n",
       "      <td>0.0</td>\n",
       "      <td>146.4</td>\n",
       "      <td>360.0</td>\n",
       "      <td>1.0</td>\n",
       "      <td>Urban</td>\n",
       "      <td>Y</td>\n",
       "      <td>4.986343</td>\n",
       "      <td>5849.0</td>\n",
       "      <td>8.674026</td>\n",
       "    </tr>\n",
       "    <tr>\n",
       "      <th>1</th>\n",
       "      <td>LP001003</td>\n",
       "      <td>Male</td>\n",
       "      <td>Yes</td>\n",
       "      <td>1</td>\n",
       "      <td>Graduate</td>\n",
       "      <td>No</td>\n",
       "      <td>4583</td>\n",
       "      <td>1508.0</td>\n",
       "      <td>128.0</td>\n",
       "      <td>360.0</td>\n",
       "      <td>1.0</td>\n",
       "      <td>Rural</td>\n",
       "      <td>N</td>\n",
       "      <td>4.852030</td>\n",
       "      <td>6091.0</td>\n",
       "      <td>8.714568</td>\n",
       "    </tr>\n",
       "    <tr>\n",
       "      <th>2</th>\n",
       "      <td>LP001005</td>\n",
       "      <td>Male</td>\n",
       "      <td>Yes</td>\n",
       "      <td>0</td>\n",
       "      <td>Graduate</td>\n",
       "      <td>Yes</td>\n",
       "      <td>3000</td>\n",
       "      <td>0.0</td>\n",
       "      <td>66.0</td>\n",
       "      <td>360.0</td>\n",
       "      <td>1.0</td>\n",
       "      <td>Urban</td>\n",
       "      <td>Y</td>\n",
       "      <td>4.189655</td>\n",
       "      <td>3000.0</td>\n",
       "      <td>8.006368</td>\n",
       "    </tr>\n",
       "    <tr>\n",
       "      <th>3</th>\n",
       "      <td>LP001006</td>\n",
       "      <td>Male</td>\n",
       "      <td>Yes</td>\n",
       "      <td>0</td>\n",
       "      <td>Not Graduate</td>\n",
       "      <td>No</td>\n",
       "      <td>2583</td>\n",
       "      <td>2358.0</td>\n",
       "      <td>120.0</td>\n",
       "      <td>360.0</td>\n",
       "      <td>1.0</td>\n",
       "      <td>Urban</td>\n",
       "      <td>Y</td>\n",
       "      <td>4.787492</td>\n",
       "      <td>4941.0</td>\n",
       "      <td>8.505323</td>\n",
       "    </tr>\n",
       "    <tr>\n",
       "      <th>4</th>\n",
       "      <td>LP001008</td>\n",
       "      <td>Male</td>\n",
       "      <td>No</td>\n",
       "      <td>0</td>\n",
       "      <td>Graduate</td>\n",
       "      <td>No</td>\n",
       "      <td>6000</td>\n",
       "      <td>0.0</td>\n",
       "      <td>141.0</td>\n",
       "      <td>360.0</td>\n",
       "      <td>1.0</td>\n",
       "      <td>Urban</td>\n",
       "      <td>Y</td>\n",
       "      <td>4.948760</td>\n",
       "      <td>6000.0</td>\n",
       "      <td>8.699515</td>\n",
       "    </tr>\n",
       "  </tbody>\n",
       "</table>\n",
       "</div>"
      ],
      "text/plain": [
       "    Loan_ID Gender Married Dependents     Education Self_Employed  \\\n",
       "0  LP001002   Male      No          0      Graduate            No   \n",
       "1  LP001003   Male     Yes          1      Graduate            No   \n",
       "2  LP001005   Male     Yes          0      Graduate           Yes   \n",
       "3  LP001006   Male     Yes          0  Not Graduate            No   \n",
       "4  LP001008   Male      No          0      Graduate            No   \n",
       "\n",
       "   ApplicantIncome  CoapplicantIncome  LoanAmount  Loan_Amount_Term  \\\n",
       "0             5849                0.0       146.4             360.0   \n",
       "1             4583             1508.0       128.0             360.0   \n",
       "2             3000                0.0        66.0             360.0   \n",
       "3             2583             2358.0       120.0             360.0   \n",
       "4             6000                0.0       141.0             360.0   \n",
       "\n",
       "   Credit_History Property_Area Loan_Status  LoanAmountLog  TotalIncome  \\\n",
       "0             1.0         Urban           Y       4.986343       5849.0   \n",
       "1             1.0         Rural           N       4.852030       6091.0   \n",
       "2             1.0         Urban           Y       4.189655       3000.0   \n",
       "3             1.0         Urban           Y       4.787492       4941.0   \n",
       "4             1.0         Urban           Y       4.948760       6000.0   \n",
       "\n",
       "   TotalIncomeLog  \n",
       "0        8.674026  \n",
       "1        8.714568  \n",
       "2        8.006368  \n",
       "3        8.505323  \n",
       "4        8.699515  "
      ]
     },
     "execution_count": 632,
     "metadata": {},
     "output_type": "execute_result"
    }
   ],
   "source": [
    "data.head()"
   ]
  },
  {
   "cell_type": "markdown",
   "metadata": {},
   "source": [
    "## 4. Building a Predictive Model"
   ]
  },
  {
   "cell_type": "code",
   "execution_count": 633,
   "metadata": {},
   "outputs": [],
   "source": [
    "features = data[['ApplicantIncome', 'CoapplicantIncome', 'Loan_Amount_Term', 'Credit_History', 'LoanAmountLog', 'TotalIncomeLog', 'Loan_ID','Loan_Status']]\n",
    "dummies = pd.get_dummies(data[['Gender', 'Married', 'Dependents', 'Education', 'Self_Employed', 'Property_Area']])"
   ]
  },
  {
   "cell_type": "code",
   "execution_count": 634,
   "metadata": {},
   "outputs": [
    {
     "data": {
      "text/html": [
       "<div>\n",
       "<style scoped>\n",
       "    .dataframe tbody tr th:only-of-type {\n",
       "        vertical-align: middle;\n",
       "    }\n",
       "\n",
       "    .dataframe tbody tr th {\n",
       "        vertical-align: top;\n",
       "    }\n",
       "\n",
       "    .dataframe thead th {\n",
       "        text-align: right;\n",
       "    }\n",
       "</style>\n",
       "<table border=\"1\" class=\"dataframe\">\n",
       "  <thead>\n",
       "    <tr style=\"text-align: right;\">\n",
       "      <th></th>\n",
       "      <th>Gender_Female</th>\n",
       "      <th>Gender_Male</th>\n",
       "      <th>Married_No</th>\n",
       "      <th>Married_Yes</th>\n",
       "      <th>Dependents_0</th>\n",
       "      <th>Dependents_1</th>\n",
       "      <th>Dependents_2</th>\n",
       "      <th>Dependents_3+</th>\n",
       "      <th>Education_Graduate</th>\n",
       "      <th>Education_Not Graduate</th>\n",
       "      <th>...</th>\n",
       "      <th>Property_Area_Semiurban</th>\n",
       "      <th>Property_Area_Urban</th>\n",
       "      <th>ApplicantIncome</th>\n",
       "      <th>CoapplicantIncome</th>\n",
       "      <th>Loan_Amount_Term</th>\n",
       "      <th>Credit_History</th>\n",
       "      <th>LoanAmountLog</th>\n",
       "      <th>TotalIncomeLog</th>\n",
       "      <th>Loan_ID</th>\n",
       "      <th>Loan_Status</th>\n",
       "    </tr>\n",
       "  </thead>\n",
       "  <tbody>\n",
       "    <tr>\n",
       "      <th>0</th>\n",
       "      <td>0</td>\n",
       "      <td>1</td>\n",
       "      <td>1</td>\n",
       "      <td>0</td>\n",
       "      <td>1</td>\n",
       "      <td>0</td>\n",
       "      <td>0</td>\n",
       "      <td>0</td>\n",
       "      <td>1</td>\n",
       "      <td>0</td>\n",
       "      <td>...</td>\n",
       "      <td>0</td>\n",
       "      <td>1</td>\n",
       "      <td>5849</td>\n",
       "      <td>0.0</td>\n",
       "      <td>360.0</td>\n",
       "      <td>1.0</td>\n",
       "      <td>4.986343</td>\n",
       "      <td>8.674026</td>\n",
       "      <td>LP001002</td>\n",
       "      <td>Y</td>\n",
       "    </tr>\n",
       "    <tr>\n",
       "      <th>1</th>\n",
       "      <td>0</td>\n",
       "      <td>1</td>\n",
       "      <td>0</td>\n",
       "      <td>1</td>\n",
       "      <td>0</td>\n",
       "      <td>1</td>\n",
       "      <td>0</td>\n",
       "      <td>0</td>\n",
       "      <td>1</td>\n",
       "      <td>0</td>\n",
       "      <td>...</td>\n",
       "      <td>0</td>\n",
       "      <td>0</td>\n",
       "      <td>4583</td>\n",
       "      <td>1508.0</td>\n",
       "      <td>360.0</td>\n",
       "      <td>1.0</td>\n",
       "      <td>4.852030</td>\n",
       "      <td>8.714568</td>\n",
       "      <td>LP001003</td>\n",
       "      <td>N</td>\n",
       "    </tr>\n",
       "    <tr>\n",
       "      <th>2</th>\n",
       "      <td>0</td>\n",
       "      <td>1</td>\n",
       "      <td>0</td>\n",
       "      <td>1</td>\n",
       "      <td>1</td>\n",
       "      <td>0</td>\n",
       "      <td>0</td>\n",
       "      <td>0</td>\n",
       "      <td>1</td>\n",
       "      <td>0</td>\n",
       "      <td>...</td>\n",
       "      <td>0</td>\n",
       "      <td>1</td>\n",
       "      <td>3000</td>\n",
       "      <td>0.0</td>\n",
       "      <td>360.0</td>\n",
       "      <td>1.0</td>\n",
       "      <td>4.189655</td>\n",
       "      <td>8.006368</td>\n",
       "      <td>LP001005</td>\n",
       "      <td>Y</td>\n",
       "    </tr>\n",
       "    <tr>\n",
       "      <th>3</th>\n",
       "      <td>0</td>\n",
       "      <td>1</td>\n",
       "      <td>0</td>\n",
       "      <td>1</td>\n",
       "      <td>1</td>\n",
       "      <td>0</td>\n",
       "      <td>0</td>\n",
       "      <td>0</td>\n",
       "      <td>0</td>\n",
       "      <td>1</td>\n",
       "      <td>...</td>\n",
       "      <td>0</td>\n",
       "      <td>1</td>\n",
       "      <td>2583</td>\n",
       "      <td>2358.0</td>\n",
       "      <td>360.0</td>\n",
       "      <td>1.0</td>\n",
       "      <td>4.787492</td>\n",
       "      <td>8.505323</td>\n",
       "      <td>LP001006</td>\n",
       "      <td>Y</td>\n",
       "    </tr>\n",
       "    <tr>\n",
       "      <th>4</th>\n",
       "      <td>0</td>\n",
       "      <td>1</td>\n",
       "      <td>1</td>\n",
       "      <td>0</td>\n",
       "      <td>1</td>\n",
       "      <td>0</td>\n",
       "      <td>0</td>\n",
       "      <td>0</td>\n",
       "      <td>1</td>\n",
       "      <td>0</td>\n",
       "      <td>...</td>\n",
       "      <td>0</td>\n",
       "      <td>1</td>\n",
       "      <td>6000</td>\n",
       "      <td>0.0</td>\n",
       "      <td>360.0</td>\n",
       "      <td>1.0</td>\n",
       "      <td>4.948760</td>\n",
       "      <td>8.699515</td>\n",
       "      <td>LP001008</td>\n",
       "      <td>Y</td>\n",
       "    </tr>\n",
       "  </tbody>\n",
       "</table>\n",
       "<p>5 rows × 23 columns</p>\n",
       "</div>"
      ],
      "text/plain": [
       "   Gender_Female  Gender_Male  Married_No  Married_Yes  Dependents_0  \\\n",
       "0              0            1           1            0             1   \n",
       "1              0            1           0            1             0   \n",
       "2              0            1           0            1             1   \n",
       "3              0            1           0            1             1   \n",
       "4              0            1           1            0             1   \n",
       "\n",
       "   Dependents_1  Dependents_2  Dependents_3+  Education_Graduate  \\\n",
       "0             0             0              0                   1   \n",
       "1             1             0              0                   1   \n",
       "2             0             0              0                   1   \n",
       "3             0             0              0                   0   \n",
       "4             0             0              0                   1   \n",
       "\n",
       "   Education_Not Graduate  ...  Property_Area_Semiurban  Property_Area_Urban  \\\n",
       "0                       0  ...                        0                    1   \n",
       "1                       0  ...                        0                    0   \n",
       "2                       0  ...                        0                    1   \n",
       "3                       1  ...                        0                    1   \n",
       "4                       0  ...                        0                    1   \n",
       "\n",
       "   ApplicantIncome  CoapplicantIncome  Loan_Amount_Term  Credit_History  \\\n",
       "0             5849                0.0             360.0             1.0   \n",
       "1             4583             1508.0             360.0             1.0   \n",
       "2             3000                0.0             360.0             1.0   \n",
       "3             2583             2358.0             360.0             1.0   \n",
       "4             6000                0.0             360.0             1.0   \n",
       "\n",
       "   LoanAmountLog  TotalIncomeLog   Loan_ID  Loan_Status  \n",
       "0       4.986343        8.674026  LP001002            Y  \n",
       "1       4.852030        8.714568  LP001003            N  \n",
       "2       4.189655        8.006368  LP001005            Y  \n",
       "3       4.787492        8.505323  LP001006            Y  \n",
       "4       4.948760        8.699515  LP001008            Y  \n",
       "\n",
       "[5 rows x 23 columns]"
      ]
     },
     "execution_count": 634,
     "metadata": {},
     "output_type": "execute_result"
    }
   ],
   "source": [
    "features = pd.concat([dummies, features], axis=1)\n",
    "features.head()"
   ]
  },
  {
   "cell_type": "code",
   "execution_count": 635,
   "metadata": {},
   "outputs": [],
   "source": [
    "features['Loan_Status'] = features['Loan_Status'].replace({'Y' :1, 'N':0})\n",
    "\n",
    "y = features.pop('Loan_Status')\n",
    "X = features.drop('Loan_ID',axis=1)\n",
    "\n",
    "scaler = StandardScaler()\n",
    "X_scaled = scaler.fit_transform(X)\n",
    "\n",
    "X_train, X_test, y_train, y_test = train_test_split(X_scaled, y, test_size=0.3, stratify=y, random_state=15)"
   ]
  },
  {
   "cell_type": "code",
   "execution_count": 636,
   "metadata": {},
   "outputs": [
    {
     "data": {
      "text/html": [
       "<style>#sk-container-id-21 {color: black;background-color: white;}#sk-container-id-21 pre{padding: 0;}#sk-container-id-21 div.sk-toggleable {background-color: white;}#sk-container-id-21 label.sk-toggleable__label {cursor: pointer;display: block;width: 100%;margin-bottom: 0;padding: 0.3em;box-sizing: border-box;text-align: center;}#sk-container-id-21 label.sk-toggleable__label-arrow:before {content: \"▸\";float: left;margin-right: 0.25em;color: #696969;}#sk-container-id-21 label.sk-toggleable__label-arrow:hover:before {color: black;}#sk-container-id-21 div.sk-estimator:hover label.sk-toggleable__label-arrow:before {color: black;}#sk-container-id-21 div.sk-toggleable__content {max-height: 0;max-width: 0;overflow: hidden;text-align: left;background-color: #f0f8ff;}#sk-container-id-21 div.sk-toggleable__content pre {margin: 0.2em;color: black;border-radius: 0.25em;background-color: #f0f8ff;}#sk-container-id-21 input.sk-toggleable__control:checked~div.sk-toggleable__content {max-height: 200px;max-width: 100%;overflow: auto;}#sk-container-id-21 input.sk-toggleable__control:checked~label.sk-toggleable__label-arrow:before {content: \"▾\";}#sk-container-id-21 div.sk-estimator input.sk-toggleable__control:checked~label.sk-toggleable__label {background-color: #d4ebff;}#sk-container-id-21 div.sk-label input.sk-toggleable__control:checked~label.sk-toggleable__label {background-color: #d4ebff;}#sk-container-id-21 input.sk-hidden--visually {border: 0;clip: rect(1px 1px 1px 1px);clip: rect(1px, 1px, 1px, 1px);height: 1px;margin: -1px;overflow: hidden;padding: 0;position: absolute;width: 1px;}#sk-container-id-21 div.sk-estimator {font-family: monospace;background-color: #f0f8ff;border: 1px dotted black;border-radius: 0.25em;box-sizing: border-box;margin-bottom: 0.5em;}#sk-container-id-21 div.sk-estimator:hover {background-color: #d4ebff;}#sk-container-id-21 div.sk-parallel-item::after {content: \"\";width: 100%;border-bottom: 1px solid gray;flex-grow: 1;}#sk-container-id-21 div.sk-label:hover label.sk-toggleable__label {background-color: #d4ebff;}#sk-container-id-21 div.sk-serial::before {content: \"\";position: absolute;border-left: 1px solid gray;box-sizing: border-box;top: 0;bottom: 0;left: 50%;z-index: 0;}#sk-container-id-21 div.sk-serial {display: flex;flex-direction: column;align-items: center;background-color: white;padding-right: 0.2em;padding-left: 0.2em;position: relative;}#sk-container-id-21 div.sk-item {position: relative;z-index: 1;}#sk-container-id-21 div.sk-parallel {display: flex;align-items: stretch;justify-content: center;background-color: white;position: relative;}#sk-container-id-21 div.sk-item::before, #sk-container-id-21 div.sk-parallel-item::before {content: \"\";position: absolute;border-left: 1px solid gray;box-sizing: border-box;top: 0;bottom: 0;left: 50%;z-index: -1;}#sk-container-id-21 div.sk-parallel-item {display: flex;flex-direction: column;z-index: 1;position: relative;background-color: white;}#sk-container-id-21 div.sk-parallel-item:first-child::after {align-self: flex-end;width: 50%;}#sk-container-id-21 div.sk-parallel-item:last-child::after {align-self: flex-start;width: 50%;}#sk-container-id-21 div.sk-parallel-item:only-child::after {width: 0;}#sk-container-id-21 div.sk-dashed-wrapped {border: 1px dashed gray;margin: 0 0.4em 0.5em 0.4em;box-sizing: border-box;padding-bottom: 0.4em;background-color: white;}#sk-container-id-21 div.sk-label label {font-family: monospace;font-weight: bold;display: inline-block;line-height: 1.2em;}#sk-container-id-21 div.sk-label-container {text-align: center;}#sk-container-id-21 div.sk-container {/* jupyter's `normalize.less` sets `[hidden] { display: none; }` but bootstrap.min.css set `[hidden] { display: none !important; }` so we also need the `!important` here to be able to override the default hidden behavior on the sphinx rendered scikit-learn.org. See: https://github.com/scikit-learn/scikit-learn/issues/21755 */display: inline-block !important;position: relative;}#sk-container-id-21 div.sk-text-repr-fallback {display: none;}</style><div id=\"sk-container-id-21\" class=\"sk-top-container\"><div class=\"sk-text-repr-fallback\"><pre>LogisticRegression()</pre><b>In a Jupyter environment, please rerun this cell to show the HTML representation or trust the notebook. <br />On GitHub, the HTML representation is unable to render, please try loading this page with nbviewer.org.</b></div><div class=\"sk-container\" hidden><div class=\"sk-item\"><div class=\"sk-estimator sk-toggleable\"><input class=\"sk-toggleable__control sk-hidden--visually\" id=\"sk-estimator-id-357\" type=\"checkbox\" checked><label for=\"sk-estimator-id-357\" class=\"sk-toggleable__label sk-toggleable__label-arrow\">LogisticRegression</label><div class=\"sk-toggleable__content\"><pre>LogisticRegression()</pre></div></div></div></div></div>"
      ],
      "text/plain": [
       "LogisticRegression()"
      ]
     },
     "execution_count": 636,
     "metadata": {},
     "output_type": "execute_result"
    }
   ],
   "source": [
    "logreg = LogisticRegression()\n",
    "logreg.fit(X_train, y_train)"
   ]
  },
  {
   "cell_type": "code",
   "execution_count": 637,
   "metadata": {},
   "outputs": [
    {
     "data": {
      "text/plain": [
       "0.8108108108108109"
      ]
     },
     "execution_count": 637,
     "metadata": {},
     "output_type": "execute_result"
    }
   ],
   "source": [
    "logreg.score(X_test, y_test)"
   ]
  },
  {
   "cell_type": "code",
   "execution_count": 638,
   "metadata": {},
   "outputs": [
    {
     "data": {
      "text/plain": [
       "21"
      ]
     },
     "execution_count": 638,
     "metadata": {},
     "output_type": "execute_result"
    }
   ],
   "source": [
    "coefs_array = (np.round(logreg.coef_, decimals=3))\n",
    "coeffs = []\n",
    "\n",
    "for i in coefs_array[0]:\n",
    "    coeffs.append(i)\n",
    "\n",
    "len(coeffs)"
   ]
  },
  {
   "cell_type": "code",
   "execution_count": 639,
   "metadata": {},
   "outputs": [
    {
     "data": {
      "text/plain": [
       "21"
      ]
     },
     "execution_count": 639,
     "metadata": {},
     "output_type": "execute_result"
    }
   ],
   "source": [
    "columns = list(X.columns.values)\n",
    "len(columns)"
   ]
  },
  {
   "cell_type": "code",
   "execution_count": 640,
   "metadata": {},
   "outputs": [
    {
     "data": {
      "text/html": [
       "<div>\n",
       "<style scoped>\n",
       "    .dataframe tbody tr th:only-of-type {\n",
       "        vertical-align: middle;\n",
       "    }\n",
       "\n",
       "    .dataframe tbody tr th {\n",
       "        vertical-align: top;\n",
       "    }\n",
       "\n",
       "    .dataframe thead th {\n",
       "        text-align: right;\n",
       "    }\n",
       "</style>\n",
       "<table border=\"1\" class=\"dataframe\">\n",
       "  <thead>\n",
       "    <tr style=\"text-align: right;\">\n",
       "      <th></th>\n",
       "      <th>feature</th>\n",
       "      <th>coefficient</th>\n",
       "    </tr>\n",
       "  </thead>\n",
       "  <tbody>\n",
       "    <tr>\n",
       "      <th>18</th>\n",
       "      <td>Credit_History</td>\n",
       "      <td>0.849</td>\n",
       "    </tr>\n",
       "    <tr>\n",
       "      <th>3</th>\n",
       "      <td>Married_Yes</td>\n",
       "      <td>0.227</td>\n",
       "    </tr>\n",
       "    <tr>\n",
       "      <th>13</th>\n",
       "      <td>Property_Area_Semiurban</td>\n",
       "      <td>0.137</td>\n",
       "    </tr>\n",
       "    <tr>\n",
       "      <th>20</th>\n",
       "      <td>TotalIncomeLog</td>\n",
       "      <td>0.136</td>\n",
       "    </tr>\n",
       "    <tr>\n",
       "      <th>6</th>\n",
       "      <td>Dependents_2</td>\n",
       "      <td>0.124</td>\n",
       "    </tr>\n",
       "    <tr>\n",
       "      <th>17</th>\n",
       "      <td>Loan_Amount_Term</td>\n",
       "      <td>0.081</td>\n",
       "    </tr>\n",
       "    <tr>\n",
       "      <th>4</th>\n",
       "      <td>Dependents_0</td>\n",
       "      <td>0.054</td>\n",
       "    </tr>\n",
       "    <tr>\n",
       "      <th>8</th>\n",
       "      <td>Education_Graduate</td>\n",
       "      <td>0.041</td>\n",
       "    </tr>\n",
       "    <tr>\n",
       "      <th>0</th>\n",
       "      <td>Gender_Female</td>\n",
       "      <td>0.039</td>\n",
       "    </tr>\n",
       "    <tr>\n",
       "      <th>11</th>\n",
       "      <td>Self_Employed_Yes</td>\n",
       "      <td>0.023</td>\n",
       "    </tr>\n",
       "    <tr>\n",
       "      <th>7</th>\n",
       "      <td>Dependents_3+</td>\n",
       "      <td>0.020</td>\n",
       "    </tr>\n",
       "    <tr>\n",
       "      <th>14</th>\n",
       "      <td>Property_Area_Urban</td>\n",
       "      <td>-0.016</td>\n",
       "    </tr>\n",
       "    <tr>\n",
       "      <th>10</th>\n",
       "      <td>Self_Employed_No</td>\n",
       "      <td>-0.023</td>\n",
       "    </tr>\n",
       "    <tr>\n",
       "      <th>1</th>\n",
       "      <td>Gender_Male</td>\n",
       "      <td>-0.039</td>\n",
       "    </tr>\n",
       "    <tr>\n",
       "      <th>9</th>\n",
       "      <td>Education_Not Graduate</td>\n",
       "      <td>-0.041</td>\n",
       "    </tr>\n",
       "    <tr>\n",
       "      <th>15</th>\n",
       "      <td>ApplicantIncome</td>\n",
       "      <td>-0.071</td>\n",
       "    </tr>\n",
       "    <tr>\n",
       "      <th>12</th>\n",
       "      <td>Property_Area_Rural</td>\n",
       "      <td>-0.130</td>\n",
       "    </tr>\n",
       "    <tr>\n",
       "      <th>16</th>\n",
       "      <td>CoapplicantIncome</td>\n",
       "      <td>-0.189</td>\n",
       "    </tr>\n",
       "    <tr>\n",
       "      <th>5</th>\n",
       "      <td>Dependents_1</td>\n",
       "      <td>-0.210</td>\n",
       "    </tr>\n",
       "    <tr>\n",
       "      <th>2</th>\n",
       "      <td>Married_No</td>\n",
       "      <td>-0.227</td>\n",
       "    </tr>\n",
       "    <tr>\n",
       "      <th>19</th>\n",
       "      <td>LoanAmountLog</td>\n",
       "      <td>-0.258</td>\n",
       "    </tr>\n",
       "  </tbody>\n",
       "</table>\n",
       "</div>"
      ],
      "text/plain": [
       "                    feature  coefficient\n",
       "18           Credit_History        0.849\n",
       "3               Married_Yes        0.227\n",
       "13  Property_Area_Semiurban        0.137\n",
       "20           TotalIncomeLog        0.136\n",
       "6              Dependents_2        0.124\n",
       "17         Loan_Amount_Term        0.081\n",
       "4              Dependents_0        0.054\n",
       "8        Education_Graduate        0.041\n",
       "0             Gender_Female        0.039\n",
       "11        Self_Employed_Yes        0.023\n",
       "7             Dependents_3+        0.020\n",
       "14      Property_Area_Urban       -0.016\n",
       "10         Self_Employed_No       -0.023\n",
       "1               Gender_Male       -0.039\n",
       "9    Education_Not Graduate       -0.041\n",
       "15          ApplicantIncome       -0.071\n",
       "12      Property_Area_Rural       -0.130\n",
       "16        CoapplicantIncome       -0.189\n",
       "5              Dependents_1       -0.210\n",
       "2                Married_No       -0.227\n",
       "19            LoanAmountLog       -0.258"
      ]
     },
     "execution_count": 640,
     "metadata": {},
     "output_type": "execute_result"
    }
   ],
   "source": [
    "feature_importance = pd.DataFrame()\n",
    "feature_importance['feature'] = columns\n",
    "feature_importance['coefficient'] = coeffs\n",
    "feature_importance.sort_values(by='coefficient', ascending=False)"
   ]
  },
  {
   "cell_type": "markdown",
   "metadata": {
    "jupyter": {
     "outputs_hidden": false
    }
   },
   "source": [
    "## 5. Using Pipeline\n",
    "If you didn't use pipelines before, transform your data prep, feat. engineering and modeling steps into Pipeline. It will be helpful for deployment.\n",
    "\n",
    "The goal here is to create the pipeline that will take one row of our dataset and predict the probability of being granted a loan.\n",
    "\n",
    "`pipeline.predict(x)`"
   ]
  },
  {
   "cell_type": "code",
   "execution_count": 641,
   "metadata": {},
   "outputs": [],
   "source": [
    "import pandas as pd\n",
    "import numpy as np\n",
    "from sklearn.compose import ColumnTransformer\n",
    "from sklearn.preprocessing import OneHotEncoder, LabelEncoder, StandardScaler, FunctionTransformer\n",
    "from sklearn.model_selection import train_test_split\n",
    "from sklearn.impute import SimpleImputer\n",
    "from sklearn.linear_model import LogisticRegression, RidgeClassifier\n",
    "from sklearn.svm import SVC\n",
    "import pickle\n",
    "from sklearn.pipeline import Pipeline, FeatureUnion\n",
    "from sklearn.decomposition import PCA\n",
    "from sklearn.feature_selection import SelectKBest\n",
    "from sklearn.model_selection import GridSearchCV"
   ]
  },
  {
   "cell_type": "code",
   "execution_count": 642,
   "metadata": {},
   "outputs": [
    {
     "data": {
      "text/html": [
       "<div>\n",
       "<style scoped>\n",
       "    .dataframe tbody tr th:only-of-type {\n",
       "        vertical-align: middle;\n",
       "    }\n",
       "\n",
       "    .dataframe tbody tr th {\n",
       "        vertical-align: top;\n",
       "    }\n",
       "\n",
       "    .dataframe thead th {\n",
       "        text-align: right;\n",
       "    }\n",
       "</style>\n",
       "<table border=\"1\" class=\"dataframe\">\n",
       "  <thead>\n",
       "    <tr style=\"text-align: right;\">\n",
       "      <th></th>\n",
       "      <th>Loan_ID</th>\n",
       "      <th>Gender</th>\n",
       "      <th>Married</th>\n",
       "      <th>Dependents</th>\n",
       "      <th>Education</th>\n",
       "      <th>Self_Employed</th>\n",
       "      <th>ApplicantIncome</th>\n",
       "      <th>CoapplicantIncome</th>\n",
       "      <th>LoanAmount</th>\n",
       "      <th>Loan_Amount_Term</th>\n",
       "      <th>Credit_History</th>\n",
       "      <th>Property_Area</th>\n",
       "      <th>Loan_Status</th>\n",
       "    </tr>\n",
       "  </thead>\n",
       "  <tbody>\n",
       "    <tr>\n",
       "      <th>0</th>\n",
       "      <td>LP001002</td>\n",
       "      <td>Male</td>\n",
       "      <td>No</td>\n",
       "      <td>0</td>\n",
       "      <td>Graduate</td>\n",
       "      <td>No</td>\n",
       "      <td>5849</td>\n",
       "      <td>0.0</td>\n",
       "      <td>NaN</td>\n",
       "      <td>360.0</td>\n",
       "      <td>1.0</td>\n",
       "      <td>Urban</td>\n",
       "      <td>Y</td>\n",
       "    </tr>\n",
       "    <tr>\n",
       "      <th>1</th>\n",
       "      <td>LP001003</td>\n",
       "      <td>Male</td>\n",
       "      <td>Yes</td>\n",
       "      <td>1</td>\n",
       "      <td>Graduate</td>\n",
       "      <td>No</td>\n",
       "      <td>4583</td>\n",
       "      <td>1508.0</td>\n",
       "      <td>128.0</td>\n",
       "      <td>360.0</td>\n",
       "      <td>1.0</td>\n",
       "      <td>Rural</td>\n",
       "      <td>N</td>\n",
       "    </tr>\n",
       "    <tr>\n",
       "      <th>2</th>\n",
       "      <td>LP001005</td>\n",
       "      <td>Male</td>\n",
       "      <td>Yes</td>\n",
       "      <td>0</td>\n",
       "      <td>Graduate</td>\n",
       "      <td>Yes</td>\n",
       "      <td>3000</td>\n",
       "      <td>0.0</td>\n",
       "      <td>66.0</td>\n",
       "      <td>360.0</td>\n",
       "      <td>1.0</td>\n",
       "      <td>Urban</td>\n",
       "      <td>Y</td>\n",
       "    </tr>\n",
       "    <tr>\n",
       "      <th>3</th>\n",
       "      <td>LP001006</td>\n",
       "      <td>Male</td>\n",
       "      <td>Yes</td>\n",
       "      <td>0</td>\n",
       "      <td>Not Graduate</td>\n",
       "      <td>No</td>\n",
       "      <td>2583</td>\n",
       "      <td>2358.0</td>\n",
       "      <td>120.0</td>\n",
       "      <td>360.0</td>\n",
       "      <td>1.0</td>\n",
       "      <td>Urban</td>\n",
       "      <td>Y</td>\n",
       "    </tr>\n",
       "    <tr>\n",
       "      <th>4</th>\n",
       "      <td>LP001008</td>\n",
       "      <td>Male</td>\n",
       "      <td>No</td>\n",
       "      <td>0</td>\n",
       "      <td>Graduate</td>\n",
       "      <td>No</td>\n",
       "      <td>6000</td>\n",
       "      <td>0.0</td>\n",
       "      <td>141.0</td>\n",
       "      <td>360.0</td>\n",
       "      <td>1.0</td>\n",
       "      <td>Urban</td>\n",
       "      <td>Y</td>\n",
       "    </tr>\n",
       "  </tbody>\n",
       "</table>\n",
       "</div>"
      ],
      "text/plain": [
       "    Loan_ID Gender Married Dependents     Education Self_Employed  \\\n",
       "0  LP001002   Male      No          0      Graduate            No   \n",
       "1  LP001003   Male     Yes          1      Graduate            No   \n",
       "2  LP001005   Male     Yes          0      Graduate           Yes   \n",
       "3  LP001006   Male     Yes          0  Not Graduate            No   \n",
       "4  LP001008   Male      No          0      Graduate            No   \n",
       "\n",
       "   ApplicantIncome  CoapplicantIncome  LoanAmount  Loan_Amount_Term  \\\n",
       "0             5849                0.0         NaN             360.0   \n",
       "1             4583             1508.0       128.0             360.0   \n",
       "2             3000                0.0        66.0             360.0   \n",
       "3             2583             2358.0       120.0             360.0   \n",
       "4             6000                0.0       141.0             360.0   \n",
       "\n",
       "   Credit_History Property_Area Loan_Status  \n",
       "0             1.0         Urban           Y  \n",
       "1             1.0         Rural           N  \n",
       "2             1.0         Urban           Y  \n",
       "3             1.0         Urban           Y  \n",
       "4             1.0         Urban           Y  "
      ]
     },
     "execution_count": 642,
     "metadata": {},
     "output_type": "execute_result"
    }
   ],
   "source": [
    "df = pd.read_csv(\"/Users/karina/GitHub//mini-project-iv/data/data.csv\") \n",
    "df.head()"
   ]
  },
  {
   "cell_type": "code",
   "execution_count": 643,
   "metadata": {},
   "outputs": [],
   "source": [
    "df['Loan_Status'] = df['Loan_Status'].replace({'Y' :1, 'N':0})\n",
    "\n",
    "y = df.pop('Loan_Status')\n",
    "X = df.drop('Loan_ID',axis=1)\n",
    "\n",
    "X_train, X_test, y_train, y_test = train_test_split(X, y, test_size=0.3, stratify=y, random_state=15)"
   ]
  },
  {
   "cell_type": "code",
   "execution_count": 644,
   "metadata": {},
   "outputs": [],
   "source": [
    "class DataframeFunctionTransformer:\n",
    "    def __init__(self, func):\n",
    "        self.func = func\n",
    "\n",
    "    def transform(self, input_df, **transform_params):\n",
    "        return self.func(input_df)\n",
    "\n",
    "    def fit(self, X, y=None, **fit_params):\n",
    "        return self\n",
    "\n",
    "def create_total_income_feature(input_df):\n",
    "    input_df['TotalIncome'] = input_df['ApplicantIncome'] + input_df['CoapplicantIncome']\n",
    "    return input_df\n",
    "\n",
    "def to_dataframe(array):\n",
    "    columns= ['Gender','Dependents','Married','Self_Employed', 'LoanAmount',\n",
    "               'Loan_Amount_Term','Credit_History','Education','ApplicantIncome',\n",
    "               'CoapplicantIncome','Property_Area', 'TotalIncome']\n",
    "    \n",
    "    return pd.DataFrame(array, columns = columns)\n",
    "    \n",
    "    return pd.DataFrame(array, columns = columns)\n",
    "\n",
    "def log_object(input_df):\n",
    "    input_df['LoanAmount'] = np.log(input_df['LoanAmount'])\n",
    "    input_df['TotalIncome'] = np.log(input_df['TotalIncome'])\n",
    "    return input_df\n"
   ]
  },
  {
   "cell_type": "code",
   "execution_count": 645,
   "metadata": {},
   "outputs": [],
   "source": [
    "fillna_transformer = ColumnTransformer([\n",
    "     ('fillna_mode', SimpleImputer(strategy=\"most_frequent\"), ['Gender','Dependents']),\n",
    "     ('fillna_no', SimpleImputer(strategy='constant', fill_value='No'), ['Married', 'Self_Employed']),\n",
    "     ('fillna_mean', SimpleImputer(strategy='mean'), ['LoanAmount', 'Loan_Amount_Term']),\n",
    "     ('fillna_zero', SimpleImputer(strategy='constant',fill_value=0), ['Credit_History'])],\n",
    "     remainder='passthrough')\n",
    "     \n",
    "categorical_preprocessing = Pipeline([\n",
    "    ('ohe', OneHotEncoder()),\n",
    "    ])\n",
    "numerical_preprocessing = Pipeline([\n",
    "    ('scaling', StandardScaler())\n",
    "    ])"
   ]
  },
  {
   "cell_type": "code",
   "execution_count": 646,
   "metadata": {},
   "outputs": [],
   "source": [
    "preprocessing_1 = Pipeline([\n",
    "    ('total_income', DataframeFunctionTransformer(create_total_income_feature)),\n",
    "    ('log_transformer', DataframeFunctionTransformer(log_object)),\n",
    "    ('fillna_trans', fillna_transformer),\n",
    "    ('to_dataframe', DataframeFunctionTransformer(to_dataframe)),\n",
    "    ])"
   ]
  },
  {
   "cell_type": "code",
   "execution_count": 647,
   "metadata": {},
   "outputs": [],
   "source": [
    "categorical_preprocessing = Pipeline([\n",
    "    ('ohe', OneHotEncoder()),\n",
    "    ])\n",
    "numerical_preprocessing = Pipeline([\n",
    "    ('scaler', StandardScaler())\n",
    "    ])\n",
    "\n",
    "preprocessing_2 = ColumnTransformer([\n",
    "    ('categorical_preprocessing', categorical_preprocessing, ['Gender', 'Dependents', 'Married', 'Self_Employed', 'Education', 'Property_Area']),\n",
    "    ('numerical_preprocessing', numerical_preprocessing,['LoanAmount', 'Credit_History', 'Loan_Amount_Term', 'TotalIncome'])\n",
    "])"
   ]
  },
  {
   "cell_type": "code",
   "execution_count": 648,
   "metadata": {},
   "outputs": [],
   "source": [
    "feature_union = FeatureUnion([('pca', PCA()), \n",
    "                              ('select_best', SelectKBest())])"
   ]
  },
  {
   "cell_type": "code",
   "execution_count": 649,
   "metadata": {},
   "outputs": [
    {
     "data": {
      "text/html": [
       "<style>#sk-container-id-22 {color: black;background-color: white;}#sk-container-id-22 pre{padding: 0;}#sk-container-id-22 div.sk-toggleable {background-color: white;}#sk-container-id-22 label.sk-toggleable__label {cursor: pointer;display: block;width: 100%;margin-bottom: 0;padding: 0.3em;box-sizing: border-box;text-align: center;}#sk-container-id-22 label.sk-toggleable__label-arrow:before {content: \"▸\";float: left;margin-right: 0.25em;color: #696969;}#sk-container-id-22 label.sk-toggleable__label-arrow:hover:before {color: black;}#sk-container-id-22 div.sk-estimator:hover label.sk-toggleable__label-arrow:before {color: black;}#sk-container-id-22 div.sk-toggleable__content {max-height: 0;max-width: 0;overflow: hidden;text-align: left;background-color: #f0f8ff;}#sk-container-id-22 div.sk-toggleable__content pre {margin: 0.2em;color: black;border-radius: 0.25em;background-color: #f0f8ff;}#sk-container-id-22 input.sk-toggleable__control:checked~div.sk-toggleable__content {max-height: 200px;max-width: 100%;overflow: auto;}#sk-container-id-22 input.sk-toggleable__control:checked~label.sk-toggleable__label-arrow:before {content: \"▾\";}#sk-container-id-22 div.sk-estimator input.sk-toggleable__control:checked~label.sk-toggleable__label {background-color: #d4ebff;}#sk-container-id-22 div.sk-label input.sk-toggleable__control:checked~label.sk-toggleable__label {background-color: #d4ebff;}#sk-container-id-22 input.sk-hidden--visually {border: 0;clip: rect(1px 1px 1px 1px);clip: rect(1px, 1px, 1px, 1px);height: 1px;margin: -1px;overflow: hidden;padding: 0;position: absolute;width: 1px;}#sk-container-id-22 div.sk-estimator {font-family: monospace;background-color: #f0f8ff;border: 1px dotted black;border-radius: 0.25em;box-sizing: border-box;margin-bottom: 0.5em;}#sk-container-id-22 div.sk-estimator:hover {background-color: #d4ebff;}#sk-container-id-22 div.sk-parallel-item::after {content: \"\";width: 100%;border-bottom: 1px solid gray;flex-grow: 1;}#sk-container-id-22 div.sk-label:hover label.sk-toggleable__label {background-color: #d4ebff;}#sk-container-id-22 div.sk-serial::before {content: \"\";position: absolute;border-left: 1px solid gray;box-sizing: border-box;top: 0;bottom: 0;left: 50%;z-index: 0;}#sk-container-id-22 div.sk-serial {display: flex;flex-direction: column;align-items: center;background-color: white;padding-right: 0.2em;padding-left: 0.2em;position: relative;}#sk-container-id-22 div.sk-item {position: relative;z-index: 1;}#sk-container-id-22 div.sk-parallel {display: flex;align-items: stretch;justify-content: center;background-color: white;position: relative;}#sk-container-id-22 div.sk-item::before, #sk-container-id-22 div.sk-parallel-item::before {content: \"\";position: absolute;border-left: 1px solid gray;box-sizing: border-box;top: 0;bottom: 0;left: 50%;z-index: -1;}#sk-container-id-22 div.sk-parallel-item {display: flex;flex-direction: column;z-index: 1;position: relative;background-color: white;}#sk-container-id-22 div.sk-parallel-item:first-child::after {align-self: flex-end;width: 50%;}#sk-container-id-22 div.sk-parallel-item:last-child::after {align-self: flex-start;width: 50%;}#sk-container-id-22 div.sk-parallel-item:only-child::after {width: 0;}#sk-container-id-22 div.sk-dashed-wrapped {border: 1px dashed gray;margin: 0 0.4em 0.5em 0.4em;box-sizing: border-box;padding-bottom: 0.4em;background-color: white;}#sk-container-id-22 div.sk-label label {font-family: monospace;font-weight: bold;display: inline-block;line-height: 1.2em;}#sk-container-id-22 div.sk-label-container {text-align: center;}#sk-container-id-22 div.sk-container {/* jupyter's `normalize.less` sets `[hidden] { display: none; }` but bootstrap.min.css set `[hidden] { display: none !important; }` so we also need the `!important` here to be able to override the default hidden behavior on the sphinx rendered scikit-learn.org. See: https://github.com/scikit-learn/scikit-learn/issues/21755 */display: inline-block !important;position: relative;}#sk-container-id-22 div.sk-text-repr-fallback {display: none;}</style><div id=\"sk-container-id-22\" class=\"sk-top-container\"><div class=\"sk-text-repr-fallback\"><pre>Pipeline(steps=[(&#x27;log_transformer&#x27;,\n",
       "                 Pipeline(steps=[(&#x27;total_income&#x27;,\n",
       "                                  &lt;__main__.DataframeFunctionTransformer object at 0x17f4fce80&gt;),\n",
       "                                 (&#x27;log_transformer&#x27;,\n",
       "                                  &lt;__main__.DataframeFunctionTransformer object at 0x17f4fc8b0&gt;),\n",
       "                                 (&#x27;fillna_trans&#x27;,\n",
       "                                  ColumnTransformer(remainder=&#x27;passthrough&#x27;,\n",
       "                                                    transformers=[(&#x27;fillna_mode&#x27;,\n",
       "                                                                   SimpleImputer(strategy=&#x27;most_frequent&#x27;),\n",
       "                                                                   [&#x27;Gender&#x27;,\n",
       "                                                                    &#x27;Depend...\n",
       "                 ColumnTransformer(transformers=[(&#x27;categorical_preprocessing&#x27;,\n",
       "                                                  Pipeline(steps=[(&#x27;ohe&#x27;,\n",
       "                                                                   OneHotEncoder())]),\n",
       "                                                  [&#x27;Gender&#x27;, &#x27;Dependents&#x27;,\n",
       "                                                   &#x27;Married&#x27;, &#x27;Self_Employed&#x27;,\n",
       "                                                   &#x27;Education&#x27;,\n",
       "                                                   &#x27;Property_Area&#x27;]),\n",
       "                                                 (&#x27;numerical_preprocessing&#x27;,\n",
       "                                                  Pipeline(steps=[(&#x27;scaler&#x27;,\n",
       "                                                                   StandardScaler())]),\n",
       "                                                  [&#x27;LoanAmount&#x27;,\n",
       "                                                   &#x27;Credit_History&#x27;,\n",
       "                                                   &#x27;Loan_Amount_Term&#x27;,\n",
       "                                                   &#x27;TotalIncome&#x27;])])),\n",
       "                (&#x27;clf&#x27;, LogisticRegression())])</pre><b>In a Jupyter environment, please rerun this cell to show the HTML representation or trust the notebook. <br />On GitHub, the HTML representation is unable to render, please try loading this page with nbviewer.org.</b></div><div class=\"sk-container\" hidden><div class=\"sk-item sk-dashed-wrapped\"><div class=\"sk-label-container\"><div class=\"sk-label sk-toggleable\"><input class=\"sk-toggleable__control sk-hidden--visually\" id=\"sk-estimator-id-358\" type=\"checkbox\" ><label for=\"sk-estimator-id-358\" class=\"sk-toggleable__label sk-toggleable__label-arrow\">Pipeline</label><div class=\"sk-toggleable__content\"><pre>Pipeline(steps=[(&#x27;log_transformer&#x27;,\n",
       "                 Pipeline(steps=[(&#x27;total_income&#x27;,\n",
       "                                  &lt;__main__.DataframeFunctionTransformer object at 0x17f4fce80&gt;),\n",
       "                                 (&#x27;log_transformer&#x27;,\n",
       "                                  &lt;__main__.DataframeFunctionTransformer object at 0x17f4fc8b0&gt;),\n",
       "                                 (&#x27;fillna_trans&#x27;,\n",
       "                                  ColumnTransformer(remainder=&#x27;passthrough&#x27;,\n",
       "                                                    transformers=[(&#x27;fillna_mode&#x27;,\n",
       "                                                                   SimpleImputer(strategy=&#x27;most_frequent&#x27;),\n",
       "                                                                   [&#x27;Gender&#x27;,\n",
       "                                                                    &#x27;Depend...\n",
       "                 ColumnTransformer(transformers=[(&#x27;categorical_preprocessing&#x27;,\n",
       "                                                  Pipeline(steps=[(&#x27;ohe&#x27;,\n",
       "                                                                   OneHotEncoder())]),\n",
       "                                                  [&#x27;Gender&#x27;, &#x27;Dependents&#x27;,\n",
       "                                                   &#x27;Married&#x27;, &#x27;Self_Employed&#x27;,\n",
       "                                                   &#x27;Education&#x27;,\n",
       "                                                   &#x27;Property_Area&#x27;]),\n",
       "                                                 (&#x27;numerical_preprocessing&#x27;,\n",
       "                                                  Pipeline(steps=[(&#x27;scaler&#x27;,\n",
       "                                                                   StandardScaler())]),\n",
       "                                                  [&#x27;LoanAmount&#x27;,\n",
       "                                                   &#x27;Credit_History&#x27;,\n",
       "                                                   &#x27;Loan_Amount_Term&#x27;,\n",
       "                                                   &#x27;TotalIncome&#x27;])])),\n",
       "                (&#x27;clf&#x27;, LogisticRegression())])</pre></div></div></div><div class=\"sk-serial\"><div class=\"sk-item\"><div class=\"sk-label-container\"><div class=\"sk-label sk-toggleable\"><input class=\"sk-toggleable__control sk-hidden--visually\" id=\"sk-estimator-id-359\" type=\"checkbox\" ><label for=\"sk-estimator-id-359\" class=\"sk-toggleable__label sk-toggleable__label-arrow\">log_transformer: Pipeline</label><div class=\"sk-toggleable__content\"><pre>Pipeline(steps=[(&#x27;total_income&#x27;,\n",
       "                 &lt;__main__.DataframeFunctionTransformer object at 0x17f4fce80&gt;),\n",
       "                (&#x27;log_transformer&#x27;,\n",
       "                 &lt;__main__.DataframeFunctionTransformer object at 0x17f4fc8b0&gt;),\n",
       "                (&#x27;fillna_trans&#x27;,\n",
       "                 ColumnTransformer(remainder=&#x27;passthrough&#x27;,\n",
       "                                   transformers=[(&#x27;fillna_mode&#x27;,\n",
       "                                                  SimpleImputer(strategy=&#x27;most_frequent&#x27;),\n",
       "                                                  [&#x27;Gender&#x27;, &#x27;Dependents&#x27;]),\n",
       "                                                 (&#x27;fillna_no&#x27;,\n",
       "                                                  SimpleImputer(fill_value=&#x27;No&#x27;,\n",
       "                                                                strategy=&#x27;constant&#x27;),\n",
       "                                                  [&#x27;Married&#x27;, &#x27;Self_Employed&#x27;]),\n",
       "                                                 (&#x27;fillna_mean&#x27;,\n",
       "                                                  SimpleImputer(),\n",
       "                                                  [&#x27;LoanAmount&#x27;,\n",
       "                                                   &#x27;Loan_Amount_Term&#x27;]),\n",
       "                                                 (&#x27;fillna_zero&#x27;,\n",
       "                                                  SimpleImputer(fill_value=0,\n",
       "                                                                strategy=&#x27;constant&#x27;),\n",
       "                                                  [&#x27;Credit_History&#x27;])])),\n",
       "                (&#x27;to_dataframe&#x27;,\n",
       "                 &lt;__main__.DataframeFunctionTransformer object at 0x17f4fc850&gt;)])</pre></div></div></div><div class=\"sk-serial\"><div class=\"sk-item\"><div class=\"sk-estimator sk-toggleable\"><input class=\"sk-toggleable__control sk-hidden--visually\" id=\"sk-estimator-id-360\" type=\"checkbox\" ><label for=\"sk-estimator-id-360\" class=\"sk-toggleable__label sk-toggleable__label-arrow\">DataframeFunctionTransformer</label><div class=\"sk-toggleable__content\"><pre>&lt;__main__.DataframeFunctionTransformer object at 0x17f4fce80&gt;</pre></div></div></div><div class=\"sk-item\"><div class=\"sk-estimator sk-toggleable\"><input class=\"sk-toggleable__control sk-hidden--visually\" id=\"sk-estimator-id-361\" type=\"checkbox\" ><label for=\"sk-estimator-id-361\" class=\"sk-toggleable__label sk-toggleable__label-arrow\">DataframeFunctionTransformer</label><div class=\"sk-toggleable__content\"><pre>&lt;__main__.DataframeFunctionTransformer object at 0x17f4fc8b0&gt;</pre></div></div></div><div class=\"sk-item sk-dashed-wrapped\"><div class=\"sk-label-container\"><div class=\"sk-label sk-toggleable\"><input class=\"sk-toggleable__control sk-hidden--visually\" id=\"sk-estimator-id-362\" type=\"checkbox\" ><label for=\"sk-estimator-id-362\" class=\"sk-toggleable__label sk-toggleable__label-arrow\">fillna_trans: ColumnTransformer</label><div class=\"sk-toggleable__content\"><pre>ColumnTransformer(remainder=&#x27;passthrough&#x27;,\n",
       "                  transformers=[(&#x27;fillna_mode&#x27;,\n",
       "                                 SimpleImputer(strategy=&#x27;most_frequent&#x27;),\n",
       "                                 [&#x27;Gender&#x27;, &#x27;Dependents&#x27;]),\n",
       "                                (&#x27;fillna_no&#x27;,\n",
       "                                 SimpleImputer(fill_value=&#x27;No&#x27;,\n",
       "                                               strategy=&#x27;constant&#x27;),\n",
       "                                 [&#x27;Married&#x27;, &#x27;Self_Employed&#x27;]),\n",
       "                                (&#x27;fillna_mean&#x27;, SimpleImputer(),\n",
       "                                 [&#x27;LoanAmount&#x27;, &#x27;Loan_Amount_Term&#x27;]),\n",
       "                                (&#x27;fillna_zero&#x27;,\n",
       "                                 SimpleImputer(fill_value=0,\n",
       "                                               strategy=&#x27;constant&#x27;),\n",
       "                                 [&#x27;Credit_History&#x27;])])</pre></div></div></div><div class=\"sk-parallel\"><div class=\"sk-parallel-item\"><div class=\"sk-item\"><div class=\"sk-label-container\"><div class=\"sk-label sk-toggleable\"><input class=\"sk-toggleable__control sk-hidden--visually\" id=\"sk-estimator-id-363\" type=\"checkbox\" ><label for=\"sk-estimator-id-363\" class=\"sk-toggleable__label sk-toggleable__label-arrow\">fillna_mode</label><div class=\"sk-toggleable__content\"><pre>[&#x27;Gender&#x27;, &#x27;Dependents&#x27;]</pre></div></div></div><div class=\"sk-serial\"><div class=\"sk-item\"><div class=\"sk-estimator sk-toggleable\"><input class=\"sk-toggleable__control sk-hidden--visually\" id=\"sk-estimator-id-364\" type=\"checkbox\" ><label for=\"sk-estimator-id-364\" class=\"sk-toggleable__label sk-toggleable__label-arrow\">SimpleImputer</label><div class=\"sk-toggleable__content\"><pre>SimpleImputer(strategy=&#x27;most_frequent&#x27;)</pre></div></div></div></div></div></div><div class=\"sk-parallel-item\"><div class=\"sk-item\"><div class=\"sk-label-container\"><div class=\"sk-label sk-toggleable\"><input class=\"sk-toggleable__control sk-hidden--visually\" id=\"sk-estimator-id-365\" type=\"checkbox\" ><label for=\"sk-estimator-id-365\" class=\"sk-toggleable__label sk-toggleable__label-arrow\">fillna_no</label><div class=\"sk-toggleable__content\"><pre>[&#x27;Married&#x27;, &#x27;Self_Employed&#x27;]</pre></div></div></div><div class=\"sk-serial\"><div class=\"sk-item\"><div class=\"sk-estimator sk-toggleable\"><input class=\"sk-toggleable__control sk-hidden--visually\" id=\"sk-estimator-id-366\" type=\"checkbox\" ><label for=\"sk-estimator-id-366\" class=\"sk-toggleable__label sk-toggleable__label-arrow\">SimpleImputer</label><div class=\"sk-toggleable__content\"><pre>SimpleImputer(fill_value=&#x27;No&#x27;, strategy=&#x27;constant&#x27;)</pre></div></div></div></div></div></div><div class=\"sk-parallel-item\"><div class=\"sk-item\"><div class=\"sk-label-container\"><div class=\"sk-label sk-toggleable\"><input class=\"sk-toggleable__control sk-hidden--visually\" id=\"sk-estimator-id-367\" type=\"checkbox\" ><label for=\"sk-estimator-id-367\" class=\"sk-toggleable__label sk-toggleable__label-arrow\">fillna_mean</label><div class=\"sk-toggleable__content\"><pre>[&#x27;LoanAmount&#x27;, &#x27;Loan_Amount_Term&#x27;]</pre></div></div></div><div class=\"sk-serial\"><div class=\"sk-item\"><div class=\"sk-estimator sk-toggleable\"><input class=\"sk-toggleable__control sk-hidden--visually\" id=\"sk-estimator-id-368\" type=\"checkbox\" ><label for=\"sk-estimator-id-368\" class=\"sk-toggleable__label sk-toggleable__label-arrow\">SimpleImputer</label><div class=\"sk-toggleable__content\"><pre>SimpleImputer()</pre></div></div></div></div></div></div><div class=\"sk-parallel-item\"><div class=\"sk-item\"><div class=\"sk-label-container\"><div class=\"sk-label sk-toggleable\"><input class=\"sk-toggleable__control sk-hidden--visually\" id=\"sk-estimator-id-369\" type=\"checkbox\" ><label for=\"sk-estimator-id-369\" class=\"sk-toggleable__label sk-toggleable__label-arrow\">fillna_zero</label><div class=\"sk-toggleable__content\"><pre>[&#x27;Credit_History&#x27;]</pre></div></div></div><div class=\"sk-serial\"><div class=\"sk-item\"><div class=\"sk-estimator sk-toggleable\"><input class=\"sk-toggleable__control sk-hidden--visually\" id=\"sk-estimator-id-370\" type=\"checkbox\" ><label for=\"sk-estimator-id-370\" class=\"sk-toggleable__label sk-toggleable__label-arrow\">SimpleImputer</label><div class=\"sk-toggleable__content\"><pre>SimpleImputer(fill_value=0, strategy=&#x27;constant&#x27;)</pre></div></div></div></div></div></div><div class=\"sk-parallel-item\"><div class=\"sk-item\"><div class=\"sk-label-container\"><div class=\"sk-label sk-toggleable\"><input class=\"sk-toggleable__control sk-hidden--visually\" id=\"sk-estimator-id-371\" type=\"checkbox\" ><label for=\"sk-estimator-id-371\" class=\"sk-toggleable__label sk-toggleable__label-arrow\">remainder</label><div class=\"sk-toggleable__content\"><pre>[&#x27;Education&#x27;, &#x27;ApplicantIncome&#x27;, &#x27;CoapplicantIncome&#x27;, &#x27;Property_Area&#x27;, &#x27;TotalIncome&#x27;]</pre></div></div></div><div class=\"sk-serial\"><div class=\"sk-item\"><div class=\"sk-estimator sk-toggleable\"><input class=\"sk-toggleable__control sk-hidden--visually\" id=\"sk-estimator-id-372\" type=\"checkbox\" ><label for=\"sk-estimator-id-372\" class=\"sk-toggleable__label sk-toggleable__label-arrow\">passthrough</label><div class=\"sk-toggleable__content\"><pre>passthrough</pre></div></div></div></div></div></div></div></div><div class=\"sk-item\"><div class=\"sk-estimator sk-toggleable\"><input class=\"sk-toggleable__control sk-hidden--visually\" id=\"sk-estimator-id-373\" type=\"checkbox\" ><label for=\"sk-estimator-id-373\" class=\"sk-toggleable__label sk-toggleable__label-arrow\">DataframeFunctionTransformer</label><div class=\"sk-toggleable__content\"><pre>&lt;__main__.DataframeFunctionTransformer object at 0x17f4fc850&gt;</pre></div></div></div></div></div><div class=\"sk-item sk-dashed-wrapped\"><div class=\"sk-label-container\"><div class=\"sk-label sk-toggleable\"><input class=\"sk-toggleable__control sk-hidden--visually\" id=\"sk-estimator-id-374\" type=\"checkbox\" ><label for=\"sk-estimator-id-374\" class=\"sk-toggleable__label sk-toggleable__label-arrow\">preprocessing: ColumnTransformer</label><div class=\"sk-toggleable__content\"><pre>ColumnTransformer(transformers=[(&#x27;categorical_preprocessing&#x27;,\n",
       "                                 Pipeline(steps=[(&#x27;ohe&#x27;, OneHotEncoder())]),\n",
       "                                 [&#x27;Gender&#x27;, &#x27;Dependents&#x27;, &#x27;Married&#x27;,\n",
       "                                  &#x27;Self_Employed&#x27;, &#x27;Education&#x27;,\n",
       "                                  &#x27;Property_Area&#x27;]),\n",
       "                                (&#x27;numerical_preprocessing&#x27;,\n",
       "                                 Pipeline(steps=[(&#x27;scaler&#x27;, StandardScaler())]),\n",
       "                                 [&#x27;LoanAmount&#x27;, &#x27;Credit_History&#x27;,\n",
       "                                  &#x27;Loan_Amount_Term&#x27;, &#x27;TotalIncome&#x27;])])</pre></div></div></div><div class=\"sk-parallel\"><div class=\"sk-parallel-item\"><div class=\"sk-item\"><div class=\"sk-label-container\"><div class=\"sk-label sk-toggleable\"><input class=\"sk-toggleable__control sk-hidden--visually\" id=\"sk-estimator-id-375\" type=\"checkbox\" ><label for=\"sk-estimator-id-375\" class=\"sk-toggleable__label sk-toggleable__label-arrow\">categorical_preprocessing</label><div class=\"sk-toggleable__content\"><pre>[&#x27;Gender&#x27;, &#x27;Dependents&#x27;, &#x27;Married&#x27;, &#x27;Self_Employed&#x27;, &#x27;Education&#x27;, &#x27;Property_Area&#x27;]</pre></div></div></div><div class=\"sk-serial\"><div class=\"sk-item\"><div class=\"sk-serial\"><div class=\"sk-item\"><div class=\"sk-estimator sk-toggleable\"><input class=\"sk-toggleable__control sk-hidden--visually\" id=\"sk-estimator-id-376\" type=\"checkbox\" ><label for=\"sk-estimator-id-376\" class=\"sk-toggleable__label sk-toggleable__label-arrow\">OneHotEncoder</label><div class=\"sk-toggleable__content\"><pre>OneHotEncoder()</pre></div></div></div></div></div></div></div></div><div class=\"sk-parallel-item\"><div class=\"sk-item\"><div class=\"sk-label-container\"><div class=\"sk-label sk-toggleable\"><input class=\"sk-toggleable__control sk-hidden--visually\" id=\"sk-estimator-id-377\" type=\"checkbox\" ><label for=\"sk-estimator-id-377\" class=\"sk-toggleable__label sk-toggleable__label-arrow\">numerical_preprocessing</label><div class=\"sk-toggleable__content\"><pre>[&#x27;LoanAmount&#x27;, &#x27;Credit_History&#x27;, &#x27;Loan_Amount_Term&#x27;, &#x27;TotalIncome&#x27;]</pre></div></div></div><div class=\"sk-serial\"><div class=\"sk-item\"><div class=\"sk-serial\"><div class=\"sk-item\"><div class=\"sk-estimator sk-toggleable\"><input class=\"sk-toggleable__control sk-hidden--visually\" id=\"sk-estimator-id-378\" type=\"checkbox\" ><label for=\"sk-estimator-id-378\" class=\"sk-toggleable__label sk-toggleable__label-arrow\">StandardScaler</label><div class=\"sk-toggleable__content\"><pre>StandardScaler()</pre></div></div></div></div></div></div></div></div></div></div><div class=\"sk-item\"><div class=\"sk-estimator sk-toggleable\"><input class=\"sk-toggleable__control sk-hidden--visually\" id=\"sk-estimator-id-379\" type=\"checkbox\" ><label for=\"sk-estimator-id-379\" class=\"sk-toggleable__label sk-toggleable__label-arrow\">LogisticRegression</label><div class=\"sk-toggleable__content\"><pre>LogisticRegression()</pre></div></div></div></div></div></div></div>"
      ],
      "text/plain": [
       "Pipeline(steps=[('log_transformer',\n",
       "                 Pipeline(steps=[('total_income',\n",
       "                                  <__main__.DataframeFunctionTransformer object at 0x17f4fce80>),\n",
       "                                 ('log_transformer',\n",
       "                                  <__main__.DataframeFunctionTransformer object at 0x17f4fc8b0>),\n",
       "                                 ('fillna_trans',\n",
       "                                  ColumnTransformer(remainder='passthrough',\n",
       "                                                    transformers=[('fillna_mode',\n",
       "                                                                   SimpleImputer(strategy='most_frequent'),\n",
       "                                                                   ['Gender',\n",
       "                                                                    'Depend...\n",
       "                 ColumnTransformer(transformers=[('categorical_preprocessing',\n",
       "                                                  Pipeline(steps=[('ohe',\n",
       "                                                                   OneHotEncoder())]),\n",
       "                                                  ['Gender', 'Dependents',\n",
       "                                                   'Married', 'Self_Employed',\n",
       "                                                   'Education',\n",
       "                                                   'Property_Area']),\n",
       "                                                 ('numerical_preprocessing',\n",
       "                                                  Pipeline(steps=[('scaler',\n",
       "                                                                   StandardScaler())]),\n",
       "                                                  ['LoanAmount',\n",
       "                                                   'Credit_History',\n",
       "                                                   'Loan_Amount_Term',\n",
       "                                                   'TotalIncome'])])),\n",
       "                ('clf', LogisticRegression())])"
      ]
     },
     "execution_count": 649,
     "metadata": {},
     "output_type": "execute_result"
    }
   ],
   "source": [
    "from sklearn.preprocessing import MinMaxScaler\n",
    "from sklearn.linear_model import LogisticRegression, LinearRegression\n",
    "from sklearn.svm import SVC\n",
    "\n",
    "pipeline = Pipeline([\n",
    "    ('log_transformer', preprocessing_1),\n",
    "    ('preprocessing', preprocessing_2),\n",
    "    ('clf', LogisticRegression())\n",
    "])\n",
    "\n",
    "pipeline.fit(X_train, y_train)"
   ]
  },
  {
   "cell_type": "code",
   "execution_count": 650,
   "metadata": {},
   "outputs": [
    {
     "data": {
      "text/plain": [
       "0.8054054054054054"
      ]
     },
     "execution_count": 650,
     "metadata": {},
     "output_type": "execute_result"
    }
   ],
   "source": [
    "pipeline.score(X_test, y_test)"
   ]
  },
  {
   "cell_type": "code",
   "execution_count": 654,
   "metadata": {},
   "outputs": [
    {
     "data": {
      "text/html": [
       "<style>#sk-container-id-24 {color: black;background-color: white;}#sk-container-id-24 pre{padding: 0;}#sk-container-id-24 div.sk-toggleable {background-color: white;}#sk-container-id-24 label.sk-toggleable__label {cursor: pointer;display: block;width: 100%;margin-bottom: 0;padding: 0.3em;box-sizing: border-box;text-align: center;}#sk-container-id-24 label.sk-toggleable__label-arrow:before {content: \"▸\";float: left;margin-right: 0.25em;color: #696969;}#sk-container-id-24 label.sk-toggleable__label-arrow:hover:before {color: black;}#sk-container-id-24 div.sk-estimator:hover label.sk-toggleable__label-arrow:before {color: black;}#sk-container-id-24 div.sk-toggleable__content {max-height: 0;max-width: 0;overflow: hidden;text-align: left;background-color: #f0f8ff;}#sk-container-id-24 div.sk-toggleable__content pre {margin: 0.2em;color: black;border-radius: 0.25em;background-color: #f0f8ff;}#sk-container-id-24 input.sk-toggleable__control:checked~div.sk-toggleable__content {max-height: 200px;max-width: 100%;overflow: auto;}#sk-container-id-24 input.sk-toggleable__control:checked~label.sk-toggleable__label-arrow:before {content: \"▾\";}#sk-container-id-24 div.sk-estimator input.sk-toggleable__control:checked~label.sk-toggleable__label {background-color: #d4ebff;}#sk-container-id-24 div.sk-label input.sk-toggleable__control:checked~label.sk-toggleable__label {background-color: #d4ebff;}#sk-container-id-24 input.sk-hidden--visually {border: 0;clip: rect(1px 1px 1px 1px);clip: rect(1px, 1px, 1px, 1px);height: 1px;margin: -1px;overflow: hidden;padding: 0;position: absolute;width: 1px;}#sk-container-id-24 div.sk-estimator {font-family: monospace;background-color: #f0f8ff;border: 1px dotted black;border-radius: 0.25em;box-sizing: border-box;margin-bottom: 0.5em;}#sk-container-id-24 div.sk-estimator:hover {background-color: #d4ebff;}#sk-container-id-24 div.sk-parallel-item::after {content: \"\";width: 100%;border-bottom: 1px solid gray;flex-grow: 1;}#sk-container-id-24 div.sk-label:hover label.sk-toggleable__label {background-color: #d4ebff;}#sk-container-id-24 div.sk-serial::before {content: \"\";position: absolute;border-left: 1px solid gray;box-sizing: border-box;top: 0;bottom: 0;left: 50%;z-index: 0;}#sk-container-id-24 div.sk-serial {display: flex;flex-direction: column;align-items: center;background-color: white;padding-right: 0.2em;padding-left: 0.2em;position: relative;}#sk-container-id-24 div.sk-item {position: relative;z-index: 1;}#sk-container-id-24 div.sk-parallel {display: flex;align-items: stretch;justify-content: center;background-color: white;position: relative;}#sk-container-id-24 div.sk-item::before, #sk-container-id-24 div.sk-parallel-item::before {content: \"\";position: absolute;border-left: 1px solid gray;box-sizing: border-box;top: 0;bottom: 0;left: 50%;z-index: -1;}#sk-container-id-24 div.sk-parallel-item {display: flex;flex-direction: column;z-index: 1;position: relative;background-color: white;}#sk-container-id-24 div.sk-parallel-item:first-child::after {align-self: flex-end;width: 50%;}#sk-container-id-24 div.sk-parallel-item:last-child::after {align-self: flex-start;width: 50%;}#sk-container-id-24 div.sk-parallel-item:only-child::after {width: 0;}#sk-container-id-24 div.sk-dashed-wrapped {border: 1px dashed gray;margin: 0 0.4em 0.5em 0.4em;box-sizing: border-box;padding-bottom: 0.4em;background-color: white;}#sk-container-id-24 div.sk-label label {font-family: monospace;font-weight: bold;display: inline-block;line-height: 1.2em;}#sk-container-id-24 div.sk-label-container {text-align: center;}#sk-container-id-24 div.sk-container {/* jupyter's `normalize.less` sets `[hidden] { display: none; }` but bootstrap.min.css set `[hidden] { display: none !important; }` so we also need the `!important` here to be able to override the default hidden behavior on the sphinx rendered scikit-learn.org. See: https://github.com/scikit-learn/scikit-learn/issues/21755 */display: inline-block !important;position: relative;}#sk-container-id-24 div.sk-text-repr-fallback {display: none;}</style><div id=\"sk-container-id-24\" class=\"sk-top-container\"><div class=\"sk-text-repr-fallback\"><pre>GridSearchCV(estimator=Pipeline(steps=[(&#x27;log_transformer&#x27;,\n",
       "                                        Pipeline(steps=[(&#x27;total_income&#x27;,\n",
       "                                                         &lt;__main__.DataframeFunctionTransformer object at 0x17f4fce80&gt;),\n",
       "                                                        (&#x27;log_transformer&#x27;,\n",
       "                                                         &lt;__main__.DataframeFunctionTransformer object at 0x17f4fc8b0&gt;),\n",
       "                                                        (&#x27;fillna_trans&#x27;,\n",
       "                                                         ColumnTransformer(remainder=&#x27;passthrough&#x27;,\n",
       "                                                                           transformers=[(&#x27;fillna_mode&#x27;,\n",
       "                                                                                          SimpleImputer(strategy=&#x27;most_frequ...\n",
       "                                                                         Pipeline(steps=[(&#x27;ohe&#x27;,\n",
       "                                                                                          OneHotEncoder())]),\n",
       "                                                                         [&#x27;Gender&#x27;,\n",
       "                                                                          &#x27;Dependents&#x27;,\n",
       "                                                                          &#x27;Married&#x27;,\n",
       "                                                                          &#x27;Self_Employed&#x27;,\n",
       "                                                                          &#x27;Education&#x27;,\n",
       "                                                                          &#x27;Property_Area&#x27;]),\n",
       "                                                                        (&#x27;numerical_preprocessing&#x27;,\n",
       "                                                                         Pipeline(steps=[(&#x27;scaler&#x27;,\n",
       "                                                                                          StandardScaler())]),\n",
       "                                                                         [&#x27;LoanAmount&#x27;,\n",
       "                                                                          &#x27;Credit_History&#x27;,\n",
       "                                                                          &#x27;Loan_Amount_Term&#x27;,\n",
       "                                                                          &#x27;TotalIncome&#x27;])])),\n",
       "                                       (&#x27;clf&#x27;, LogisticRegression())]),\n",
       "             param_grid={&#x27;clf&#x27;: [RidgeClassifier(alpha=0.1),\n",
       "                                 RidgeClassifier(alpha=0.01)]})</pre><b>In a Jupyter environment, please rerun this cell to show the HTML representation or trust the notebook. <br />On GitHub, the HTML representation is unable to render, please try loading this page with nbviewer.org.</b></div><div class=\"sk-container\" hidden><div class=\"sk-item sk-dashed-wrapped\"><div class=\"sk-label-container\"><div class=\"sk-label sk-toggleable\"><input class=\"sk-toggleable__control sk-hidden--visually\" id=\"sk-estimator-id-403\" type=\"checkbox\" ><label for=\"sk-estimator-id-403\" class=\"sk-toggleable__label sk-toggleable__label-arrow\">GridSearchCV</label><div class=\"sk-toggleable__content\"><pre>GridSearchCV(estimator=Pipeline(steps=[(&#x27;log_transformer&#x27;,\n",
       "                                        Pipeline(steps=[(&#x27;total_income&#x27;,\n",
       "                                                         &lt;__main__.DataframeFunctionTransformer object at 0x17f4fce80&gt;),\n",
       "                                                        (&#x27;log_transformer&#x27;,\n",
       "                                                         &lt;__main__.DataframeFunctionTransformer object at 0x17f4fc8b0&gt;),\n",
       "                                                        (&#x27;fillna_trans&#x27;,\n",
       "                                                         ColumnTransformer(remainder=&#x27;passthrough&#x27;,\n",
       "                                                                           transformers=[(&#x27;fillna_mode&#x27;,\n",
       "                                                                                          SimpleImputer(strategy=&#x27;most_frequ...\n",
       "                                                                         Pipeline(steps=[(&#x27;ohe&#x27;,\n",
       "                                                                                          OneHotEncoder())]),\n",
       "                                                                         [&#x27;Gender&#x27;,\n",
       "                                                                          &#x27;Dependents&#x27;,\n",
       "                                                                          &#x27;Married&#x27;,\n",
       "                                                                          &#x27;Self_Employed&#x27;,\n",
       "                                                                          &#x27;Education&#x27;,\n",
       "                                                                          &#x27;Property_Area&#x27;]),\n",
       "                                                                        (&#x27;numerical_preprocessing&#x27;,\n",
       "                                                                         Pipeline(steps=[(&#x27;scaler&#x27;,\n",
       "                                                                                          StandardScaler())]),\n",
       "                                                                         [&#x27;LoanAmount&#x27;,\n",
       "                                                                          &#x27;Credit_History&#x27;,\n",
       "                                                                          &#x27;Loan_Amount_Term&#x27;,\n",
       "                                                                          &#x27;TotalIncome&#x27;])])),\n",
       "                                       (&#x27;clf&#x27;, LogisticRegression())]),\n",
       "             param_grid={&#x27;clf&#x27;: [RidgeClassifier(alpha=0.1),\n",
       "                                 RidgeClassifier(alpha=0.01)]})</pre></div></div></div><div class=\"sk-parallel\"><div class=\"sk-parallel-item\"><div class=\"sk-item\"><div class=\"sk-label-container\"><div class=\"sk-label sk-toggleable\"><input class=\"sk-toggleable__control sk-hidden--visually\" id=\"sk-estimator-id-404\" type=\"checkbox\" ><label for=\"sk-estimator-id-404\" class=\"sk-toggleable__label sk-toggleable__label-arrow\">estimator: Pipeline</label><div class=\"sk-toggleable__content\"><pre>Pipeline(steps=[(&#x27;log_transformer&#x27;,\n",
       "                 Pipeline(steps=[(&#x27;total_income&#x27;,\n",
       "                                  &lt;__main__.DataframeFunctionTransformer object at 0x17f4fce80&gt;),\n",
       "                                 (&#x27;log_transformer&#x27;,\n",
       "                                  &lt;__main__.DataframeFunctionTransformer object at 0x17f4fc8b0&gt;),\n",
       "                                 (&#x27;fillna_trans&#x27;,\n",
       "                                  ColumnTransformer(remainder=&#x27;passthrough&#x27;,\n",
       "                                                    transformers=[(&#x27;fillna_mode&#x27;,\n",
       "                                                                   SimpleImputer(strategy=&#x27;most_frequent&#x27;),\n",
       "                                                                   [&#x27;Gender&#x27;,\n",
       "                                                                    &#x27;Depend...\n",
       "                 ColumnTransformer(transformers=[(&#x27;categorical_preprocessing&#x27;,\n",
       "                                                  Pipeline(steps=[(&#x27;ohe&#x27;,\n",
       "                                                                   OneHotEncoder())]),\n",
       "                                                  [&#x27;Gender&#x27;, &#x27;Dependents&#x27;,\n",
       "                                                   &#x27;Married&#x27;, &#x27;Self_Employed&#x27;,\n",
       "                                                   &#x27;Education&#x27;,\n",
       "                                                   &#x27;Property_Area&#x27;]),\n",
       "                                                 (&#x27;numerical_preprocessing&#x27;,\n",
       "                                                  Pipeline(steps=[(&#x27;scaler&#x27;,\n",
       "                                                                   StandardScaler())]),\n",
       "                                                  [&#x27;LoanAmount&#x27;,\n",
       "                                                   &#x27;Credit_History&#x27;,\n",
       "                                                   &#x27;Loan_Amount_Term&#x27;,\n",
       "                                                   &#x27;TotalIncome&#x27;])])),\n",
       "                (&#x27;clf&#x27;, LogisticRegression())])</pre></div></div></div><div class=\"sk-serial\"><div class=\"sk-item\"><div class=\"sk-serial\"><div class=\"sk-item\"><div class=\"sk-label-container\"><div class=\"sk-label sk-toggleable\"><input class=\"sk-toggleable__control sk-hidden--visually\" id=\"sk-estimator-id-405\" type=\"checkbox\" ><label for=\"sk-estimator-id-405\" class=\"sk-toggleable__label sk-toggleable__label-arrow\">log_transformer: Pipeline</label><div class=\"sk-toggleable__content\"><pre>Pipeline(steps=[(&#x27;total_income&#x27;,\n",
       "                 &lt;__main__.DataframeFunctionTransformer object at 0x17f4fce80&gt;),\n",
       "                (&#x27;log_transformer&#x27;,\n",
       "                 &lt;__main__.DataframeFunctionTransformer object at 0x17f4fc8b0&gt;),\n",
       "                (&#x27;fillna_trans&#x27;,\n",
       "                 ColumnTransformer(remainder=&#x27;passthrough&#x27;,\n",
       "                                   transformers=[(&#x27;fillna_mode&#x27;,\n",
       "                                                  SimpleImputer(strategy=&#x27;most_frequent&#x27;),\n",
       "                                                  [&#x27;Gender&#x27;, &#x27;Dependents&#x27;]),\n",
       "                                                 (&#x27;fillna_no&#x27;,\n",
       "                                                  SimpleImputer(fill_value=&#x27;No&#x27;,\n",
       "                                                                strategy=&#x27;constant&#x27;),\n",
       "                                                  [&#x27;Married&#x27;, &#x27;Self_Employed&#x27;]),\n",
       "                                                 (&#x27;fillna_mean&#x27;,\n",
       "                                                  SimpleImputer(),\n",
       "                                                  [&#x27;LoanAmount&#x27;,\n",
       "                                                   &#x27;Loan_Amount_Term&#x27;]),\n",
       "                                                 (&#x27;fillna_zero&#x27;,\n",
       "                                                  SimpleImputer(fill_value=0,\n",
       "                                                                strategy=&#x27;constant&#x27;),\n",
       "                                                  [&#x27;Credit_History&#x27;])])),\n",
       "                (&#x27;to_dataframe&#x27;,\n",
       "                 &lt;__main__.DataframeFunctionTransformer object at 0x17f4fc850&gt;)])</pre></div></div></div><div class=\"sk-serial\"><div class=\"sk-item\"><div class=\"sk-estimator sk-toggleable\"><input class=\"sk-toggleable__control sk-hidden--visually\" id=\"sk-estimator-id-406\" type=\"checkbox\" ><label for=\"sk-estimator-id-406\" class=\"sk-toggleable__label sk-toggleable__label-arrow\">DataframeFunctionTransformer</label><div class=\"sk-toggleable__content\"><pre>&lt;__main__.DataframeFunctionTransformer object at 0x17f4fce80&gt;</pre></div></div></div><div class=\"sk-item\"><div class=\"sk-estimator sk-toggleable\"><input class=\"sk-toggleable__control sk-hidden--visually\" id=\"sk-estimator-id-407\" type=\"checkbox\" ><label for=\"sk-estimator-id-407\" class=\"sk-toggleable__label sk-toggleable__label-arrow\">DataframeFunctionTransformer</label><div class=\"sk-toggleable__content\"><pre>&lt;__main__.DataframeFunctionTransformer object at 0x17f4fc8b0&gt;</pre></div></div></div><div class=\"sk-item sk-dashed-wrapped\"><div class=\"sk-label-container\"><div class=\"sk-label sk-toggleable\"><input class=\"sk-toggleable__control sk-hidden--visually\" id=\"sk-estimator-id-408\" type=\"checkbox\" ><label for=\"sk-estimator-id-408\" class=\"sk-toggleable__label sk-toggleable__label-arrow\">fillna_trans: ColumnTransformer</label><div class=\"sk-toggleable__content\"><pre>ColumnTransformer(remainder=&#x27;passthrough&#x27;,\n",
       "                  transformers=[(&#x27;fillna_mode&#x27;,\n",
       "                                 SimpleImputer(strategy=&#x27;most_frequent&#x27;),\n",
       "                                 [&#x27;Gender&#x27;, &#x27;Dependents&#x27;]),\n",
       "                                (&#x27;fillna_no&#x27;,\n",
       "                                 SimpleImputer(fill_value=&#x27;No&#x27;,\n",
       "                                               strategy=&#x27;constant&#x27;),\n",
       "                                 [&#x27;Married&#x27;, &#x27;Self_Employed&#x27;]),\n",
       "                                (&#x27;fillna_mean&#x27;, SimpleImputer(),\n",
       "                                 [&#x27;LoanAmount&#x27;, &#x27;Loan_Amount_Term&#x27;]),\n",
       "                                (&#x27;fillna_zero&#x27;,\n",
       "                                 SimpleImputer(fill_value=0,\n",
       "                                               strategy=&#x27;constant&#x27;),\n",
       "                                 [&#x27;Credit_History&#x27;])])</pre></div></div></div><div class=\"sk-parallel\"><div class=\"sk-parallel-item\"><div class=\"sk-item\"><div class=\"sk-label-container\"><div class=\"sk-label sk-toggleable\"><input class=\"sk-toggleable__control sk-hidden--visually\" id=\"sk-estimator-id-409\" type=\"checkbox\" ><label for=\"sk-estimator-id-409\" class=\"sk-toggleable__label sk-toggleable__label-arrow\">fillna_mode</label><div class=\"sk-toggleable__content\"><pre>[&#x27;Gender&#x27;, &#x27;Dependents&#x27;]</pre></div></div></div><div class=\"sk-serial\"><div class=\"sk-item\"><div class=\"sk-estimator sk-toggleable\"><input class=\"sk-toggleable__control sk-hidden--visually\" id=\"sk-estimator-id-410\" type=\"checkbox\" ><label for=\"sk-estimator-id-410\" class=\"sk-toggleable__label sk-toggleable__label-arrow\">SimpleImputer</label><div class=\"sk-toggleable__content\"><pre>SimpleImputer(strategy=&#x27;most_frequent&#x27;)</pre></div></div></div></div></div></div><div class=\"sk-parallel-item\"><div class=\"sk-item\"><div class=\"sk-label-container\"><div class=\"sk-label sk-toggleable\"><input class=\"sk-toggleable__control sk-hidden--visually\" id=\"sk-estimator-id-411\" type=\"checkbox\" ><label for=\"sk-estimator-id-411\" class=\"sk-toggleable__label sk-toggleable__label-arrow\">fillna_no</label><div class=\"sk-toggleable__content\"><pre>[&#x27;Married&#x27;, &#x27;Self_Employed&#x27;]</pre></div></div></div><div class=\"sk-serial\"><div class=\"sk-item\"><div class=\"sk-estimator sk-toggleable\"><input class=\"sk-toggleable__control sk-hidden--visually\" id=\"sk-estimator-id-412\" type=\"checkbox\" ><label for=\"sk-estimator-id-412\" class=\"sk-toggleable__label sk-toggleable__label-arrow\">SimpleImputer</label><div class=\"sk-toggleable__content\"><pre>SimpleImputer(fill_value=&#x27;No&#x27;, strategy=&#x27;constant&#x27;)</pre></div></div></div></div></div></div><div class=\"sk-parallel-item\"><div class=\"sk-item\"><div class=\"sk-label-container\"><div class=\"sk-label sk-toggleable\"><input class=\"sk-toggleable__control sk-hidden--visually\" id=\"sk-estimator-id-413\" type=\"checkbox\" ><label for=\"sk-estimator-id-413\" class=\"sk-toggleable__label sk-toggleable__label-arrow\">fillna_mean</label><div class=\"sk-toggleable__content\"><pre>[&#x27;LoanAmount&#x27;, &#x27;Loan_Amount_Term&#x27;]</pre></div></div></div><div class=\"sk-serial\"><div class=\"sk-item\"><div class=\"sk-estimator sk-toggleable\"><input class=\"sk-toggleable__control sk-hidden--visually\" id=\"sk-estimator-id-414\" type=\"checkbox\" ><label for=\"sk-estimator-id-414\" class=\"sk-toggleable__label sk-toggleable__label-arrow\">SimpleImputer</label><div class=\"sk-toggleable__content\"><pre>SimpleImputer()</pre></div></div></div></div></div></div><div class=\"sk-parallel-item\"><div class=\"sk-item\"><div class=\"sk-label-container\"><div class=\"sk-label sk-toggleable\"><input class=\"sk-toggleable__control sk-hidden--visually\" id=\"sk-estimator-id-415\" type=\"checkbox\" ><label for=\"sk-estimator-id-415\" class=\"sk-toggleable__label sk-toggleable__label-arrow\">fillna_zero</label><div class=\"sk-toggleable__content\"><pre>[&#x27;Credit_History&#x27;]</pre></div></div></div><div class=\"sk-serial\"><div class=\"sk-item\"><div class=\"sk-estimator sk-toggleable\"><input class=\"sk-toggleable__control sk-hidden--visually\" id=\"sk-estimator-id-416\" type=\"checkbox\" ><label for=\"sk-estimator-id-416\" class=\"sk-toggleable__label sk-toggleable__label-arrow\">SimpleImputer</label><div class=\"sk-toggleable__content\"><pre>SimpleImputer(fill_value=0, strategy=&#x27;constant&#x27;)</pre></div></div></div></div></div></div><div class=\"sk-parallel-item\"><div class=\"sk-item\"><div class=\"sk-label-container\"><div class=\"sk-label sk-toggleable\"><input class=\"sk-toggleable__control sk-hidden--visually\" id=\"sk-estimator-id-417\" type=\"checkbox\" ><label for=\"sk-estimator-id-417\" class=\"sk-toggleable__label sk-toggleable__label-arrow\">remainder</label><div class=\"sk-toggleable__content\"><pre>[&#x27;Education&#x27;, &#x27;ApplicantIncome&#x27;, &#x27;CoapplicantIncome&#x27;, &#x27;Property_Area&#x27;, &#x27;TotalIncome&#x27;]</pre></div></div></div><div class=\"sk-serial\"><div class=\"sk-item\"><div class=\"sk-estimator sk-toggleable\"><input class=\"sk-toggleable__control sk-hidden--visually\" id=\"sk-estimator-id-418\" type=\"checkbox\" ><label for=\"sk-estimator-id-418\" class=\"sk-toggleable__label sk-toggleable__label-arrow\">passthrough</label><div class=\"sk-toggleable__content\"><pre>passthrough</pre></div></div></div></div></div></div></div></div><div class=\"sk-item\"><div class=\"sk-estimator sk-toggleable\"><input class=\"sk-toggleable__control sk-hidden--visually\" id=\"sk-estimator-id-419\" type=\"checkbox\" ><label for=\"sk-estimator-id-419\" class=\"sk-toggleable__label sk-toggleable__label-arrow\">DataframeFunctionTransformer</label><div class=\"sk-toggleable__content\"><pre>&lt;__main__.DataframeFunctionTransformer object at 0x17f4fc850&gt;</pre></div></div></div></div></div><div class=\"sk-item sk-dashed-wrapped\"><div class=\"sk-label-container\"><div class=\"sk-label sk-toggleable\"><input class=\"sk-toggleable__control sk-hidden--visually\" id=\"sk-estimator-id-420\" type=\"checkbox\" ><label for=\"sk-estimator-id-420\" class=\"sk-toggleable__label sk-toggleable__label-arrow\">preprocessing: ColumnTransformer</label><div class=\"sk-toggleable__content\"><pre>ColumnTransformer(transformers=[(&#x27;categorical_preprocessing&#x27;,\n",
       "                                 Pipeline(steps=[(&#x27;ohe&#x27;, OneHotEncoder())]),\n",
       "                                 [&#x27;Gender&#x27;, &#x27;Dependents&#x27;, &#x27;Married&#x27;,\n",
       "                                  &#x27;Self_Employed&#x27;, &#x27;Education&#x27;,\n",
       "                                  &#x27;Property_Area&#x27;]),\n",
       "                                (&#x27;numerical_preprocessing&#x27;,\n",
       "                                 Pipeline(steps=[(&#x27;scaler&#x27;, StandardScaler())]),\n",
       "                                 [&#x27;LoanAmount&#x27;, &#x27;Credit_History&#x27;,\n",
       "                                  &#x27;Loan_Amount_Term&#x27;, &#x27;TotalIncome&#x27;])])</pre></div></div></div><div class=\"sk-parallel\"><div class=\"sk-parallel-item\"><div class=\"sk-item\"><div class=\"sk-label-container\"><div class=\"sk-label sk-toggleable\"><input class=\"sk-toggleable__control sk-hidden--visually\" id=\"sk-estimator-id-421\" type=\"checkbox\" ><label for=\"sk-estimator-id-421\" class=\"sk-toggleable__label sk-toggleable__label-arrow\">categorical_preprocessing</label><div class=\"sk-toggleable__content\"><pre>[&#x27;Gender&#x27;, &#x27;Dependents&#x27;, &#x27;Married&#x27;, &#x27;Self_Employed&#x27;, &#x27;Education&#x27;, &#x27;Property_Area&#x27;]</pre></div></div></div><div class=\"sk-serial\"><div class=\"sk-item\"><div class=\"sk-serial\"><div class=\"sk-item\"><div class=\"sk-estimator sk-toggleable\"><input class=\"sk-toggleable__control sk-hidden--visually\" id=\"sk-estimator-id-422\" type=\"checkbox\" ><label for=\"sk-estimator-id-422\" class=\"sk-toggleable__label sk-toggleable__label-arrow\">OneHotEncoder</label><div class=\"sk-toggleable__content\"><pre>OneHotEncoder()</pre></div></div></div></div></div></div></div></div><div class=\"sk-parallel-item\"><div class=\"sk-item\"><div class=\"sk-label-container\"><div class=\"sk-label sk-toggleable\"><input class=\"sk-toggleable__control sk-hidden--visually\" id=\"sk-estimator-id-423\" type=\"checkbox\" ><label for=\"sk-estimator-id-423\" class=\"sk-toggleable__label sk-toggleable__label-arrow\">numerical_preprocessing</label><div class=\"sk-toggleable__content\"><pre>[&#x27;LoanAmount&#x27;, &#x27;Credit_History&#x27;, &#x27;Loan_Amount_Term&#x27;, &#x27;TotalIncome&#x27;]</pre></div></div></div><div class=\"sk-serial\"><div class=\"sk-item\"><div class=\"sk-serial\"><div class=\"sk-item\"><div class=\"sk-estimator sk-toggleable\"><input class=\"sk-toggleable__control sk-hidden--visually\" id=\"sk-estimator-id-424\" type=\"checkbox\" ><label for=\"sk-estimator-id-424\" class=\"sk-toggleable__label sk-toggleable__label-arrow\">StandardScaler</label><div class=\"sk-toggleable__content\"><pre>StandardScaler()</pre></div></div></div></div></div></div></div></div></div></div><div class=\"sk-item\"><div class=\"sk-estimator sk-toggleable\"><input class=\"sk-toggleable__control sk-hidden--visually\" id=\"sk-estimator-id-425\" type=\"checkbox\" ><label for=\"sk-estimator-id-425\" class=\"sk-toggleable__label sk-toggleable__label-arrow\">LogisticRegression</label><div class=\"sk-toggleable__content\"><pre>LogisticRegression()</pre></div></div></div></div></div></div></div></div></div></div></div></div>"
      ],
      "text/plain": [
       "GridSearchCV(estimator=Pipeline(steps=[('log_transformer',\n",
       "                                        Pipeline(steps=[('total_income',\n",
       "                                                         <__main__.DataframeFunctionTransformer object at 0x17f4fce80>),\n",
       "                                                        ('log_transformer',\n",
       "                                                         <__main__.DataframeFunctionTransformer object at 0x17f4fc8b0>),\n",
       "                                                        ('fillna_trans',\n",
       "                                                         ColumnTransformer(remainder='passthrough',\n",
       "                                                                           transformers=[('fillna_mode',\n",
       "                                                                                          SimpleImputer(strategy='most_frequ...\n",
       "                                                                         Pipeline(steps=[('ohe',\n",
       "                                                                                          OneHotEncoder())]),\n",
       "                                                                         ['Gender',\n",
       "                                                                          'Dependents',\n",
       "                                                                          'Married',\n",
       "                                                                          'Self_Employed',\n",
       "                                                                          'Education',\n",
       "                                                                          'Property_Area']),\n",
       "                                                                        ('numerical_preprocessing',\n",
       "                                                                         Pipeline(steps=[('scaler',\n",
       "                                                                                          StandardScaler())]),\n",
       "                                                                         ['LoanAmount',\n",
       "                                                                          'Credit_History',\n",
       "                                                                          'Loan_Amount_Term',\n",
       "                                                                          'TotalIncome'])])),\n",
       "                                       ('clf', LogisticRegression())]),\n",
       "             param_grid={'clf': [RidgeClassifier(alpha=0.1),\n",
       "                                 RidgeClassifier(alpha=0.01)]})"
      ]
     },
     "execution_count": 654,
     "metadata": {},
     "output_type": "execute_result"
    }
   ],
   "source": [
    "param_grid = {'clf': [RidgeClassifier(alpha=0.1), RidgeClassifier(alpha=0.01)]}\n",
    "\n",
    "grid_search = GridSearchCV(pipeline, param_grid)    \n",
    "\n",
    "grid_search.fit(X_train, y_train)"
   ]
  },
  {
   "cell_type": "code",
   "execution_count": 655,
   "metadata": {},
   "outputs": [
    {
     "name": "stdout",
     "output_type": "stream",
     "text": [
      "Best test set accuracy: 0.8\n",
      "Achieved with hyperparameters: {'clf': RidgeClassifier(alpha=0.1)}\n"
     ]
    }
   ],
   "source": [
    "best_model = grid_search.best_estimator_\n",
    "best_hyperparams = grid_search.best_params_\n",
    "best_acc = grid_search.score(X_test, y_test)\n",
    "print(f'Best test set accuracy: {best_acc}\\nAchieved with hyperparameters: {best_hyperparams}')"
   ]
  },
  {
   "cell_type": "code",
   "execution_count": 657,
   "metadata": {},
   "outputs": [],
   "source": [
    "pickle.dump( grid_search, open( \"model.p\", \"wb\" ) )"
   ]
  },
  {
   "cell_type": "markdown",
   "metadata": {},
   "source": [
    "## 6. Deploy your model to cloud and test it with PostMan, BASH or Python"
   ]
  },
  {
   "cell_type": "code",
   "execution_count": 658,
   "metadata": {},
   "outputs": [
    {
     "ename": "TypeError",
     "evalue": "Object of type DataFrame is not JSON serializable",
     "output_type": "error",
     "traceback": [
      "\u001b[0;31m---------------------------------------------------------------------------\u001b[0m",
      "\u001b[0;31mTypeError\u001b[0m                                 Traceback (most recent call last)",
      "\u001b[1;32m/Users/karina/GitHub/mini-project-iv/notebooks/instructions.ipynb Cell 76'\u001b[0m in \u001b[0;36m<cell line: 4>\u001b[0;34m()\u001b[0m\n\u001b[1;32m      <a href='vscode-notebook-cell:/Users/karina/GitHub/mini-project-iv/notebooks/instructions.ipynb#ch0000095?line=0'>1</a>\u001b[0m \u001b[39mimport\u001b[39;00m \u001b[39mrequests\u001b[39;00m\n\u001b[1;32m      <a href='vscode-notebook-cell:/Users/karina/GitHub/mini-project-iv/notebooks/instructions.ipynb#ch0000095?line=1'>2</a>\u001b[0m URL \u001b[39m=\u001b[39m \u001b[39m\"\u001b[39m\u001b[39mhttp://127.0.0.1:5000/scoring\u001b[39m\u001b[39m\"\u001b[39m\n\u001b[0;32m----> <a href='vscode-notebook-cell:/Users/karina/GitHub/mini-project-iv/notebooks/instructions.ipynb#ch0000095?line=3'>4</a>\u001b[0m r \u001b[39m=\u001b[39m requests\u001b[39m.\u001b[39;49mpost(url \u001b[39m=\u001b[39;49m URL, json \u001b[39m=\u001b[39;49m data)\n",
      "File \u001b[0;32m/opt/homebrew/Caskroom/miniforge/base/envs/base_env/lib/python3.8/site-packages/requests/api.py:115\u001b[0m, in \u001b[0;36mpost\u001b[0;34m(url, data, json, **kwargs)\u001b[0m\n\u001b[1;32m    <a href='file:///opt/homebrew/Caskroom/miniforge/base/envs/base_env/lib/python3.8/site-packages/requests/api.py?line=102'>103</a>\u001b[0m \u001b[39mdef\u001b[39;00m \u001b[39mpost\u001b[39m(url, data\u001b[39m=\u001b[39m\u001b[39mNone\u001b[39;00m, json\u001b[39m=\u001b[39m\u001b[39mNone\u001b[39;00m, \u001b[39m*\u001b[39m\u001b[39m*\u001b[39mkwargs):\n\u001b[1;32m    <a href='file:///opt/homebrew/Caskroom/miniforge/base/envs/base_env/lib/python3.8/site-packages/requests/api.py?line=103'>104</a>\u001b[0m     \u001b[39mr\u001b[39m\u001b[39m\"\"\"Sends a POST request.\u001b[39;00m\n\u001b[1;32m    <a href='file:///opt/homebrew/Caskroom/miniforge/base/envs/base_env/lib/python3.8/site-packages/requests/api.py?line=104'>105</a>\u001b[0m \n\u001b[1;32m    <a href='file:///opt/homebrew/Caskroom/miniforge/base/envs/base_env/lib/python3.8/site-packages/requests/api.py?line=105'>106</a>\u001b[0m \u001b[39m    :param url: URL for the new :class:`Request` object.\u001b[39;00m\n\u001b[0;32m   (...)\u001b[0m\n\u001b[1;32m    <a href='file:///opt/homebrew/Caskroom/miniforge/base/envs/base_env/lib/python3.8/site-packages/requests/api.py?line=111'>112</a>\u001b[0m \u001b[39m    :rtype: requests.Response\u001b[39;00m\n\u001b[1;32m    <a href='file:///opt/homebrew/Caskroom/miniforge/base/envs/base_env/lib/python3.8/site-packages/requests/api.py?line=112'>113</a>\u001b[0m \u001b[39m    \"\"\"\u001b[39;00m\n\u001b[0;32m--> <a href='file:///opt/homebrew/Caskroom/miniforge/base/envs/base_env/lib/python3.8/site-packages/requests/api.py?line=114'>115</a>\u001b[0m     \u001b[39mreturn\u001b[39;00m request(\u001b[39m\"\u001b[39;49m\u001b[39mpost\u001b[39;49m\u001b[39m\"\u001b[39;49m, url, data\u001b[39m=\u001b[39;49mdata, json\u001b[39m=\u001b[39;49mjson, \u001b[39m*\u001b[39;49m\u001b[39m*\u001b[39;49mkwargs)\n",
      "File \u001b[0;32m/opt/homebrew/Caskroom/miniforge/base/envs/base_env/lib/python3.8/site-packages/requests/api.py:59\u001b[0m, in \u001b[0;36mrequest\u001b[0;34m(method, url, **kwargs)\u001b[0m\n\u001b[1;32m     <a href='file:///opt/homebrew/Caskroom/miniforge/base/envs/base_env/lib/python3.8/site-packages/requests/api.py?line=54'>55</a>\u001b[0m \u001b[39m# By using the 'with' statement we are sure the session is closed, thus we\u001b[39;00m\n\u001b[1;32m     <a href='file:///opt/homebrew/Caskroom/miniforge/base/envs/base_env/lib/python3.8/site-packages/requests/api.py?line=55'>56</a>\u001b[0m \u001b[39m# avoid leaving sockets open which can trigger a ResourceWarning in some\u001b[39;00m\n\u001b[1;32m     <a href='file:///opt/homebrew/Caskroom/miniforge/base/envs/base_env/lib/python3.8/site-packages/requests/api.py?line=56'>57</a>\u001b[0m \u001b[39m# cases, and look like a memory leak in others.\u001b[39;00m\n\u001b[1;32m     <a href='file:///opt/homebrew/Caskroom/miniforge/base/envs/base_env/lib/python3.8/site-packages/requests/api.py?line=57'>58</a>\u001b[0m \u001b[39mwith\u001b[39;00m sessions\u001b[39m.\u001b[39mSession() \u001b[39mas\u001b[39;00m session:\n\u001b[0;32m---> <a href='file:///opt/homebrew/Caskroom/miniforge/base/envs/base_env/lib/python3.8/site-packages/requests/api.py?line=58'>59</a>\u001b[0m     \u001b[39mreturn\u001b[39;00m session\u001b[39m.\u001b[39;49mrequest(method\u001b[39m=\u001b[39;49mmethod, url\u001b[39m=\u001b[39;49murl, \u001b[39m*\u001b[39;49m\u001b[39m*\u001b[39;49mkwargs)\n",
      "File \u001b[0;32m/opt/homebrew/Caskroom/miniforge/base/envs/base_env/lib/python3.8/site-packages/requests/sessions.py:573\u001b[0m, in \u001b[0;36mSession.request\u001b[0;34m(self, method, url, params, data, headers, cookies, files, auth, timeout, allow_redirects, proxies, hooks, stream, verify, cert, json)\u001b[0m\n\u001b[1;32m    <a href='file:///opt/homebrew/Caskroom/miniforge/base/envs/base_env/lib/python3.8/site-packages/requests/sessions.py?line=559'>560</a>\u001b[0m \u001b[39m# Create the Request.\u001b[39;00m\n\u001b[1;32m    <a href='file:///opt/homebrew/Caskroom/miniforge/base/envs/base_env/lib/python3.8/site-packages/requests/sessions.py?line=560'>561</a>\u001b[0m req \u001b[39m=\u001b[39m Request(\n\u001b[1;32m    <a href='file:///opt/homebrew/Caskroom/miniforge/base/envs/base_env/lib/python3.8/site-packages/requests/sessions.py?line=561'>562</a>\u001b[0m     method\u001b[39m=\u001b[39mmethod\u001b[39m.\u001b[39mupper(),\n\u001b[1;32m    <a href='file:///opt/homebrew/Caskroom/miniforge/base/envs/base_env/lib/python3.8/site-packages/requests/sessions.py?line=562'>563</a>\u001b[0m     url\u001b[39m=\u001b[39murl,\n\u001b[0;32m   (...)\u001b[0m\n\u001b[1;32m    <a href='file:///opt/homebrew/Caskroom/miniforge/base/envs/base_env/lib/python3.8/site-packages/requests/sessions.py?line=570'>571</a>\u001b[0m     hooks\u001b[39m=\u001b[39mhooks,\n\u001b[1;32m    <a href='file:///opt/homebrew/Caskroom/miniforge/base/envs/base_env/lib/python3.8/site-packages/requests/sessions.py?line=571'>572</a>\u001b[0m )\n\u001b[0;32m--> <a href='file:///opt/homebrew/Caskroom/miniforge/base/envs/base_env/lib/python3.8/site-packages/requests/sessions.py?line=572'>573</a>\u001b[0m prep \u001b[39m=\u001b[39m \u001b[39mself\u001b[39;49m\u001b[39m.\u001b[39;49mprepare_request(req)\n\u001b[1;32m    <a href='file:///opt/homebrew/Caskroom/miniforge/base/envs/base_env/lib/python3.8/site-packages/requests/sessions.py?line=574'>575</a>\u001b[0m proxies \u001b[39m=\u001b[39m proxies \u001b[39mor\u001b[39;00m {}\n\u001b[1;32m    <a href='file:///opt/homebrew/Caskroom/miniforge/base/envs/base_env/lib/python3.8/site-packages/requests/sessions.py?line=576'>577</a>\u001b[0m settings \u001b[39m=\u001b[39m \u001b[39mself\u001b[39m\u001b[39m.\u001b[39mmerge_environment_settings(\n\u001b[1;32m    <a href='file:///opt/homebrew/Caskroom/miniforge/base/envs/base_env/lib/python3.8/site-packages/requests/sessions.py?line=577'>578</a>\u001b[0m     prep\u001b[39m.\u001b[39murl, proxies, stream, verify, cert\n\u001b[1;32m    <a href='file:///opt/homebrew/Caskroom/miniforge/base/envs/base_env/lib/python3.8/site-packages/requests/sessions.py?line=578'>579</a>\u001b[0m )\n",
      "File \u001b[0;32m/opt/homebrew/Caskroom/miniforge/base/envs/base_env/lib/python3.8/site-packages/requests/sessions.py:484\u001b[0m, in \u001b[0;36mSession.prepare_request\u001b[0;34m(self, request)\u001b[0m\n\u001b[1;32m    <a href='file:///opt/homebrew/Caskroom/miniforge/base/envs/base_env/lib/python3.8/site-packages/requests/sessions.py?line=480'>481</a>\u001b[0m     auth \u001b[39m=\u001b[39m get_netrc_auth(request\u001b[39m.\u001b[39murl)\n\u001b[1;32m    <a href='file:///opt/homebrew/Caskroom/miniforge/base/envs/base_env/lib/python3.8/site-packages/requests/sessions.py?line=482'>483</a>\u001b[0m p \u001b[39m=\u001b[39m PreparedRequest()\n\u001b[0;32m--> <a href='file:///opt/homebrew/Caskroom/miniforge/base/envs/base_env/lib/python3.8/site-packages/requests/sessions.py?line=483'>484</a>\u001b[0m p\u001b[39m.\u001b[39;49mprepare(\n\u001b[1;32m    <a href='file:///opt/homebrew/Caskroom/miniforge/base/envs/base_env/lib/python3.8/site-packages/requests/sessions.py?line=484'>485</a>\u001b[0m     method\u001b[39m=\u001b[39;49mrequest\u001b[39m.\u001b[39;49mmethod\u001b[39m.\u001b[39;49mupper(),\n\u001b[1;32m    <a href='file:///opt/homebrew/Caskroom/miniforge/base/envs/base_env/lib/python3.8/site-packages/requests/sessions.py?line=485'>486</a>\u001b[0m     url\u001b[39m=\u001b[39;49mrequest\u001b[39m.\u001b[39;49murl,\n\u001b[1;32m    <a href='file:///opt/homebrew/Caskroom/miniforge/base/envs/base_env/lib/python3.8/site-packages/requests/sessions.py?line=486'>487</a>\u001b[0m     files\u001b[39m=\u001b[39;49mrequest\u001b[39m.\u001b[39;49mfiles,\n\u001b[1;32m    <a href='file:///opt/homebrew/Caskroom/miniforge/base/envs/base_env/lib/python3.8/site-packages/requests/sessions.py?line=487'>488</a>\u001b[0m     data\u001b[39m=\u001b[39;49mrequest\u001b[39m.\u001b[39;49mdata,\n\u001b[1;32m    <a href='file:///opt/homebrew/Caskroom/miniforge/base/envs/base_env/lib/python3.8/site-packages/requests/sessions.py?line=488'>489</a>\u001b[0m     json\u001b[39m=\u001b[39;49mrequest\u001b[39m.\u001b[39;49mjson,\n\u001b[1;32m    <a href='file:///opt/homebrew/Caskroom/miniforge/base/envs/base_env/lib/python3.8/site-packages/requests/sessions.py?line=489'>490</a>\u001b[0m     headers\u001b[39m=\u001b[39;49mmerge_setting(\n\u001b[1;32m    <a href='file:///opt/homebrew/Caskroom/miniforge/base/envs/base_env/lib/python3.8/site-packages/requests/sessions.py?line=490'>491</a>\u001b[0m         request\u001b[39m.\u001b[39;49mheaders, \u001b[39mself\u001b[39;49m\u001b[39m.\u001b[39;49mheaders, dict_class\u001b[39m=\u001b[39;49mCaseInsensitiveDict\n\u001b[1;32m    <a href='file:///opt/homebrew/Caskroom/miniforge/base/envs/base_env/lib/python3.8/site-packages/requests/sessions.py?line=491'>492</a>\u001b[0m     ),\n\u001b[1;32m    <a href='file:///opt/homebrew/Caskroom/miniforge/base/envs/base_env/lib/python3.8/site-packages/requests/sessions.py?line=492'>493</a>\u001b[0m     params\u001b[39m=\u001b[39;49mmerge_setting(request\u001b[39m.\u001b[39;49mparams, \u001b[39mself\u001b[39;49m\u001b[39m.\u001b[39;49mparams),\n\u001b[1;32m    <a href='file:///opt/homebrew/Caskroom/miniforge/base/envs/base_env/lib/python3.8/site-packages/requests/sessions.py?line=493'>494</a>\u001b[0m     auth\u001b[39m=\u001b[39;49mmerge_setting(auth, \u001b[39mself\u001b[39;49m\u001b[39m.\u001b[39;49mauth),\n\u001b[1;32m    <a href='file:///opt/homebrew/Caskroom/miniforge/base/envs/base_env/lib/python3.8/site-packages/requests/sessions.py?line=494'>495</a>\u001b[0m     cookies\u001b[39m=\u001b[39;49mmerged_cookies,\n\u001b[1;32m    <a href='file:///opt/homebrew/Caskroom/miniforge/base/envs/base_env/lib/python3.8/site-packages/requests/sessions.py?line=495'>496</a>\u001b[0m     hooks\u001b[39m=\u001b[39;49mmerge_hooks(request\u001b[39m.\u001b[39;49mhooks, \u001b[39mself\u001b[39;49m\u001b[39m.\u001b[39;49mhooks),\n\u001b[1;32m    <a href='file:///opt/homebrew/Caskroom/miniforge/base/envs/base_env/lib/python3.8/site-packages/requests/sessions.py?line=496'>497</a>\u001b[0m )\n\u001b[1;32m    <a href='file:///opt/homebrew/Caskroom/miniforge/base/envs/base_env/lib/python3.8/site-packages/requests/sessions.py?line=497'>498</a>\u001b[0m \u001b[39mreturn\u001b[39;00m p\n",
      "File \u001b[0;32m/opt/homebrew/Caskroom/miniforge/base/envs/base_env/lib/python3.8/site-packages/requests/models.py:371\u001b[0m, in \u001b[0;36mPreparedRequest.prepare\u001b[0;34m(self, method, url, headers, files, data, params, auth, cookies, hooks, json)\u001b[0m\n\u001b[1;32m    <a href='file:///opt/homebrew/Caskroom/miniforge/base/envs/base_env/lib/python3.8/site-packages/requests/models.py?line=368'>369</a>\u001b[0m \u001b[39mself\u001b[39m\u001b[39m.\u001b[39mprepare_headers(headers)\n\u001b[1;32m    <a href='file:///opt/homebrew/Caskroom/miniforge/base/envs/base_env/lib/python3.8/site-packages/requests/models.py?line=369'>370</a>\u001b[0m \u001b[39mself\u001b[39m\u001b[39m.\u001b[39mprepare_cookies(cookies)\n\u001b[0;32m--> <a href='file:///opt/homebrew/Caskroom/miniforge/base/envs/base_env/lib/python3.8/site-packages/requests/models.py?line=370'>371</a>\u001b[0m \u001b[39mself\u001b[39;49m\u001b[39m.\u001b[39;49mprepare_body(data, files, json)\n\u001b[1;32m    <a href='file:///opt/homebrew/Caskroom/miniforge/base/envs/base_env/lib/python3.8/site-packages/requests/models.py?line=371'>372</a>\u001b[0m \u001b[39mself\u001b[39m\u001b[39m.\u001b[39mprepare_auth(auth, url)\n\u001b[1;32m    <a href='file:///opt/homebrew/Caskroom/miniforge/base/envs/base_env/lib/python3.8/site-packages/requests/models.py?line=373'>374</a>\u001b[0m \u001b[39m# Note that prepare_auth must be last to enable authentication schemes\u001b[39;00m\n\u001b[1;32m    <a href='file:///opt/homebrew/Caskroom/miniforge/base/envs/base_env/lib/python3.8/site-packages/requests/models.py?line=374'>375</a>\u001b[0m \u001b[39m# such as OAuth to work on a fully prepared request.\u001b[39;00m\n\u001b[1;32m    <a href='file:///opt/homebrew/Caskroom/miniforge/base/envs/base_env/lib/python3.8/site-packages/requests/models.py?line=375'>376</a>\u001b[0m \n\u001b[1;32m    <a href='file:///opt/homebrew/Caskroom/miniforge/base/envs/base_env/lib/python3.8/site-packages/requests/models.py?line=376'>377</a>\u001b[0m \u001b[39m# This MUST go after prepare_auth. Authenticators could add a hook\u001b[39;00m\n",
      "File \u001b[0;32m/opt/homebrew/Caskroom/miniforge/base/envs/base_env/lib/python3.8/site-packages/requests/models.py:511\u001b[0m, in \u001b[0;36mPreparedRequest.prepare_body\u001b[0;34m(self, data, files, json)\u001b[0m\n\u001b[1;32m    <a href='file:///opt/homebrew/Caskroom/miniforge/base/envs/base_env/lib/python3.8/site-packages/requests/models.py?line=507'>508</a>\u001b[0m content_type \u001b[39m=\u001b[39m \u001b[39m\"\u001b[39m\u001b[39mapplication/json\u001b[39m\u001b[39m\"\u001b[39m\n\u001b[1;32m    <a href='file:///opt/homebrew/Caskroom/miniforge/base/envs/base_env/lib/python3.8/site-packages/requests/models.py?line=509'>510</a>\u001b[0m \u001b[39mtry\u001b[39;00m:\n\u001b[0;32m--> <a href='file:///opt/homebrew/Caskroom/miniforge/base/envs/base_env/lib/python3.8/site-packages/requests/models.py?line=510'>511</a>\u001b[0m     body \u001b[39m=\u001b[39m complexjson\u001b[39m.\u001b[39;49mdumps(json, allow_nan\u001b[39m=\u001b[39;49m\u001b[39mFalse\u001b[39;49;00m)\n\u001b[1;32m    <a href='file:///opt/homebrew/Caskroom/miniforge/base/envs/base_env/lib/python3.8/site-packages/requests/models.py?line=511'>512</a>\u001b[0m \u001b[39mexcept\u001b[39;00m \u001b[39mValueError\u001b[39;00m \u001b[39mas\u001b[39;00m ve:\n\u001b[1;32m    <a href='file:///opt/homebrew/Caskroom/miniforge/base/envs/base_env/lib/python3.8/site-packages/requests/models.py?line=512'>513</a>\u001b[0m     \u001b[39mraise\u001b[39;00m InvalidJSONError(ve, request\u001b[39m=\u001b[39m\u001b[39mself\u001b[39m)\n",
      "File \u001b[0;32m/opt/homebrew/Caskroom/miniforge/base/envs/base_env/lib/python3.8/json/__init__.py:234\u001b[0m, in \u001b[0;36mdumps\u001b[0;34m(obj, skipkeys, ensure_ascii, check_circular, allow_nan, cls, indent, separators, default, sort_keys, **kw)\u001b[0m\n\u001b[1;32m    <a href='file:///opt/homebrew/Caskroom/miniforge/base/envs/base_env/lib/python3.8/json/__init__.py?line=231'>232</a>\u001b[0m \u001b[39mif\u001b[39;00m \u001b[39mcls\u001b[39m \u001b[39mis\u001b[39;00m \u001b[39mNone\u001b[39;00m:\n\u001b[1;32m    <a href='file:///opt/homebrew/Caskroom/miniforge/base/envs/base_env/lib/python3.8/json/__init__.py?line=232'>233</a>\u001b[0m     \u001b[39mcls\u001b[39m \u001b[39m=\u001b[39m JSONEncoder\n\u001b[0;32m--> <a href='file:///opt/homebrew/Caskroom/miniforge/base/envs/base_env/lib/python3.8/json/__init__.py?line=233'>234</a>\u001b[0m \u001b[39mreturn\u001b[39;00m \u001b[39mcls\u001b[39;49m(\n\u001b[1;32m    <a href='file:///opt/homebrew/Caskroom/miniforge/base/envs/base_env/lib/python3.8/json/__init__.py?line=234'>235</a>\u001b[0m     skipkeys\u001b[39m=\u001b[39;49mskipkeys, ensure_ascii\u001b[39m=\u001b[39;49mensure_ascii,\n\u001b[1;32m    <a href='file:///opt/homebrew/Caskroom/miniforge/base/envs/base_env/lib/python3.8/json/__init__.py?line=235'>236</a>\u001b[0m     check_circular\u001b[39m=\u001b[39;49mcheck_circular, allow_nan\u001b[39m=\u001b[39;49mallow_nan, indent\u001b[39m=\u001b[39;49mindent,\n\u001b[1;32m    <a href='file:///opt/homebrew/Caskroom/miniforge/base/envs/base_env/lib/python3.8/json/__init__.py?line=236'>237</a>\u001b[0m     separators\u001b[39m=\u001b[39;49mseparators, default\u001b[39m=\u001b[39;49mdefault, sort_keys\u001b[39m=\u001b[39;49msort_keys,\n\u001b[1;32m    <a href='file:///opt/homebrew/Caskroom/miniforge/base/envs/base_env/lib/python3.8/json/__init__.py?line=237'>238</a>\u001b[0m     \u001b[39m*\u001b[39;49m\u001b[39m*\u001b[39;49mkw)\u001b[39m.\u001b[39;49mencode(obj)\n",
      "File \u001b[0;32m/opt/homebrew/Caskroom/miniforge/base/envs/base_env/lib/python3.8/json/encoder.py:199\u001b[0m, in \u001b[0;36mJSONEncoder.encode\u001b[0;34m(self, o)\u001b[0m\n\u001b[1;32m    <a href='file:///opt/homebrew/Caskroom/miniforge/base/envs/base_env/lib/python3.8/json/encoder.py?line=194'>195</a>\u001b[0m         \u001b[39mreturn\u001b[39;00m encode_basestring(o)\n\u001b[1;32m    <a href='file:///opt/homebrew/Caskroom/miniforge/base/envs/base_env/lib/python3.8/json/encoder.py?line=195'>196</a>\u001b[0m \u001b[39m# This doesn't pass the iterator directly to ''.join() because the\u001b[39;00m\n\u001b[1;32m    <a href='file:///opt/homebrew/Caskroom/miniforge/base/envs/base_env/lib/python3.8/json/encoder.py?line=196'>197</a>\u001b[0m \u001b[39m# exceptions aren't as detailed.  The list call should be roughly\u001b[39;00m\n\u001b[1;32m    <a href='file:///opt/homebrew/Caskroom/miniforge/base/envs/base_env/lib/python3.8/json/encoder.py?line=197'>198</a>\u001b[0m \u001b[39m# equivalent to the PySequence_Fast that ''.join() would do.\u001b[39;00m\n\u001b[0;32m--> <a href='file:///opt/homebrew/Caskroom/miniforge/base/envs/base_env/lib/python3.8/json/encoder.py?line=198'>199</a>\u001b[0m chunks \u001b[39m=\u001b[39m \u001b[39mself\u001b[39;49m\u001b[39m.\u001b[39;49miterencode(o, _one_shot\u001b[39m=\u001b[39;49m\u001b[39mTrue\u001b[39;49;00m)\n\u001b[1;32m    <a href='file:///opt/homebrew/Caskroom/miniforge/base/envs/base_env/lib/python3.8/json/encoder.py?line=199'>200</a>\u001b[0m \u001b[39mif\u001b[39;00m \u001b[39mnot\u001b[39;00m \u001b[39misinstance\u001b[39m(chunks, (\u001b[39mlist\u001b[39m, \u001b[39mtuple\u001b[39m)):\n\u001b[1;32m    <a href='file:///opt/homebrew/Caskroom/miniforge/base/envs/base_env/lib/python3.8/json/encoder.py?line=200'>201</a>\u001b[0m     chunks \u001b[39m=\u001b[39m \u001b[39mlist\u001b[39m(chunks)\n",
      "File \u001b[0;32m/opt/homebrew/Caskroom/miniforge/base/envs/base_env/lib/python3.8/json/encoder.py:257\u001b[0m, in \u001b[0;36mJSONEncoder.iterencode\u001b[0;34m(self, o, _one_shot)\u001b[0m\n\u001b[1;32m    <a href='file:///opt/homebrew/Caskroom/miniforge/base/envs/base_env/lib/python3.8/json/encoder.py?line=251'>252</a>\u001b[0m \u001b[39melse\u001b[39;00m:\n\u001b[1;32m    <a href='file:///opt/homebrew/Caskroom/miniforge/base/envs/base_env/lib/python3.8/json/encoder.py?line=252'>253</a>\u001b[0m     _iterencode \u001b[39m=\u001b[39m _make_iterencode(\n\u001b[1;32m    <a href='file:///opt/homebrew/Caskroom/miniforge/base/envs/base_env/lib/python3.8/json/encoder.py?line=253'>254</a>\u001b[0m         markers, \u001b[39mself\u001b[39m\u001b[39m.\u001b[39mdefault, _encoder, \u001b[39mself\u001b[39m\u001b[39m.\u001b[39mindent, floatstr,\n\u001b[1;32m    <a href='file:///opt/homebrew/Caskroom/miniforge/base/envs/base_env/lib/python3.8/json/encoder.py?line=254'>255</a>\u001b[0m         \u001b[39mself\u001b[39m\u001b[39m.\u001b[39mkey_separator, \u001b[39mself\u001b[39m\u001b[39m.\u001b[39mitem_separator, \u001b[39mself\u001b[39m\u001b[39m.\u001b[39msort_keys,\n\u001b[1;32m    <a href='file:///opt/homebrew/Caskroom/miniforge/base/envs/base_env/lib/python3.8/json/encoder.py?line=255'>256</a>\u001b[0m         \u001b[39mself\u001b[39m\u001b[39m.\u001b[39mskipkeys, _one_shot)\n\u001b[0;32m--> <a href='file:///opt/homebrew/Caskroom/miniforge/base/envs/base_env/lib/python3.8/json/encoder.py?line=256'>257</a>\u001b[0m \u001b[39mreturn\u001b[39;00m _iterencode(o, \u001b[39m0\u001b[39;49m)\n",
      "File \u001b[0;32m/opt/homebrew/Caskroom/miniforge/base/envs/base_env/lib/python3.8/json/encoder.py:179\u001b[0m, in \u001b[0;36mJSONEncoder.default\u001b[0;34m(self, o)\u001b[0m\n\u001b[1;32m    <a href='file:///opt/homebrew/Caskroom/miniforge/base/envs/base_env/lib/python3.8/json/encoder.py?line=159'>160</a>\u001b[0m \u001b[39mdef\u001b[39;00m \u001b[39mdefault\u001b[39m(\u001b[39mself\u001b[39m, o):\n\u001b[1;32m    <a href='file:///opt/homebrew/Caskroom/miniforge/base/envs/base_env/lib/python3.8/json/encoder.py?line=160'>161</a>\u001b[0m     \u001b[39m\"\"\"Implement this method in a subclass such that it returns\u001b[39;00m\n\u001b[1;32m    <a href='file:///opt/homebrew/Caskroom/miniforge/base/envs/base_env/lib/python3.8/json/encoder.py?line=161'>162</a>\u001b[0m \u001b[39m    a serializable object for ``o``, or calls the base implementation\u001b[39;00m\n\u001b[1;32m    <a href='file:///opt/homebrew/Caskroom/miniforge/base/envs/base_env/lib/python3.8/json/encoder.py?line=162'>163</a>\u001b[0m \u001b[39m    (to raise a ``TypeError``).\u001b[39;00m\n\u001b[0;32m   (...)\u001b[0m\n\u001b[1;32m    <a href='file:///opt/homebrew/Caskroom/miniforge/base/envs/base_env/lib/python3.8/json/encoder.py?line=176'>177</a>\u001b[0m \n\u001b[1;32m    <a href='file:///opt/homebrew/Caskroom/miniforge/base/envs/base_env/lib/python3.8/json/encoder.py?line=177'>178</a>\u001b[0m \u001b[39m    \"\"\"\u001b[39;00m\n\u001b[0;32m--> <a href='file:///opt/homebrew/Caskroom/miniforge/base/envs/base_env/lib/python3.8/json/encoder.py?line=178'>179</a>\u001b[0m     \u001b[39mraise\u001b[39;00m \u001b[39mTypeError\u001b[39;00m(\u001b[39mf\u001b[39m\u001b[39m'\u001b[39m\u001b[39mObject of type \u001b[39m\u001b[39m{\u001b[39;00mo\u001b[39m.\u001b[39m\u001b[39m__class__\u001b[39m\u001b[39m.\u001b[39m\u001b[39m__name__\u001b[39m\u001b[39m}\u001b[39;00m\u001b[39m \u001b[39m\u001b[39m'\u001b[39m\n\u001b[1;32m    <a href='file:///opt/homebrew/Caskroom/miniforge/base/envs/base_env/lib/python3.8/json/encoder.py?line=179'>180</a>\u001b[0m                     \u001b[39mf\u001b[39m\u001b[39m'\u001b[39m\u001b[39mis not JSON serializable\u001b[39m\u001b[39m'\u001b[39m)\n",
      "\u001b[0;31mTypeError\u001b[0m: Object of type DataFrame is not JSON serializable"
     ]
    }
   ],
   "source": [
    "import requests\n",
    "URL = \"http://127.0.0.1:5000/scoring\"\n",
    "\n",
    "r = requests.post(url = URL, json = data) "
   ]
  },
  {
   "cell_type": "code",
   "execution_count": null,
   "metadata": {},
   "outputs": [
    {
     "ename": "NameError",
     "evalue": "name 'r' is not defined",
     "output_type": "error",
     "traceback": [
      "\u001b[0;31m---------------------------------------------------------------------------\u001b[0m",
      "\u001b[0;31mNameError\u001b[0m                                 Traceback (most recent call last)",
      "\u001b[1;32m/Users/karina/GitHub/mini-project-iv/notebooks/instructions.ipynb Cell 77'\u001b[0m in \u001b[0;36m<cell line: 1>\u001b[0;34m()\u001b[0m\n\u001b[0;32m----> <a href='vscode-notebook-cell:/Users/karina/GitHub/mini-project-iv/notebooks/instructions.ipynb#ch0000096?line=0'>1</a>\u001b[0m \u001b[39mprint\u001b[39m(r\u001b[39m.\u001b[39mjson())\n",
      "\u001b[0;31mNameError\u001b[0m: name 'r' is not defined"
     ]
    }
   ],
   "source": [
    "print(r.json())"
   ]
  },
  {
   "cell_type": "code",
   "execution_count": null,
   "metadata": {},
   "outputs": [],
   "source": []
  }
 ],
 "metadata": {
  "interpreter": {
   "hash": "39512f3c2a1741d7f752d45a133d4514127029333ea14bc2f3c6c5e6759b9029"
  },
  "kernelspec": {
   "display_name": "Python 3.8.13 ('base_env')",
   "language": "python",
   "name": "python3"
  },
  "language_info": {
   "codemirror_mode": {
    "name": "ipython",
    "version": 3
   },
   "file_extension": ".py",
   "mimetype": "text/x-python",
   "name": "python",
   "nbconvert_exporter": "python",
   "pygments_lexer": "ipython3",
   "version": "3.8.13"
  }
 },
 "nbformat": 4,
 "nbformat_minor": 4
}
